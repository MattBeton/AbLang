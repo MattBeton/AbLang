{
 "cells": [
  {
   "cell_type": "code",
   "execution_count": 1,
   "id": "e391a8b6-1b26-427f-beec-7a367e8293b1",
   "metadata": {},
   "outputs": [],
   "source": [
    "%load_ext autoreload\n",
    "%autoreload 2\n",
    "\n",
    "import sys, glob, os, gzip\n",
    "sys.path.insert(1, os.path.join(sys.path[0], '..'))\n",
    "\n",
    "import pandas as pd\n",
    "\n",
    "import torch"
   ]
  },
  {
   "cell_type": "code",
   "execution_count": 31,
   "id": "197e341d-f1bd-4909-a22f-afab59d32161",
   "metadata": {},
   "outputs": [],
   "source": [
    "from ablang_train.models.ablang_1 import AbLang"
   ]
  },
  {
   "cell_type": "code",
   "execution_count": 46,
   "id": "96f37051-a044-47e1-a97b-88a61c88d4e3",
   "metadata": {},
   "outputs": [],
   "source": [
    "ablang = AbLang(vocab_size=4,\n",
    "        hidden_embed_size=16,\n",
    "        n_attn_heads=4,\n",
    "        n_encoder_blocks=2,\n",
    "        padding_tkn=3,\n",
    "        mask_tkn=4,)"
   ]
  },
  {
   "cell_type": "code",
   "execution_count": 57,
   "id": "e2cb82c8-a651-4c51-a0d1-b41463a1b4f6",
   "metadata": {},
   "outputs": [
    {
     "data": {
      "text/plain": [
       "tensor([[0, 1, 2, 3],\n",
       "        [2, 1, 3, 3],\n",
       "        [1, 1, 2, 2]])"
      ]
     },
     "execution_count": 57,
     "metadata": {},
     "output_type": "execute_result"
    }
   ],
   "source": [
    "tokens = torch.tensor([\n",
    "    [0,1,2,3],\n",
    "    [2,1,3,3],\n",
    "    [1,1,2,2],\n",
    "                      ], dtype=torch.long)\n",
    "tokens"
   ]
  },
  {
   "cell_type": "code",
   "execution_count": 58,
   "id": "ada29f10-7d9d-45ff-9c76-17978f63379c",
   "metadata": {
    "tags": []
   },
   "outputs": [
    {
     "data": {
      "text/plain": [
       "tensor([[[ 1.9118, -0.5340,  3.6095,  0.0000],\n",
       "         [ 0.6133, -3.3866,  0.3624,  0.0000],\n",
       "         [ 3.4098,  0.5666, -2.3750,  0.0000],\n",
       "         [ 2.5832, -3.4999,  1.8509,  0.0000]],\n",
       "\n",
       "        [[ 4.6715,  1.1859, -3.8905,  0.0000],\n",
       "         [ 1.9617, -1.9063,  0.5709,  0.0000],\n",
       "         [ 0.7984, -1.3273,  0.8061,  0.0000],\n",
       "         [ 0.8763, -1.3053,  0.7387,  0.0000]],\n",
       "\n",
       "        [[ 2.1542, -1.9105,  0.5294,  0.0000],\n",
       "         [ 1.8301, -1.7301,  0.5806,  0.0000],\n",
       "         [ 4.1648,  1.2649, -3.5977,  0.0000],\n",
       "         [ 4.5895,  1.0011, -3.6236,  0.0000]]], grad_fn=<AddBackward0>)"
      ]
     },
     "execution_count": 58,
     "metadata": {},
     "output_type": "execute_result"
    }
   ],
   "source": [
    "ablang(tokens, return_rep_layers=[])"
   ]
  }
 ],
 "metadata": {
  "kernelspec": {
   "display_name": "ablang-train",
   "language": "python",
   "name": "ablang-train"
  },
  "language_info": {
   "codemirror_mode": {
    "name": "ipython",
    "version": 3
   },
   "file_extension": ".py",
   "mimetype": "text/x-python",
   "name": "python",
   "nbconvert_exporter": "python",
   "pygments_lexer": "ipython3",
   "version": "3.8.13"
  }
 },
 "nbformat": 4,
 "nbformat_minor": 5
}
