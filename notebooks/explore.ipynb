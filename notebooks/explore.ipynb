{
 "cells": [
  {
   "cell_type": "code",
   "execution_count": 1,
   "id": "e391a8b6-1b26-427f-beec-7a367e8293b1",
   "metadata": {},
   "outputs": [
    {
     "name": "stderr",
     "output_type": "stream",
     "text": [
      "/data/iraqbabbler/olsen/miniconda3/envs/ablang-test/lib/python3.10/site-packages/neptune/internal/backends/hosted_client.py:50: NeptuneDeprecationWarning: The 'neptune-client' package has been deprecated and will be removed in the future. Install the 'neptune' package instead. For more, see https://docs.neptune.ai/setup/upgrading/\n",
      "  from neptune.version import version as neptune_client_version\n",
      "/data/iraqbabbler/olsen/Documents/projects/AbLang/model-catalogue/paired-ablang/train_ablang_pair/notebooks/../ablang_train/evaluation/eval_plots.py:6: NeptuneDeprecationWarning: You're importing the Neptune client library via the deprecated `neptune.new` module, which will be removed in a future release. Import directly from `neptune` instead.\n",
      "  from neptune.new.types import File\n",
      "/data/iraqbabbler/olsen/miniconda3/envs/ablang-test/lib/python3.10/site-packages/tqdm/auto.py:21: TqdmWarning: IProgress not found. Please update jupyter and ipywidgets. See https://ipywidgets.readthedocs.io/en/stable/user_install.html\n",
      "  from .autonotebook import tqdm as notebook_tqdm\n"
     ]
    }
   ],
   "source": [
    "%load_ext autoreload\n",
    "%autoreload 2\n",
    "\n",
    "import sys, glob, os, gzip\n",
    "sys.path.insert(1, os.path.join(sys.path[0], '..'))\n",
    "\n",
    "import pandas as pd\n",
    "import anarci\n",
    "import torch\n",
    "\n",
    "from ablang_train import models"
   ]
  },
  {
   "cell_type": "code",
   "execution_count": null,
   "id": "fd1b10ca-ebf3-44a9-961d-92e66bf7612b",
   "metadata": {},
   "outputs": [],
   "source": []
  },
  {
   "cell_type": "code",
   "execution_count": 10,
   "id": "c809c807-333f-4030-8438-743b6413e692",
   "metadata": {},
   "outputs": [
    {
     "data": {
      "text/plain": [
       "tensor(True)"
      ]
     },
     "execution_count": 10,
     "metadata": {},
     "output_type": "execute_result"
    }
   ],
   "source": [
    "torch.any(torch.zeros(5,5).sum(-1) == 0)"
   ]
  },
  {
   "cell_type": "code",
   "execution_count": null,
   "id": "ee28c642-7905-4e4d-b0e8-ceded21cceba",
   "metadata": {},
   "outputs": [],
   "source": []
  },
  {
   "cell_type": "code",
   "execution_count": null,
   "id": "12242aa6-1766-47ec-bc85-b0d52f82c89d",
   "metadata": {},
   "outputs": [],
   "source": [
    "stop_start_mask = ((tkn_sequences == start_tkn) | (tkn_sequences == sep_tkn) | (tkn_sequences == end_tkn))\n",
    "attention_mask = tkn_sequences.eq(pad_tkn)"
   ]
  },
  {
   "cell_type": "code",
   "execution_count": null,
   "id": "5d104955-8928-49db-9355-2fd90fc69334",
   "metadata": {},
   "outputs": [],
   "source": []
  },
  {
   "cell_type": "code",
   "execution_count": null,
   "id": "f57dd441-411f-473e-9189-cdb005b37ec7",
   "metadata": {},
   "outputs": [],
   "source": []
  },
  {
   "cell_type": "code",
   "execution_count": null,
   "id": "447ad685-2193-407d-8ea0-0d48cd805e9b",
   "metadata": {},
   "outputs": [],
   "source": []
  },
  {
   "cell_type": "code",
   "execution_count": null,
   "id": "c79e22a0-22a2-4cbc-b6fd-48c8c210154b",
   "metadata": {},
   "outputs": [],
   "source": []
  },
  {
   "cell_type": "code",
   "execution_count": null,
   "id": "ef6a77f9-c825-4f87-85b0-ff6ac3de19bd",
   "metadata": {},
   "outputs": [],
   "source": []
  },
  {
   "cell_type": "code",
   "execution_count": 2,
   "id": "c37ee007-20e3-419d-a6cc-94557d365978",
   "metadata": {},
   "outputs": [],
   "source": [
    "ablang = models.pretrained(\"/vols/bitbucket/olsen/models/ABLANG-661\")"
   ]
  },
  {
   "cell_type": "code",
   "execution_count": 3,
   "id": "31344bc0-41b5-4e54-9ee8-0d55e9a21f1d",
   "metadata": {},
   "outputs": [
    {
     "data": {
      "text/plain": [
       "array([[-2.164027  , -2.8834274 ,  0.09801007, ...,  0.26456448,\n",
       "         1.1914995 , -0.66870725],\n",
       "       [-1.759501  , -0.9823146 ,  0.72185117, ..., -0.730736  ,\n",
       "        -2.2756436 , -0.924139  ],\n",
       "       [ 3.866112  , -0.14706564, -3.3339486 , ..., -4.0146904 ,\n",
       "        -1.6372348 ,  3.301208  ],\n",
       "       ...,\n",
       "       [ 3.6962655 , -1.582366  , -2.37353   , ..., -1.6985986 ,\n",
       "        -2.0767925 ,  4.5142717 ],\n",
       "       [-0.04770621,  1.8520721 ,  0.01791335, ..., -2.3662965 ,\n",
       "        -1.0194056 ,  0.02295871],\n",
       "       [-1.6724012 , -1.6114737 ,  1.4460204 , ...,  0.45212412,\n",
       "        -0.16652943, -2.510954  ]], dtype=float32)"
      ]
     },
     "execution_count": 3,
     "metadata": {},
     "output_type": "execute_result"
    }
   ],
   "source": [
    "heavy = \"EVQLVESGGGLVQPGGSLRLSCAASGFTISDYWIHWVRQAPGKGLEWVAGITPAGGYTYYADSVKGRFTISADTSKNTAYLQMNSLRAEDTAVYYCARFVFFLPYAMDYWGQGTLVTVSS\"\n",
    "light = \"DIQMTQSPSSLSASVGDRVTITCRASQDVSTAVAWYQQKPGKAPKLLIYSASFLYSGVPSRFSGSGSGTDFTLTISSLQPEDFATYYCQQGYGNPFTFGQGTKVEIK\"\n",
    "\n",
    "result = ablang([f'{heavy}|{light}'], mode='likelihood', align=False, chain = 'P', chunk_size = 1000)\n",
    "result[0]"
   ]
  },
  {
   "cell_type": "code",
   "execution_count": 19,
   "id": "cc8c9e32-bc9b-4140-a9bf-85a5e8ef5a27",
   "metadata": {},
   "outputs": [
    {
     "data": {
      "text/plain": [
       "array([[-1.6265507 , -0.76466846,  1.0488011 , ...,  0.20308831,\n",
       "         0.92064905,  0.87101114],\n",
       "       [-1.6396809 , -0.9118601 ,  0.85520834, ..., -0.06923584,\n",
       "         0.8858257 ,  0.7556248 ],\n",
       "       [-1.7047503 , -0.7665389 ,  0.79768384, ...,  0.07204185,\n",
       "         0.82251406,  0.8457953 ],\n",
       "       ...,\n",
       "       [-1.5668651 , -0.69449246,  1.0091399 , ...,  0.17792591,\n",
       "         0.9101691 ,  0.6818116 ],\n",
       "       [-1.6474688 , -0.7110836 ,  0.96593595, ...,  0.06453329,\n",
       "         0.7378652 ,  0.88787246],\n",
       "       [-1.841726  , -0.8145015 ,  0.904251  , ...,  0.03835678,\n",
       "         0.80832326,  0.7647761 ]], dtype=float32)"
      ]
     },
     "execution_count": 19,
     "metadata": {},
     "output_type": "execute_result"
    }
   ],
   "source": [
    "heavy = \"EVQLVESGGGLVQPGGSLRLSCAASGFTISDYWIHWVRQAPGKGLEWVAGITPAGGYTYYADSVKGRFTISADTSKNTAYLQMNSLRAEDTAVYYCARFVFFLPYAMDYWGQGTLVTVSS\"\n",
    "light = \"DIQMTQSPSSLSASVGDRVTITCRASQDVSTAVAWYQQKPGKAPKLLIYSASFLYSGVPSRFSGSGSGTDFTLTISSLQPEDFATYYCQQGYGNPFTFGQGTKVEIK\"\n",
    "\n",
    "result = ablang([f'{heavy}|{light}'], mode='likelihood', align=False, chain = 'P', chunk_size = 1000)\n",
    "result[0]"
   ]
  },
  {
   "cell_type": "code",
   "execution_count": 10,
   "id": "9d1e9a24-8dd7-4346-ace4-1a50187c410e",
   "metadata": {
    "collapsed": true,
    "jupyter": {
     "outputs_hidden": true
    },
    "tags": []
   },
   "outputs": [
    {
     "data": {
      "text/plain": [
       "output(aligned_embeds=array([[[0.040310222655534744, 0.640417754650116, 1.8833683729171753,\n",
       "         ..., -0.2658141255378723, 0.5721692442893982, 'E'],\n",
       "        [-0.7788189649581909, -1.2502435445785522, 1.1870931386947632,\n",
       "         ..., -0.2011411190032959, 1.1120615005493164, 'V'],\n",
       "        [-1.7603570222854614, 0.9453520774841309, -0.3091685175895691,\n",
       "         ..., -0.017082301899790764, -0.6528413891792297, 'Q'],\n",
       "        ...,\n",
       "        [0.4523361325263977, 0.32699862122535706, -0.12754440307617188,\n",
       "         ..., -2.1710174083709717, 0.7342532277107239, 'E'],\n",
       "        [-1.2258671522140503, 0.9089486002922058, 0.03157903626561165,\n",
       "         ..., -0.12463860958814621, 0.9535172581672668, 'I'],\n",
       "        [-0.42751017212867737, 0.2876527011394501, -0.8317191004753113,\n",
       "         ..., -0.7335007190704346, 0.2121279090642929, 'K']],\n",
       "\n",
       "       [[0.040310222655534744, 0.640417754650116, 1.8833683729171753,\n",
       "         ..., -0.2658141255378723, 0.5721692442893982, 'E'],\n",
       "        [-0.7788189649581909, -1.2502435445785522, 1.1870931386947632,\n",
       "         ..., -0.2011411190032959, 1.1120615005493164, 'V'],\n",
       "        [-1.7603570222854614, 0.9453520774841309, -0.3091685175895691,\n",
       "         ..., -0.017082301899790764, -0.6528413891792297, 'Q'],\n",
       "        ...,\n",
       "        [0.4523361325263977, 0.32699862122535706, -0.12754440307617188,\n",
       "         ..., -2.1710174083709717, 0.7342532277107239, 'E'],\n",
       "        [-1.2258671522140503, 0.9089486002922058, 0.03157903626561165,\n",
       "         ..., -0.12463860958814621, 0.9535172581672668, 'I'],\n",
       "        [-0.42751017212867737, 0.2876527011394501, -0.8317191004753113,\n",
       "         ..., -0.7335007190704346, 0.2121279090642929, 'K']],\n",
       "\n",
       "       [[0.040310222655534744, 0.640417754650116, 1.8833683729171753,\n",
       "         ..., -0.2658141255378723, 0.5721692442893982, 'E'],\n",
       "        [-0.7788189649581909, -1.2502435445785522, 1.1870931386947632,\n",
       "         ..., -0.2011411190032959, 1.1120615005493164, 'V'],\n",
       "        [-1.7603570222854614, 0.9453520774841309, -0.3091685175895691,\n",
       "         ..., -0.017082301899790764, -0.6528413891792297, 'Q'],\n",
       "        ...,\n",
       "        [0.4523361325263977, 0.32699862122535706, -0.12754440307617188,\n",
       "         ..., -2.1710174083709717, 0.7342532277107239, 'E'],\n",
       "        [-1.2258671522140503, 0.9089486002922058, 0.03157903626561165,\n",
       "         ..., -0.12463860958814621, 0.9535172581672668, 'I'],\n",
       "        [-0.42751017212867737, 0.2876527011394501, -0.8317191004753113,\n",
       "         ..., -0.7335007190704346, 0.2121279090642929, 'K']],\n",
       "\n",
       "       ...,\n",
       "\n",
       "       [[0.040310222655534744, 0.640417754650116, 1.8833683729171753,\n",
       "         ..., -0.2658141255378723, 0.5721692442893982, 'E'],\n",
       "        [-0.7788189649581909, -1.2502435445785522, 1.1870931386947632,\n",
       "         ..., -0.2011411190032959, 1.1120615005493164, 'V'],\n",
       "        [-1.7603570222854614, 0.9453520774841309, -0.3091685175895691,\n",
       "         ..., -0.017082301899790764, -0.6528413891792297, 'Q'],\n",
       "        ...,\n",
       "        [0.4523361325263977, 0.32699862122535706, -0.12754440307617188,\n",
       "         ..., -2.1710174083709717, 0.7342532277107239, 'E'],\n",
       "        [-1.2258671522140503, 0.9089486002922058, 0.03157903626561165,\n",
       "         ..., -0.12463860958814621, 0.9535172581672668, 'I'],\n",
       "        [-0.42751017212867737, 0.2876527011394501, -0.8317191004753113,\n",
       "         ..., -0.7335007190704346, 0.2121279090642929, 'K']],\n",
       "\n",
       "       [[0.040310222655534744, 0.640417754650116, 1.8833683729171753,\n",
       "         ..., -0.2658141255378723, 0.5721692442893982, 'E'],\n",
       "        [-0.7788189649581909, -1.2502435445785522, 1.1870931386947632,\n",
       "         ..., -0.2011411190032959, 1.1120615005493164, 'V'],\n",
       "        [-1.7603570222854614, 0.9453520774841309, -0.3091685175895691,\n",
       "         ..., -0.017082301899790764, -0.6528413891792297, 'Q'],\n",
       "        ...,\n",
       "        [0.4523361325263977, 0.32699862122535706, -0.12754440307617188,\n",
       "         ..., -2.1710174083709717, 0.7342532277107239, 'E'],\n",
       "        [-1.2258671522140503, 0.9089486002922058, 0.03157903626561165,\n",
       "         ..., -0.12463860958814621, 0.9535172581672668, 'I'],\n",
       "        [-0.42751017212867737, 0.2876527011394501, -0.8317191004753113,\n",
       "         ..., -0.7335007190704346, 0.2121279090642929, 'K']],\n",
       "\n",
       "       [[0.040310222655534744, 0.640417754650116, 1.8833683729171753,\n",
       "         ..., -0.2658141255378723, 0.5721692442893982, 'E'],\n",
       "        [-0.7788189649581909, -1.2502435445785522, 1.1870931386947632,\n",
       "         ..., -0.2011411190032959, 1.1120615005493164, 'V'],\n",
       "        [-1.7603570222854614, 0.9453520774841309, -0.3091685175895691,\n",
       "         ..., -0.017082301899790764, -0.6528413891792297, 'Q'],\n",
       "        ...,\n",
       "        [0.4523361325263977, 0.32699862122535706, -0.12754440307617188,\n",
       "         ..., -2.1710174083709717, 0.7342532277107239, 'E'],\n",
       "        [-1.2258671522140503, 0.9089486002922058, 0.03157903626561165,\n",
       "         ..., -0.12463860958814621, 0.9535172581672668, 'I'],\n",
       "        [-0.42751017212867737, 0.2876527011394501, -0.8317191004753113,\n",
       "         ..., -0.7335007190704346, 0.2121279090642929, 'K']]],\n",
       "      dtype=object), number_alignment=array(['1 ', '2 ', '3 ', '4 ', '5 ', '6 ', '7 ', '8 ', '9 ', '10 ', '11 ',\n",
       "       '12 ', '13 ', '14 ', '15 ', '16 ', '17 ', '18 ', '19 ', '20 ',\n",
       "       '21 ', '22 ', '23 ', '24 ', '25 ', '26 ', '27 ', '28 ', '29 ',\n",
       "       '30 ', '31 ', '32 ', '33 ', '34 ', '35 ', '36 ', '37 ', '38 ',\n",
       "       '39 ', '40 ', '41 ', '42 ', '43 ', '44 ', '45 ', '46 ', '47 ',\n",
       "       '48 ', '49 ', '50 ', '51 ', '52 ', '53 ', '54 ', '55 ', '56 ',\n",
       "       '57 ', '58 ', '59 ', '60 ', '61 ', '62 ', '63 ', '64 ', '65 ',\n",
       "       '66 ', '67 ', '68 ', '69 ', '70 ', '71 ', '72 ', '73 ', '74 ',\n",
       "       '75 ', '76 ', '77 ', '78 ', '79 ', '80 ', '81 ', '82 ', '83 ',\n",
       "       '84 ', '85 ', '86 ', '87 ', '88 ', '89 ', '90 ', '91 ', '92 ',\n",
       "       '93 ', '94 ', '95 ', '96 ', '97 ', '98 ', '99 ', '100 ', '101 ',\n",
       "       '102 ', '103 ', '104 ', '105 ', '106 ', '107 ', '108 ', '109 ',\n",
       "       '110 ', '111 ', '112 ', '113 ', '114 ', '115 ', '116 ', '117 ',\n",
       "       '118 ', '119 ', '120 ', '121 ', '122 ', '123 ', '124 ', '125 ',\n",
       "       '126 ', '127 ', '128 ', '|', '1 ', '2 ', '3 ', '4 ', '5 ', '6 ',\n",
       "       '7 ', '8 ', '9 ', '10 ', '11 ', '12 ', '13 ', '14 ', '15 ', '16 ',\n",
       "       '17 ', '18 ', '19 ', '20 ', '21 ', '22 ', '23 ', '24 ', '25 ',\n",
       "       '26 ', '27 ', '28 ', '29 ', '30 ', '31 ', '32 ', '33 ', '34 ',\n",
       "       '35 ', '36 ', '37 ', '38 ', '39 ', '40 ', '41 ', '42 ', '43 ',\n",
       "       '44 ', '45 ', '46 ', '47 ', '48 ', '49 ', '50 ', '51 ', '52 ',\n",
       "       '53 ', '54 ', '55 ', '56 ', '57 ', '58 ', '59 ', '60 ', '61 ',\n",
       "       '62 ', '63 ', '64 ', '65 ', '66 ', '67 ', '68 ', '69 ', '70 ',\n",
       "       '71 ', '72 ', '73 ', '74 ', '75 ', '76 ', '77 ', '78 ', '79 ',\n",
       "       '80 ', '81 ', '82 ', '83 ', '84 ', '85 ', '86 ', '87 ', '88 ',\n",
       "       '89 ', '90 ', '91 ', '92 ', '93 ', '94 ', '95 ', '96 ', '97 ',\n",
       "       '98 ', '99 ', '100 ', '101 ', '102 ', '103 ', '104 ', '105 ',\n",
       "       '106 ', '107 ', '108 ', '109 ', '110 ', '111 ', '112 ', '113 ',\n",
       "       '114 ', '115 ', '116 ', '117 ', '118 ', '119 ', '120 ', '121 ',\n",
       "       '122 ', '123 ', '124 ', '125 ', '126 ', '127 '], dtype=object))"
      ]
     },
     "execution_count": 10,
     "metadata": {},
     "output_type": "execute_result"
    }
   ],
   "source": [
    "result = ablang([f'{heavy}|{light}']*1000, mode='rescoding', align=True, chain = 'P', chunk_size = 1000)\n",
    "result[0]"
   ]
  },
  {
   "cell_type": "code",
   "execution_count": 9,
   "id": "cd845d8a-1fe7-4c89-9e15-edc9ea765e17",
   "metadata": {},
   "outputs": [
    {
     "data": {
      "text/plain": [
       "(300, 256, 321)"
      ]
     },
     "execution_count": 9,
     "metadata": {},
     "output_type": "execute_result"
    }
   ],
   "source": [
    "result[0].aligned_embeds.shape"
   ]
  },
  {
   "cell_type": "code",
   "execution_count": 8,
   "id": "d5aae838-9569-45a8-8e68-c87fcabab07f",
   "metadata": {},
   "outputs": [],
   "source": [
    "result = ablang([f'{heavy}'], mode='rescoding', align=True, chain = 'H')"
   ]
  },
  {
   "cell_type": "code",
   "execution_count": 9,
   "id": "a610611f-bdba-4ba8-bb3d-559f3cdabbca",
   "metadata": {},
   "outputs": [
    {
     "data": {
      "text/plain": [
       "output(aligned_embeds=array([[[0.2833361029624939, 0.6272033452987671, 1.5306644439697266,\n",
       "         ..., -0.3992234468460083, 0.5194757580757141, 'E'],\n",
       "        [-0.7105658650398254, -1.2028781175613403, 0.9159946441650391,\n",
       "         ..., -0.34632569551467896, 1.1214690208435059, 'V'],\n",
       "        [-1.5831944942474365, 0.9809594750404358, -0.41941037774086,\n",
       "         ..., -0.013567313551902771, -0.7487199902534485, 'Q'],\n",
       "        ...,\n",
       "        [0.26445651054382324, -0.7754498720169067, 1.7546889781951904,\n",
       "         ..., 0.633596658706665, 1.2051163911819458, 'V'],\n",
       "        [0.5950242280960083, -0.581774890422821, 0.06194629892706871,\n",
       "         ..., 1.2752294540405273, 0.4128597378730774, 'S'],\n",
       "        [0.570736825466156, -0.6406649351119995, 0.7582440972328186,\n",
       "         ..., 1.397376537322998, -0.24413280189037323, 'S']]],\n",
       "      dtype=object), number_alignment=array(['1 ', '2 ', '3 ', '4 ', '5 ', '6 ', '7 ', '8 ', '9 ', '10 ', '11 ',\n",
       "       '12 ', '13 ', '14 ', '15 ', '16 ', '17 ', '18 ', '19 ', '20 ',\n",
       "       '21 ', '22 ', '23 ', '24 ', '25 ', '26 ', '27 ', '28 ', '29 ',\n",
       "       '30 ', '31 ', '32 ', '33 ', '34 ', '35 ', '36 ', '37 ', '38 ',\n",
       "       '39 ', '40 ', '41 ', '42 ', '43 ', '44 ', '45 ', '46 ', '47 ',\n",
       "       '48 ', '49 ', '50 ', '51 ', '52 ', '53 ', '54 ', '55 ', '56 ',\n",
       "       '57 ', '58 ', '59 ', '60 ', '61 ', '62 ', '63 ', '64 ', '65 ',\n",
       "       '66 ', '67 ', '68 ', '69 ', '70 ', '71 ', '72 ', '73 ', '74 ',\n",
       "       '75 ', '76 ', '77 ', '78 ', '79 ', '80 ', '81 ', '82 ', '83 ',\n",
       "       '84 ', '85 ', '86 ', '87 ', '88 ', '89 ', '90 ', '91 ', '92 ',\n",
       "       '93 ', '94 ', '95 ', '96 ', '97 ', '98 ', '99 ', '100 ', '101 ',\n",
       "       '102 ', '103 ', '104 ', '105 ', '106 ', '107 ', '108 ', '109 ',\n",
       "       '110 ', '111 ', '112 ', '113 ', '114 ', '115 ', '116 ', '117 ',\n",
       "       '118 ', '119 ', '120 ', '121 ', '122 ', '123 ', '124 ', '125 ',\n",
       "       '126 ', '127 ', '128 '], dtype=object))"
      ]
     },
     "execution_count": 9,
     "metadata": {},
     "output_type": "execute_result"
    }
   ],
   "source": [
    "result[0]"
   ]
  },
  {
   "cell_type": "code",
   "execution_count": null,
   "id": "7b646818-595c-4576-b8e3-5071ee9c58dd",
   "metadata": {},
   "outputs": [],
   "source": []
  },
  {
   "cell_type": "code",
   "execution_count": null,
   "id": "5e5d14b4-dacb-4b5d-891d-83e1a54317d2",
   "metadata": {},
   "outputs": [],
   "source": []
  },
  {
   "cell_type": "code",
   "execution_count": 9,
   "id": "52574ad9-3b88-43b7-96be-7377166a10d4",
   "metadata": {},
   "outputs": [
    {
     "name": "stdout",
     "output_type": "stream",
     "text": [
      "120 107 232\n"
     ]
    }
   ],
   "source": [
    "heavy = \"EVQLVESGGGLVQPGGSLRLSCAASGFTISDYWIHWVRQAPGKGLEWVAGITPAGGYTYYADSVKGRFTISADTSKNTAYLQMNSLRAEDTAVYYCARFVFFLPYAMDYWGQGTLVTVSS\"\n",
    "light = \"DIQMTQSPSSLSASVGDRVTITCRASQDVSTAVAWYQQKPGKAPKLLIYSASFLYSGVPSRFSGSGSGTDFTLTISSLQPEDFATYYCQQGYGNPFTFGQGTKVEIK\"\n",
    "ab_pair = f'<{heavy}>|<{light}>'\n",
    "ab_pair_r = f'<{light}>|<{heavy}>'\n",
    "ab_pair_2 = f'{heavy}|{light}'\n",
    "\n",
    "llhs_1 = ablang(ab_pair, mode='rescoding', align=False, splitSize=50)\n",
    "llhs_2 = ablang(ab_pair_2, mode='rescoding', align=False, splitSize=50)\n",
    "print(len(heavy), len(light), len(ab_pair))"
   ]
  },
  {
   "cell_type": "code",
   "execution_count": 84,
   "id": "3627d5f4-9e15-4190-b4db-f6eff24a9af4",
   "metadata": {},
   "outputs": [
    {
     "data": {
      "text/plain": [
       "['EVQLVESGGGLVQPGGSLRLSCAASGFTISDYWIHWVRQAPGKGLEWVAGITPAGGYTYYADSVKGRFTISADTSKNTAYLQMNSLRAEDTAVYYCARFVFFLPYAMDYWGQGTLVTVSS',\n",
       " 'DIQMTQSPSSLSASVGDRVTITCRASQDVSTAVAWYQQKPGKAPKLLIYSASFLYSGVPSRFSGSGSGTDFTLTISSLQPEDFATYYCQQGYGNPFTFGQGTKVEIK']"
      ]
     },
     "execution_count": 84,
     "metadata": {},
     "output_type": "execute_result"
    }
   ],
   "source": [
    "#[[float(y) for y in x] for x in l]\n",
    "ab_seqs = [ab_pair_2]\n",
    "seqs = [seq for pairs in ab_seqs for seq in pairs.split(\"|\")]\n",
    "seqs"
   ]
  },
  {
   "cell_type": "code",
   "execution_count": 89,
   "id": "bbc7a3ea-5a44-491f-bd85-e396bd25ffec",
   "metadata": {},
   "outputs": [],
   "source": [
    "import numpy as np\n",
    "from ablang_train.models.pretrained_utils.extra_utils import get_number_alignment, create_alignment, res_to_list, res_to_seq"
   ]
  },
  {
   "cell_type": "code",
   "execution_count": 100,
   "id": "f33caf26-785d-4cca-b656-a707b080822b",
   "metadata": {},
   "outputs": [
    {
     "data": {
      "text/plain": [
       "['EVQLVESGGGLVQPGGSLRLSCAASGFTISDYWIHWVRQAPGKGLEWVAGITPAGGYTYYADSVKGRFTISADTSKNTAYLQMNSLRAEDTAVYYCARFVFFLPYAMDYWGQGTLVTVSS',\n",
       " 'DIQMTQSPSSLSASVGDRVTITCRASQDVSTAVAWYQQKPGKAPKLLIYSASFLYSGVPSRFSGSGSGTDFTLTISSLQPEDFATYYCQQGYGNPFTFGQGTKVEIK']"
      ]
     },
     "execution_count": 100,
     "metadata": {},
     "output_type": "execute_result"
    }
   ],
   "source": [
    "tmp_seqs = [seq for pairs in ab_seqs for seq in pairs.split(\"|\")]\n",
    "tmp_seqs"
   ]
  },
  {
   "cell_type": "code",
   "execution_count": 136,
   "id": "4c9571fc-e0c6-42b8-8020-f4ed17dcf918",
   "metadata": {},
   "outputs": [
    {
     "data": {
      "text/plain": [
       "[['EVQLVESGGGLVQPGGSLRLSCAASGFTISDYWIHWVRQAPGKGLEWVAGITPAGGYTYYADSVKGRFTISADTSKNTAYLQMNSLRAEDTAVYYCARFVFFLPYAMDYWGQGTLVTVSS',\n",
       "  'DIQMTQSPSSLSASVGDRVTITCRASQDVSTAVAWYQQKPGKAPKLLIYSASFLYSGVPSRFSGSGSGTDFTLTISSLQPEDFATYYCQQGYGNPFTFGQGTKVEIK'],\n",
       " ['EVQLVESGGGLVQPGGSLRLSCAASGFTISDYWIHWVRQAPGKGLEWVAGITPAGGYTYYADSVKGRFTISADTSKNTAYLQMNSLRAEDTAVYYCARFVFFLPYAMDYWGQGTLVTVSS',\n",
       "  'DIQMTQSPSSLSASVGDRVTITCRASQDVSTAVAWYQQKPGKAPKLLIYSASFLYSGVPSRFSGSGSGTDFTLTISSLQPEDFATYYCQQGYGNPFTFGQGTKVEIK']]"
      ]
     },
     "execution_count": 136,
     "metadata": {},
     "output_type": "execute_result"
    }
   ],
   "source": [
    "ab_seqs = [ab_pair_2, ab_pair_2]\n",
    "tmp_seqs = [pairs.split(\"|\") for pairs in ab_seqs]\n",
    "tmp_seqs"
   ]
  },
  {
   "cell_type": "code",
   "execution_count": 298,
   "id": "b3d82b2d-4848-4c9a-9620-d6d80bddb0b7",
   "metadata": {},
   "outputs": [],
   "source": [
    "def msa_antibody_numbering(seqs, chain = 'H'):\n",
    "    \n",
    "    anarci_out = anarci.run_anarci(\n",
    "        pd.DataFrame(seqs).reset_index().values.tolist(), \n",
    "        ncpu=10, \n",
    "        scheme='imgt',\n",
    "        allowed_species=['human', 'mouse'],\n",
    "    )\n",
    "    number_alignment = get_number_alignment(anarci_out)\n",
    "    number_alignment[1] = chain\n",
    "    seqs = [''.join([i[1] for i in onarci[0][0]]).replace('-','') for onarci in anarci_out[1]]\n",
    "    \n",
    "    return anarci_out, seqs, number_alignment"
   ]
  },
  {
   "cell_type": "code",
   "execution_count": 299,
   "id": "e8471ebc-1d30-4ce0-98d7-fcfd68db6314",
   "metadata": {},
   "outputs": [],
   "source": [
    "def paired_msa_numbering(ab_seqs):\n",
    "    \n",
    "    tmp_seqs = [pairs.split(\"|\") for pairs in ab_seqs]\n",
    "    \n",
    "    anarci_out_heavy, seqs_heavy, number_alignment_heavy = msa_antibody_numbering([i[0] for i in tmp_seqs], 'H')\n",
    "    anarci_out_light, seqs_light, number_alignment_light = msa_antibody_numbering([i[1] for i in tmp_seqs], 'L')\n",
    "    \n",
    "    number_alignment = pd.concat([number_alignment_heavy, pd.DataFrame([[(\"|\",\"\"), \"|\"]]), number_alignment_light]).reset_index(drop=True)\n",
    "    seqs = [f\"{heavy}|{light}\" for heavy, light in zip(seqs_heavy, seqs_light)]\n",
    "    anarci_out = [\n",
    "        [(i[0], 'H', i[1]) for i in heavy[0][0]] + [((\"|\",\"\"), \"|\", \"|\")] + [(i[0], 'L', i[1]) for i in light[0][0]] \\\n",
    "        for heavy, light in zip(anarci_out_heavy[1], anarci_out_light[1])\n",
    "    ]\n",
    "    \n",
    "    return anarci_out, seqs, number_alignment\n",
    "    \n",
    "    \n",
    "anarci_out, seqs, number_alignment = paired_msa_numbering(ab_seqs = [ab_pair_2, ab_pair_2])\n",
    "\n",
    "residue_output = np.array([create_alignment(\n",
    "    res_embed, oanarci, seq, number_alignment\n",
    ") for res_embed, oanarci, seq in zip(residue_states, anarci_out, seqs)])\n"
   ]
  },
  {
   "cell_type": "code",
   "execution_count": null,
   "id": "5dad04d1-cf77-4702-9968-5436b5fb173c",
   "metadata": {},
   "outputs": [],
   "source": []
  },
  {
   "cell_type": "code",
   "execution_count": 300,
   "id": "227489de-732b-4ec3-8989-b58fc93c687d",
   "metadata": {},
   "outputs": [
    {
     "data": {
      "text/plain": [
       "array(['1 ', '2 ', '3 ', '4 ', '5 ', '6 ', '7 ', '8 ', '9 ', '10 ', '11 ',\n",
       "       '12 ', '13 ', '14 ', '15 ', '16 ', '17 ', '18 ', '19 ', '20 ',\n",
       "       '21 ', '22 ', '23 ', '24 ', '25 ', '26 ', '27 ', '28 ', '29 ',\n",
       "       '30 ', '31 ', '32 ', '33 ', '34 ', '35 ', '36 ', '37 ', '38 ',\n",
       "       '39 ', '40 ', '41 ', '42 ', '43 ', '44 ', '45 ', '46 ', '47 ',\n",
       "       '48 ', '49 ', '50 ', '51 ', '52 ', '53 ', '54 ', '55 ', '56 ',\n",
       "       '57 ', '58 ', '59 ', '60 ', '61 ', '62 ', '63 ', '64 ', '65 ',\n",
       "       '66 ', '67 ', '68 ', '69 ', '70 ', '71 ', '72 ', '73 ', '74 ',\n",
       "       '75 ', '76 ', '77 ', '78 ', '79 ', '80 ', '81 ', '82 ', '83 ',\n",
       "       '84 ', '85 ', '86 ', '87 ', '88 ', '89 ', '90 ', '91 ', '92 ',\n",
       "       '93 ', '94 ', '95 ', '96 ', '97 ', '98 ', '99 ', '100 ', '101 ',\n",
       "       '102 ', '103 ', '104 ', '105 ', '106 ', '107 ', '108 ', '109 ',\n",
       "       '110 ', '111 ', '112 ', '113 ', '114 ', '115 ', '116 ', '117 ',\n",
       "       '118 ', '119 ', '120 ', '121 ', '122 ', '123 ', '124 ', '125 ',\n",
       "       '126 ', '127 ', '128 ', '|', '1 ', '2 ', '3 ', '4 ', '5 ', '6 ',\n",
       "       '7 ', '8 ', '9 ', '10 ', '11 ', '12 ', '13 ', '14 ', '15 ', '16 ',\n",
       "       '17 ', '18 ', '19 ', '20 ', '21 ', '22 ', '23 ', '24 ', '25 ',\n",
       "       '26 ', '27 ', '28 ', '29 ', '30 ', '31 ', '32 ', '33 ', '34 ',\n",
       "       '35 ', '36 ', '37 ', '38 ', '39 ', '40 ', '41 ', '42 ', '43 ',\n",
       "       '44 ', '45 ', '46 ', '47 ', '48 ', '49 ', '50 ', '51 ', '52 ',\n",
       "       '53 ', '54 ', '55 ', '56 ', '57 ', '58 ', '59 ', '60 ', '61 ',\n",
       "       '62 ', '63 ', '64 ', '65 ', '66 ', '67 ', '68 ', '69 ', '70 ',\n",
       "       '71 ', '72 ', '73 ', '74 ', '75 ', '76 ', '77 ', '78 ', '79 ',\n",
       "       '80 ', '81 ', '82 ', '83 ', '84 ', '85 ', '86 ', '87 ', '88 ',\n",
       "       '89 ', '90 ', '91 ', '92 ', '93 ', '94 ', '95 ', '96 ', '97 ',\n",
       "       '98 ', '99 ', '100 ', '101 ', '102 ', '103 ', '104 ', '105 ',\n",
       "       '106 ', '107 ', '108 ', '109 ', '110 ', '111 ', '112 ', '113 ',\n",
       "       '114 ', '115 ', '116 ', '117 ', '118 ', '119 ', '120 ', '121 ',\n",
       "       '122 ', '123 ', '124 ', '125 ', '126 ', '127 '], dtype=object)"
      ]
     },
     "execution_count": 300,
     "metadata": {},
     "output_type": "execute_result"
    }
   ],
   "source": [
    "number_alignment.apply(lambda x: '{}{}'.format(*x[0]), axis=1).values"
   ]
  },
  {
   "cell_type": "code",
   "execution_count": null,
   "id": "df537558-155a-4860-ae2a-18c1d3dd25b5",
   "metadata": {},
   "outputs": [],
   "source": []
  },
  {
   "cell_type": "code",
   "execution_count": null,
   "id": "2d2a0cfc-c867-4389-9682-055df76abd41",
   "metadata": {},
   "outputs": [],
   "source": []
  },
  {
   "cell_type": "code",
   "execution_count": 227,
   "id": "72c0503a-6c6c-47ea-a114-b3954583dd01",
   "metadata": {},
   "outputs": [],
   "source": [
    "anarci_out_heavy, seqs_heavy, number_alignment_heavy = msa_antibody_numbering([i[0] for i in tmp_seqs])\n",
    "anarci_out_light, seqs_light, number_alignment_light = msa_antibody_numbering([i[1] for i in tmp_seqs])"
   ]
  },
  {
   "cell_type": "code",
   "execution_count": 228,
   "id": "169a079f-05dc-42a9-b6e7-f517582b00cd",
   "metadata": {},
   "outputs": [],
   "source": [
    "number_alignment_heavy[1] = 'H'\n",
    "number_alignment_light[1] = 'L'"
   ]
  },
  {
   "cell_type": "code",
   "execution_count": 269,
   "id": "bdc6e321-0894-4bf7-b655-442b4675e194",
   "metadata": {},
   "outputs": [
    {
     "data": {
      "text/plain": [
       "[((1, ' '), 'H', 'E'),\n",
       " ((2, ' '), 'H', 'V'),\n",
       " ((3, ' '), 'H', 'Q'),\n",
       " ((4, ' '), 'H', 'L'),\n",
       " ((5, ' '), 'H', 'V'),\n",
       " ((6, ' '), 'H', 'E'),\n",
       " ((7, ' '), 'H', 'S'),\n",
       " ((8, ' '), 'H', 'G'),\n",
       " ((9, ' '), 'H', 'G'),\n",
       " ((10, ' '), 'H', '-')]"
      ]
     },
     "execution_count": 269,
     "metadata": {},
     "output_type": "execute_result"
    }
   ],
   "source": [
    "anarci_out[0][:10]"
   ]
  },
  {
   "cell_type": "code",
   "execution_count": 270,
   "id": "14fa2076-521a-4d2a-837c-874788efa869",
   "metadata": {},
   "outputs": [
    {
     "data": {
      "text/plain": [
       "[('|', '|', '|')]"
      ]
     },
     "execution_count": 270,
     "metadata": {},
     "output_type": "execute_result"
    }
   ],
   "source": [
    "[(\"|\", \"|\", \"|\")]"
   ]
  },
  {
   "cell_type": "code",
   "execution_count": 274,
   "id": "9c2e3616-1808-419e-aaae-608542cae5c1",
   "metadata": {},
   "outputs": [],
   "source": [
    "number_alignment = pd.concat([number_alignment_heavy, pd.DataFrame([[\"|\", \"|\"]]), number_alignment_light]).reset_index(drop=True)\n",
    "seqs = [f\"{heavy}|{light}\" for heavy, light in zip(seqs_heavy, seqs_light)]\n",
    "anarci_out = [\n",
    "    [(i[0], 'H', i[1]) for i in heavy[0][0]] + [(\"|\", \"|\", \"|\")] + [(i[0], 'L', i[1]) for i in light[0][0]] \\\n",
    "    for heavy, light in zip(anarci_out_heavy[1], anarci_out_light[1])\n",
    "]"
   ]
  },
  {
   "cell_type": "code",
   "execution_count": 278,
   "id": "40b8a26d-95f4-4f7a-8a5b-21fbf34dbb43",
   "metadata": {},
   "outputs": [
    {
     "data": {
      "text/html": [
       "<div>\n",
       "<style scoped>\n",
       "    .dataframe tbody tr th:only-of-type {\n",
       "        vertical-align: middle;\n",
       "    }\n",
       "\n",
       "    .dataframe tbody tr th {\n",
       "        vertical-align: top;\n",
       "    }\n",
       "\n",
       "    .dataframe thead th {\n",
       "        text-align: right;\n",
       "    }\n",
       "</style>\n",
       "<table border=\"1\" class=\"dataframe\">\n",
       "  <thead>\n",
       "    <tr style=\"text-align: right;\">\n",
       "      <th></th>\n",
       "      <th>0</th>\n",
       "      <th>1</th>\n",
       "    </tr>\n",
       "  </thead>\n",
       "  <tbody>\n",
       "    <tr>\n",
       "      <th>0</th>\n",
       "      <td>(1,  )</td>\n",
       "      <td>H</td>\n",
       "    </tr>\n",
       "    <tr>\n",
       "      <th>1</th>\n",
       "      <td>(2,  )</td>\n",
       "      <td>H</td>\n",
       "    </tr>\n",
       "    <tr>\n",
       "      <th>2</th>\n",
       "      <td>(3,  )</td>\n",
       "      <td>H</td>\n",
       "    </tr>\n",
       "    <tr>\n",
       "      <th>3</th>\n",
       "      <td>(4,  )</td>\n",
       "      <td>H</td>\n",
       "    </tr>\n",
       "    <tr>\n",
       "      <th>4</th>\n",
       "      <td>(5,  )</td>\n",
       "      <td>H</td>\n",
       "    </tr>\n",
       "    <tr>\n",
       "      <th>...</th>\n",
       "      <td>...</td>\n",
       "      <td>...</td>\n",
       "    </tr>\n",
       "    <tr>\n",
       "      <th>251</th>\n",
       "      <td>(123,  )</td>\n",
       "      <td>L</td>\n",
       "    </tr>\n",
       "    <tr>\n",
       "      <th>252</th>\n",
       "      <td>(124,  )</td>\n",
       "      <td>L</td>\n",
       "    </tr>\n",
       "    <tr>\n",
       "      <th>253</th>\n",
       "      <td>(125,  )</td>\n",
       "      <td>L</td>\n",
       "    </tr>\n",
       "    <tr>\n",
       "      <th>254</th>\n",
       "      <td>(126,  )</td>\n",
       "      <td>L</td>\n",
       "    </tr>\n",
       "    <tr>\n",
       "      <th>255</th>\n",
       "      <td>(127,  )</td>\n",
       "      <td>L</td>\n",
       "    </tr>\n",
       "  </tbody>\n",
       "</table>\n",
       "<p>256 rows × 2 columns</p>\n",
       "</div>"
      ],
      "text/plain": [
       "            0  1\n",
       "0      (1,  )  H\n",
       "1      (2,  )  H\n",
       "2      (3,  )  H\n",
       "3      (4,  )  H\n",
       "4      (5,  )  H\n",
       "..        ... ..\n",
       "251  (123,  )  L\n",
       "252  (124,  )  L\n",
       "253  (125,  )  L\n",
       "254  (126,  )  L\n",
       "255  (127,  )  L\n",
       "\n",
       "[256 rows x 2 columns]"
      ]
     },
     "execution_count": 278,
     "metadata": {},
     "output_type": "execute_result"
    }
   ],
   "source": [
    "number_alignment"
   ]
  },
  {
   "cell_type": "code",
   "execution_count": 282,
   "id": "9001b11c-df56-4543-ab5c-0cd436fa22c4",
   "metadata": {},
   "outputs": [],
   "source": [
    "tokens = ablang.tokenizer(seqs, pad=True, w_extra_tkns=True, device='cpu')\n",
    "with torch.no_grad():\n",
    "    residue_states = ablang.AbLang.AbRep(tokens).last_hidden_states"
   ]
  },
  {
   "cell_type": "code",
   "execution_count": 276,
   "id": "806371c2-83ed-44a6-bca7-17a23223d95b",
   "metadata": {},
   "outputs": [
    {
     "data": {
      "text/plain": [
       "(120, 107)"
      ]
     },
     "execution_count": 276,
     "metadata": {},
     "output_type": "execute_result"
    }
   ],
   "source": [
    "len(heavy), len(light)"
   ]
  },
  {
   "cell_type": "code",
   "execution_count": 247,
   "id": "e75e4e69-a98a-4178-9799-5c56d2f3a71a",
   "metadata": {},
   "outputs": [
    {
     "data": {
      "text/plain": [
       "(2, 232, 320)"
      ]
     },
     "execution_count": 247,
     "metadata": {},
     "output_type": "execute_result"
    }
   ],
   "source": [
    "residue_states.shape"
   ]
  },
  {
   "cell_type": "code",
   "execution_count": 283,
   "id": "0e94a373-c086-4236-a550-607c040c1861",
   "metadata": {},
   "outputs": [],
   "source": [
    "residue_output = np.array([create_alignment(\n",
    "    res_embed, oanarci, seq, number_alignment\n",
    ") for res_embed, oanarci, seq in zip(residue_states, anarci_out, seqs)])"
   ]
  },
  {
   "cell_type": "code",
   "execution_count": 284,
   "id": "620a7882-68f1-4e02-91da-e8e44882550e",
   "metadata": {},
   "outputs": [
    {
     "data": {
      "text/plain": [
       "array(['E', 'V', 'Q', 'L', 'V', 'E', 'S', 'G', 'G', '-', 'G', 'L', 'V',\n",
       "       'Q', 'P', 'G', 'G', 'S', 'L', 'R', 'L', 'S', 'C', 'A', 'A', 'S',\n",
       "       'G', 'F', 'T', 'I', '-', '-', '-', '-', 'S', 'D', 'Y', 'W', 'I',\n",
       "       'H', 'W', 'V', 'R', 'Q', 'A', 'P', 'G', 'K', 'G', 'L', 'E', 'W',\n",
       "       'V', 'A', 'G', 'I', 'T', 'P', 'A', '-', '-', 'G', 'G', 'Y', 'T',\n",
       "       'Y', 'Y', 'A', 'D', 'S', 'V', 'K', '-', 'G', 'R', 'F', 'T', 'I',\n",
       "       'S', 'A', 'D', 'T', 'S', 'K', 'N', 'T', 'A', 'Y', 'L', 'Q', 'M',\n",
       "       'N', 'S', 'L', 'R', 'A', 'E', 'D', 'T', 'A', 'V', 'Y', 'Y', 'C',\n",
       "       'A', 'R', 'F', 'V', 'F', 'F', 'L', 'P', 'Y', 'A', 'M', 'D', 'Y',\n",
       "       'W', 'G', 'Q', 'G', 'T', 'L', 'V', 'T', 'V', 'S', 'S', '|', 'D',\n",
       "       'I', 'Q', 'M', 'T', 'Q', 'S', 'P', 'S', 'S', 'L', 'S', 'A', 'S',\n",
       "       'V', 'G', 'D', 'R', 'V', 'T', 'I', 'T', 'C', 'R', 'A', 'S', 'Q',\n",
       "       'D', 'V', '-', '-', '-', '-', '-', '-', 'S', 'T', 'A', 'V', 'A',\n",
       "       'W', 'Y', 'Q', 'Q', 'K', 'P', 'G', 'K', 'A', 'P', 'K', 'L', 'L',\n",
       "       'I', 'Y', 'S', 'A', '-', '-', '-', '-', '-', '-', '-', 'S', 'F',\n",
       "       'L', 'Y', 'S', 'G', 'V', 'P', '-', 'S', 'R', 'F', 'S', 'G', 'S',\n",
       "       'G', '-', '-', 'S', 'G', 'T', 'D', 'F', 'T', 'L', 'T', 'I', 'S',\n",
       "       'S', 'L', 'Q', 'P', 'E', 'D', 'F', 'A', 'T', 'Y', 'Y', 'C', 'Q',\n",
       "       'Q', 'G', 'Y', 'G', '-', '-', '-', '-', 'N', 'P', 'F', 'T', 'F',\n",
       "       'G', 'Q', 'G', 'T', 'K', 'V', 'E', 'I', 'K'], dtype=object)"
      ]
     },
     "execution_count": 284,
     "metadata": {},
     "output_type": "execute_result"
    }
   ],
   "source": [
    "residue_output[0][:,-1]"
   ]
  },
  {
   "cell_type": "code",
   "execution_count": 245,
   "id": "618ef16d-a7e8-44c6-9c97-bc8ab090b2ef",
   "metadata": {},
   "outputs": [
    {
     "data": {
      "text/plain": [
       "255"
      ]
     },
     "execution_count": 245,
     "metadata": {},
     "output_type": "execute_result"
    }
   ],
   "source": [
    "residue_output.shape[1]"
   ]
  },
  {
   "cell_type": "code",
   "execution_count": 246,
   "id": "4dee702c-11c6-4054-9cbc-38fa19a73513",
   "metadata": {},
   "outputs": [
    {
     "data": {
      "text/plain": [
       "(2, 255, 321)"
      ]
     },
     "execution_count": 246,
     "metadata": {},
     "output_type": "execute_result"
    }
   ],
   "source": [
    "residue_output.shape"
   ]
  },
  {
   "cell_type": "code",
   "execution_count": 164,
   "id": "4baba47f-740d-4785-b81d-811304163eca",
   "metadata": {},
   "outputs": [
    {
     "data": {
      "text/plain": [
       "['EVQLVESGGGLVQPGGSLRLSCAASGFTISDYWIHWVRQAPGKGLEWVAGITPAGGYTYYADSVKGRFTISADTSKNTAYLQMNSLRAEDTAVYYCARFVFFLPYAMDYWGQGTLVTVSS',\n",
       " 'EVQLVESGGGLVQPGGSLRLSCAASGFTISDYWIHWVRQAPGKGLEWVAGITPAGGYTYYADSVKGRFTISADTSKNTAYLQMNSLRAEDTAVYYCARFVFFLPYAMDYWGQGTLVTVSS']"
      ]
     },
     "execution_count": 164,
     "metadata": {},
     "output_type": "execute_result"
    }
   ],
   "source": [
    "seqs_heavy"
   ]
  },
  {
   "cell_type": "code",
   "execution_count": 183,
   "id": "505f9831-aad7-473b-be5a-0d5ec9dd6483",
   "metadata": {},
   "outputs": [
    {
     "data": {
      "text/html": [
       "<div>\n",
       "<style scoped>\n",
       "    .dataframe tbody tr th:only-of-type {\n",
       "        vertical-align: middle;\n",
       "    }\n",
       "\n",
       "    .dataframe tbody tr th {\n",
       "        vertical-align: top;\n",
       "    }\n",
       "\n",
       "    .dataframe thead th {\n",
       "        text-align: right;\n",
       "    }\n",
       "</style>\n",
       "<table border=\"1\" class=\"dataframe\">\n",
       "  <thead>\n",
       "    <tr style=\"text-align: right;\">\n",
       "      <th></th>\n",
       "      <th>0</th>\n",
       "      <th>chain</th>\n",
       "    </tr>\n",
       "  </thead>\n",
       "  <tbody>\n",
       "    <tr>\n",
       "      <th>0</th>\n",
       "      <td>(1,  )</td>\n",
       "      <td>H</td>\n",
       "    </tr>\n",
       "    <tr>\n",
       "      <th>1</th>\n",
       "      <td>(2,  )</td>\n",
       "      <td>H</td>\n",
       "    </tr>\n",
       "    <tr>\n",
       "      <th>2</th>\n",
       "      <td>(3,  )</td>\n",
       "      <td>H</td>\n",
       "    </tr>\n",
       "    <tr>\n",
       "      <th>3</th>\n",
       "      <td>(4,  )</td>\n",
       "      <td>H</td>\n",
       "    </tr>\n",
       "    <tr>\n",
       "      <th>4</th>\n",
       "      <td>(5,  )</td>\n",
       "      <td>H</td>\n",
       "    </tr>\n",
       "    <tr>\n",
       "      <th>...</th>\n",
       "      <td>...</td>\n",
       "      <td>...</td>\n",
       "    </tr>\n",
       "    <tr>\n",
       "      <th>250</th>\n",
       "      <td>(123,  )</td>\n",
       "      <td>L</td>\n",
       "    </tr>\n",
       "    <tr>\n",
       "      <th>251</th>\n",
       "      <td>(124,  )</td>\n",
       "      <td>L</td>\n",
       "    </tr>\n",
       "    <tr>\n",
       "      <th>252</th>\n",
       "      <td>(125,  )</td>\n",
       "      <td>L</td>\n",
       "    </tr>\n",
       "    <tr>\n",
       "      <th>253</th>\n",
       "      <td>(126,  )</td>\n",
       "      <td>L</td>\n",
       "    </tr>\n",
       "    <tr>\n",
       "      <th>254</th>\n",
       "      <td>(127,  )</td>\n",
       "      <td>L</td>\n",
       "    </tr>\n",
       "  </tbody>\n",
       "</table>\n",
       "<p>255 rows × 2 columns</p>\n",
       "</div>"
      ],
      "text/plain": [
       "            0 chain\n",
       "0      (1,  )     H\n",
       "1      (2,  )     H\n",
       "2      (3,  )     H\n",
       "3      (4,  )     H\n",
       "4      (5,  )     H\n",
       "..        ...   ...\n",
       "250  (123,  )     L\n",
       "251  (124,  )     L\n",
       "252  (125,  )     L\n",
       "253  (126,  )     L\n",
       "254  (127,  )     L\n",
       "\n",
       "[255 rows x 2 columns]"
      ]
     },
     "execution_count": 183,
     "metadata": {},
     "output_type": "execute_result"
    }
   ],
   "source": [
    "number_alignment"
   ]
  },
  {
   "cell_type": "code",
   "execution_count": 259,
   "id": "7565c38b-999b-4b4e-bb2f-927d7de39fda",
   "metadata": {},
   "outputs": [],
   "source": [
    "seqs = [f'<{heavy}>|<{light}>' for heavy, light in zip(seqs_heavy, seqs_light)]"
   ]
  },
  {
   "cell_type": "code",
   "execution_count": 261,
   "id": "43a24e38-9976-4e24-b3ec-248259efd79f",
   "metadata": {},
   "outputs": [
    {
     "data": {
      "text/plain": [
       "torch.Size([2, 232, 320])"
      ]
     },
     "execution_count": 261,
     "metadata": {},
     "output_type": "execute_result"
    }
   ],
   "source": [
    "residue_states.shape"
   ]
  },
  {
   "cell_type": "code",
   "execution_count": 263,
   "id": "d5cd03f0-aa59-40b5-bb34-49172ab50cb4",
   "metadata": {},
   "outputs": [
    {
     "data": {
      "text/plain": [
       "(120, 107)"
      ]
     },
     "execution_count": 263,
     "metadata": {},
     "output_type": "execute_result"
    }
   ],
   "source": [
    "len(heavy), len(light)"
   ]
  },
  {
   "cell_type": "code",
   "execution_count": null,
   "id": "ce9de572-87e7-4ab9-8803-b0426a83bba7",
   "metadata": {},
   "outputs": [],
   "source": [
    "\n",
    "tokens = ablang.tokenizer(seqs, pad=True, device='cpu')\n",
    "residue_states = ablang.AbLang.AbRep(tokens).last_hidden_states\n",
    "\n",
    "residue_output = np.array([create_alignment(res_embed, oanarci, seq, number_alignment) for res_embed, oanarci, seq in zip(residue_states, anarci_out[1], seqs)])\n"
   ]
  },
  {
   "cell_type": "code",
   "execution_count": 90,
   "id": "61db7ed6-488b-4656-8f71-2169c2069271",
   "metadata": {},
   "outputs": [],
   "source": [
    "ab_seqs = [ab_pair_2]\n",
    "    \n",
    "tmp_seqs = [seq for pairs in ab_seqs for seq in pairs.split(\"|\")]\n",
    "\n",
    "msa_antibody_numbering(seqs)"
   ]
  },
  {
   "cell_type": "code",
   "execution_count": 101,
   "id": "6a617074-b006-41a2-830d-a6516e074bdc",
   "metadata": {},
   "outputs": [
    {
     "data": {
      "text/html": [
       "<div>\n",
       "<style scoped>\n",
       "    .dataframe tbody tr th:only-of-type {\n",
       "        vertical-align: middle;\n",
       "    }\n",
       "\n",
       "    .dataframe tbody tr th {\n",
       "        vertical-align: top;\n",
       "    }\n",
       "\n",
       "    .dataframe thead th {\n",
       "        text-align: right;\n",
       "    }\n",
       "</style>\n",
       "<table border=\"1\" class=\"dataframe\">\n",
       "  <thead>\n",
       "    <tr style=\"text-align: right;\">\n",
       "      <th></th>\n",
       "      <th>0</th>\n",
       "    </tr>\n",
       "  </thead>\n",
       "  <tbody>\n",
       "    <tr>\n",
       "      <th>0</th>\n",
       "      <td>(1,  )</td>\n",
       "    </tr>\n",
       "    <tr>\n",
       "      <th>1</th>\n",
       "      <td>(2,  )</td>\n",
       "    </tr>\n",
       "    <tr>\n",
       "      <th>2</th>\n",
       "      <td>(3,  )</td>\n",
       "    </tr>\n",
       "    <tr>\n",
       "      <th>3</th>\n",
       "      <td>(4,  )</td>\n",
       "    </tr>\n",
       "    <tr>\n",
       "      <th>4</th>\n",
       "      <td>(5,  )</td>\n",
       "    </tr>\n",
       "    <tr>\n",
       "      <th>...</th>\n",
       "      <td>...</td>\n",
       "    </tr>\n",
       "    <tr>\n",
       "      <th>123</th>\n",
       "      <td>(124,  )</td>\n",
       "    </tr>\n",
       "    <tr>\n",
       "      <th>124</th>\n",
       "      <td>(125,  )</td>\n",
       "    </tr>\n",
       "    <tr>\n",
       "      <th>125</th>\n",
       "      <td>(126,  )</td>\n",
       "    </tr>\n",
       "    <tr>\n",
       "      <th>126</th>\n",
       "      <td>(127,  )</td>\n",
       "    </tr>\n",
       "    <tr>\n",
       "      <th>127</th>\n",
       "      <td>(128,  )</td>\n",
       "    </tr>\n",
       "  </tbody>\n",
       "</table>\n",
       "<p>128 rows × 1 columns</p>\n",
       "</div>"
      ],
      "text/plain": [
       "            0\n",
       "0      (1,  )\n",
       "1      (2,  )\n",
       "2      (3,  )\n",
       "3      (4,  )\n",
       "4      (5,  )\n",
       "..        ...\n",
       "123  (124,  )\n",
       "124  (125,  )\n",
       "125  (126,  )\n",
       "126  (127,  )\n",
       "127  (128,  )\n",
       "\n",
       "[128 rows x 1 columns]"
      ]
     },
     "execution_count": 101,
     "metadata": {},
     "output_type": "execute_result"
    }
   ],
   "source": [
    "number_alignment"
   ]
  },
  {
   "cell_type": "code",
   "execution_count": 91,
   "id": "178e03ff-9d88-4e97-ab7c-7db052e6b8dc",
   "metadata": {},
   "outputs": [
    {
     "data": {
      "text/plain": [
       "array(['EVQLVESGGGLVQPGGSLRLSCAASGFTISDYWIHWVRQAPGKGLEWVAGITPAGGYTYYADSVKGRFTISADTSKNTAYLQMNSLRAEDTAVYYCARFVFFLPYAMDYWGQGTLVTVSS',\n",
       "       'DIQMTQSPSSLSASVGDRVTITCRASQDVSTAVAWYQQKPGKAPKLLIYSASFLYSGVPSRFSGSGSGTDFTLTISSLQPEDFATYYCQQGYGNPFTFGQGTKVEIK'],\n",
       "      dtype='<U120')"
      ]
     },
     "execution_count": 91,
     "metadata": {},
     "output_type": "execute_result"
    }
   ],
   "source": [
    "seqs = np.array([''.join([i[1] for i in onarci[0][0]]).replace('-','') for onarci in anarci_out[1]])\n",
    "seqs"
   ]
  },
  {
   "cell_type": "code",
   "execution_count": 97,
   "id": "34692351-c8ea-46ae-a47b-e6d1918d1ea3",
   "metadata": {},
   "outputs": [],
   "source": [
    "tokens = ablang.tokenizer(seqs, pad=True, device='cpu')\n",
    "residue_states = ablang.AbLang.AbRep(tokens).last_hidden_states"
   ]
  },
  {
   "cell_type": "code",
   "execution_count": 95,
   "id": "c1c815f0-d75f-4241-bfad-c042483e2850",
   "metadata": {},
   "outputs": [],
   "source": [
    "from dataclasses import dataclass\n",
    "\n",
    "@dataclass\n",
    "class output():\n",
    "    \"\"\"\n",
    "    Dataclass used to store output.\n",
    "    \"\"\"\n",
    "\n",
    "    aligned_embeds: None\n",
    "    number_alignment: None"
   ]
  },
  {
   "cell_type": "code",
   "execution_count": 98,
   "id": "76623ff7-fa80-4b1c-a068-cb352c706dd3",
   "metadata": {},
   "outputs": [
    {
     "data": {
      "text/plain": [
       "output(aligned_embeds=array([[[0.4613972306251526, 1.0685112476348877, 0.7762054800987244,\n",
       "         ..., -0.7970248460769653, 0.8016246557235718, 'E'],\n",
       "        [-0.7534506916999817, -1.2316561937332153, 0.9507046937942505,\n",
       "         ..., -0.406063437461853, 0.872414231300354, 'V'],\n",
       "        [-1.4717884063720703, 0.8980666995048523, -0.3871835172176361,\n",
       "         ..., -0.1660880744457245, -0.6099542379379272, 'Q'],\n",
       "        ...,\n",
       "        [0.3835337460041046, -1.285714864730835, 1.7692904472351074,\n",
       "         ..., 0.630329430103302, 1.3585598468780518, 'V'],\n",
       "        [0.5695177316665649, -0.9744346141815186, -0.3089022934436798,\n",
       "         ..., 1.1769897937774658, 0.0910077840089798, 'S'],\n",
       "        [0.22595854103565216, -0.8433693647384644, 0.2371145635843277,\n",
       "         ..., 0.606724739074707, -0.8787599802017212, 'S']],\n",
       "\n",
       "       [[-1.2355917692184448, 0.35814809799194336, 0.6471681594848633,\n",
       "         ..., -0.5038735270500183, 0.7922484278678894, 'D'],\n",
       "        [-1.5032204389572144, 0.49612152576446533, -0.6667340993881226,\n",
       "         ..., 0.8058152794837952, 1.4496055841445923, 'I'],\n",
       "        [-1.055715799331665, 1.1395857334136963, 0.1969354897737503,\n",
       "         ..., -0.3612540662288666, -0.11691544204950333, 'Q'],\n",
       "        ...,\n",
       "        [-1.1429548263549805, 0.9355058073997498, -0.18989752233028412,\n",
       "         ..., -0.0878821611404419, 0.5654232501983643, 'I'],\n",
       "        [-1.204806923866272, 0.4881618618965149, -1.1131765842437744,\n",
       "         ..., -0.24917635321617126, -0.787419319152832, 'K'],\n",
       "        [0.0, 0.0, 0.0, ..., 0.0, 0.0, '-']]], dtype=object), number_alignment=array(['1 ', '2 ', '3 ', '4 ', '5 ', '6 ', '7 ', '8 ', '9 ', '10 ', '11 ',\n",
       "       '12 ', '13 ', '14 ', '15 ', '16 ', '17 ', '18 ', '19 ', '20 ',\n",
       "       '21 ', '22 ', '23 ', '24 ', '25 ', '26 ', '27 ', '28 ', '29 ',\n",
       "       '30 ', '31 ', '32 ', '33 ', '34 ', '35 ', '36 ', '37 ', '38 ',\n",
       "       '39 ', '40 ', '41 ', '42 ', '43 ', '44 ', '45 ', '46 ', '47 ',\n",
       "       '48 ', '49 ', '50 ', '51 ', '52 ', '53 ', '54 ', '55 ', '56 ',\n",
       "       '57 ', '58 ', '59 ', '60 ', '61 ', '62 ', '63 ', '64 ', '65 ',\n",
       "       '66 ', '67 ', '68 ', '69 ', '70 ', '71 ', '72 ', '73 ', '74 ',\n",
       "       '75 ', '76 ', '77 ', '78 ', '79 ', '80 ', '81 ', '82 ', '83 ',\n",
       "       '84 ', '85 ', '86 ', '87 ', '88 ', '89 ', '90 ', '91 ', '92 ',\n",
       "       '93 ', '94 ', '95 ', '96 ', '97 ', '98 ', '99 ', '100 ', '101 ',\n",
       "       '102 ', '103 ', '104 ', '105 ', '106 ', '107 ', '108 ', '109 ',\n",
       "       '110 ', '111 ', '112 ', '113 ', '114 ', '115 ', '116 ', '117 ',\n",
       "       '118 ', '119 ', '120 ', '121 ', '122 ', '123 ', '124 ', '125 ',\n",
       "       '126 ', '127 ', '128 '], dtype=object))"
      ]
     },
     "execution_count": 98,
     "metadata": {},
     "output_type": "execute_result"
    }
   ],
   "source": [
    "if torch.is_tensor(residue_states): residue_states = residue_states.cpu().detach().numpy()\n",
    "\n",
    "residue_output = np.array([create_alignment(res_embed, oanarci, seq, number_alignment) for res_embed, oanarci, seq in zip(residue_states, anarci_out[1], seqs)])\n",
    "#del residue_states\n",
    "#del tokens\n",
    "\n",
    "output(aligned_embeds=residue_output, number_alignment=number_alignment.apply(lambda x: '{}{}'.format(*x[0]), axis=1).values)"
   ]
  },
  {
   "cell_type": "code",
   "execution_count": null,
   "id": "9e463311-401b-4a92-861f-30783d7c50c8",
   "metadata": {},
   "outputs": [],
   "source": []
  },
  {
   "cell_type": "code",
   "execution_count": null,
   "id": "19236dad-de3d-4f46-a811-2c85f8254327",
   "metadata": {},
   "outputs": [],
   "source": []
  },
  {
   "cell_type": "code",
   "execution_count": null,
   "id": "b42ccabb-1d73-442d-82a1-0fbd6525a292",
   "metadata": {},
   "outputs": [],
   "source": [
    "self.AbRep = model.AbRep\n",
    "        self.tokenizer = tokenizer"
   ]
  },
  {
   "cell_type": "code",
   "execution_count": null,
   "id": "f1cd29af-4de4-44f7-ab68-a4c59b7d5952",
   "metadata": {},
   "outputs": [],
   "source": [
    "tokens = self.tokenizer(seqs, pad=True, device=self.device)\n",
    "residue_states = self.AbRep(tokens).last_hidden_states"
   ]
  },
  {
   "cell_type": "code",
   "execution_count": null,
   "id": "0a43b361-ca85-439c-b6bd-5a675f5ab669",
   "metadata": {},
   "outputs": [],
   "source": [
    "ablang."
   ]
  },
  {
   "cell_type": "code",
   "execution_count": null,
   "id": "17bc8ecb-6de1-4bfc-9081-84a8744fc321",
   "metadata": {},
   "outputs": [],
   "source": [
    "\n",
    "\n",
    "\n",
    "\n",
    "\n",
    "if torch.is_tensor(residue_states): residue_states = residue_states.cpu().detach().numpy()\n",
    "\n",
    "residue_output = np.array([create_alignment(res_embed, oanarci, seq, number_alignment) for res_embed, oanarci, seq in zip(residue_states, anarci_out[1], seqs)])\n",
    "del residue_states\n",
    "del tokens\n",
    "\n",
    "output(aligned_embeds=residue_output, number_alignment=number_alignment.apply(lambda x: '{}{}'.format(*x[0]), axis=1).values)"
   ]
  },
  {
   "cell_type": "code",
   "execution_count": 5,
   "id": "9eccc432-f48b-4358-9aca-b7e5cb938a55",
   "metadata": {},
   "outputs": [
    {
     "ename": "HMMscanError",
     "evalue": "b'Parse failed (sequence file /tmp/tmpw4dxh0x5.fasta):\\nLine 2: illegal character <\\n\\n'",
     "output_type": "error",
     "traceback": [
      "\u001b[0;31m---------------------------------------------------------------------------\u001b[0m",
      "\u001b[0;31mHMMscanError\u001b[0m                              Traceback (most recent call last)",
      "Cell \u001b[0;32mIn[5], line 1\u001b[0m\n\u001b[0;32m----> 1\u001b[0m \u001b[43mablang\u001b[49m\u001b[43m(\u001b[49m\u001b[43m[\u001b[49m\u001b[43mab_pair\u001b[49m\u001b[43m,\u001b[49m\u001b[43mab_pair_r\u001b[49m\u001b[43m]\u001b[49m\u001b[43m,\u001b[49m\u001b[43m \u001b[49m\u001b[43mmode\u001b[49m\u001b[38;5;241;43m=\u001b[39;49m\u001b[38;5;124;43m'\u001b[39;49m\u001b[38;5;124;43mrescoding\u001b[39;49m\u001b[38;5;124;43m'\u001b[39;49m\u001b[43m,\u001b[49m\u001b[43m \u001b[49m\u001b[43malign\u001b[49m\u001b[38;5;241;43m=\u001b[39;49m\u001b[38;5;28;43;01mTrue\u001b[39;49;00m\u001b[43m,\u001b[49m\u001b[43m \u001b[49m\u001b[43msplitSize\u001b[49m\u001b[38;5;241;43m=\u001b[39;49m\u001b[38;5;241;43m50\u001b[39;49m\u001b[43m)\u001b[49m\n",
      "File \u001b[0;32m/data/iraqbabbler/olsen/Documents/projects/AbLang/model-catalogue/paired-ablang/train_ablang_pair/notebooks/../ablang_train/models/pretrained.py:53\u001b[0m, in \u001b[0;36mpretrained.__call__\u001b[0;34m(self, sequence, mode, align, splitSize)\u001b[0m\n\u001b[1;32m     51\u001b[0m aList \u001b[38;5;241m=\u001b[39m []\n\u001b[1;32m     52\u001b[0m \u001b[38;5;28;01mfor\u001b[39;00m sequence_part \u001b[38;5;129;01min\u001b[39;00m [sequence[x:x\u001b[38;5;241m+\u001b[39msplitSize] \u001b[38;5;28;01mfor\u001b[39;00m x \u001b[38;5;129;01min\u001b[39;00m \u001b[38;5;28mrange\u001b[39m(\u001b[38;5;241m0\u001b[39m, \u001b[38;5;28mlen\u001b[39m(sequence), splitSize)]:\n\u001b[0;32m---> 53\u001b[0m     aList\u001b[38;5;241m.\u001b[39mappend(\u001b[38;5;28;43mgetattr\u001b[39;49m\u001b[43m(\u001b[49m\u001b[38;5;28;43mself\u001b[39;49m\u001b[43m,\u001b[49m\u001b[43m \u001b[49m\u001b[43mmode\u001b[49m\u001b[43m)\u001b[49m\u001b[43m(\u001b[49m\u001b[43msequence_part\u001b[49m\u001b[43m,\u001b[49m\u001b[43m \u001b[49m\u001b[43malign\u001b[49m\u001b[43m)\u001b[49m)\n\u001b[1;32m     55\u001b[0m \u001b[38;5;28;01mif\u001b[39;00m mode \u001b[38;5;241m==\u001b[39m \u001b[38;5;124m'\u001b[39m\u001b[38;5;124mrescoding\u001b[39m\u001b[38;5;124m'\u001b[39m:\n\u001b[1;32m     56\u001b[0m     \u001b[38;5;28;01mif\u001b[39;00m align\u001b[38;5;241m==\u001b[39m\u001b[38;5;28;01mTrue\u001b[39;00m:\n",
      "File \u001b[0;32m/data/iraqbabbler/olsen/Documents/projects/AbLang/model-catalogue/paired-ablang/train_ablang_pair/notebooks/../ablang_train/models/pretrained.py:95\u001b[0m, in \u001b[0;36mpretrained.rescoding\u001b[0;34m(self, seqs, align)\u001b[0m\n\u001b[1;32m     90\u001b[0m \u001b[38;5;28;01mdef\u001b[39;00m \u001b[38;5;21mrescoding\u001b[39m(\u001b[38;5;28mself\u001b[39m, seqs, align\u001b[38;5;241m=\u001b[39m\u001b[38;5;28;01mFalse\u001b[39;00m):\n\u001b[1;32m     91\u001b[0m \u001b[38;5;250m    \u001b[39m\u001b[38;5;124;03m\"\"\"\u001b[39;00m\n\u001b[1;32m     92\u001b[0m \u001b[38;5;124;03m    Residue specific representations.\u001b[39;00m\n\u001b[1;32m     93\u001b[0m \u001b[38;5;124;03m    \"\"\"\u001b[39;00m\n\u001b[0;32m---> 95\u001b[0m     \u001b[38;5;28;01mreturn\u001b[39;00m \u001b[38;5;28;43mself\u001b[39;49m\u001b[38;5;241;43m.\u001b[39;49m\u001b[43mencode_antibody\u001b[49m\u001b[38;5;241;43m.\u001b[39;49m\u001b[43mget_res_coding\u001b[49m\u001b[43m(\u001b[49m\u001b[43mseqs\u001b[49m\u001b[43m,\u001b[49m\u001b[43m \u001b[49m\u001b[43malign\u001b[49m\u001b[43m)\u001b[49m\n",
      "File \u001b[0;32m/data/iraqbabbler/olsen/Documents/projects/AbLang/model-catalogue/paired-ablang/train_ablang_pair/notebooks/../ablang_train/models/pretrained_utils/encodings.py:52\u001b[0m, in \u001b[0;36mAbEncoding.get_res_coding\u001b[0;34m(self, seqs, align)\u001b[0m\n\u001b[1;32m     49\u001b[0m \u001b[38;5;28;01mimport\u001b[39;00m \u001b[38;5;21;01mpandas\u001b[39;00m \u001b[38;5;28;01mas\u001b[39;00m \u001b[38;5;21;01mpd\u001b[39;00m\n\u001b[1;32m     50\u001b[0m \u001b[38;5;28;01mimport\u001b[39;00m \u001b[38;5;21;01manarci\u001b[39;00m\n\u001b[0;32m---> 52\u001b[0m anarci_out \u001b[38;5;241m=\u001b[39m \u001b[43manarci\u001b[49m\u001b[38;5;241;43m.\u001b[39;49m\u001b[43mrun_anarci\u001b[49m\u001b[43m(\u001b[49m\n\u001b[1;32m     53\u001b[0m \u001b[43m    \u001b[49m\u001b[43mpd\u001b[49m\u001b[38;5;241;43m.\u001b[39;49m\u001b[43mDataFrame\u001b[49m\u001b[43m(\u001b[49m\u001b[43mseqs\u001b[49m\u001b[43m)\u001b[49m\u001b[38;5;241;43m.\u001b[39;49m\u001b[43mreset_index\u001b[49m\u001b[43m(\u001b[49m\u001b[43m)\u001b[49m\u001b[38;5;241;43m.\u001b[39;49m\u001b[43mvalues\u001b[49m\u001b[38;5;241;43m.\u001b[39;49m\u001b[43mtolist\u001b[49m\u001b[43m(\u001b[49m\u001b[43m)\u001b[49m\u001b[43m,\u001b[49m\u001b[43m \u001b[49m\n\u001b[1;32m     54\u001b[0m \u001b[43m    \u001b[49m\u001b[43mncpu\u001b[49m\u001b[38;5;241;43m=\u001b[39;49m\u001b[38;5;28;43mself\u001b[39;49m\u001b[38;5;241;43m.\u001b[39;49m\u001b[43mncpu\u001b[49m\u001b[43m,\u001b[49m\u001b[43m \u001b[49m\n\u001b[1;32m     55\u001b[0m \u001b[43m    \u001b[49m\u001b[43mscheme\u001b[49m\u001b[38;5;241;43m=\u001b[39;49m\u001b[38;5;124;43m'\u001b[39;49m\u001b[38;5;124;43mimgt\u001b[39;49m\u001b[38;5;124;43m'\u001b[39;49m\u001b[43m,\u001b[49m\n\u001b[1;32m     56\u001b[0m \u001b[43m    \u001b[49m\u001b[43mallowed_species\u001b[49m\u001b[38;5;241;43m=\u001b[39;49m\u001b[43m[\u001b[49m\u001b[38;5;124;43m'\u001b[39;49m\u001b[38;5;124;43mhuman\u001b[39;49m\u001b[38;5;124;43m'\u001b[39;49m\u001b[43m,\u001b[49m\u001b[43m \u001b[49m\u001b[38;5;124;43m'\u001b[39;49m\u001b[38;5;124;43mmouse\u001b[39;49m\u001b[38;5;124;43m'\u001b[39;49m\u001b[43m]\u001b[49m\u001b[43m,\u001b[49m\n\u001b[1;32m     57\u001b[0m \u001b[43m\u001b[49m\u001b[43m)\u001b[49m\n\u001b[1;32m     58\u001b[0m number_alignment \u001b[38;5;241m=\u001b[39m get_number_alignment(anarci_out)\n\u001b[1;32m     60\u001b[0m seqs \u001b[38;5;241m=\u001b[39m np\u001b[38;5;241m.\u001b[39marray([\u001b[38;5;124m'\u001b[39m\u001b[38;5;124m'\u001b[39m\u001b[38;5;241m.\u001b[39mjoin([i[\u001b[38;5;241m1\u001b[39m] \u001b[38;5;28;01mfor\u001b[39;00m i \u001b[38;5;129;01min\u001b[39;00m onarci[\u001b[38;5;241m0\u001b[39m][\u001b[38;5;241m0\u001b[39m]])\u001b[38;5;241m.\u001b[39mreplace(\u001b[38;5;124m'\u001b[39m\u001b[38;5;124m-\u001b[39m\u001b[38;5;124m'\u001b[39m,\u001b[38;5;124m'\u001b[39m\u001b[38;5;124m'\u001b[39m) \u001b[38;5;28;01mfor\u001b[39;00m onarci \u001b[38;5;129;01min\u001b[39;00m anarci_out[\u001b[38;5;241m1\u001b[39m]])\n",
      "File \u001b[0;32m/data/iraqbabbler/olsen/miniconda3/envs/ablang-test/lib/python3.10/site-packages/anarci/anarci.py:931\u001b[0m, in \u001b[0;36mrun_anarci\u001b[0;34m(seq, ncpu, **kwargs)\u001b[0m\n\u001b[1;32m    929\u001b[0m     pool\u001b[38;5;241m.\u001b[39mclose()\n\u001b[1;32m    930\u001b[0m \u001b[38;5;28;01melse\u001b[39;00m:\n\u001b[0;32m--> 931\u001b[0m     results \u001b[38;5;241m=\u001b[39m \u001b[38;5;28;43mlist\u001b[39;49m\u001b[43m(\u001b[49m\u001b[38;5;28;43mmap\u001b[39;49m\u001b[43m(\u001b[49m\u001b[43m \u001b[49m\u001b[43manarci_partial\u001b[49m\u001b[43m,\u001b[49m\u001b[43m \u001b[49m\u001b[43mgrouper\u001b[49m\u001b[43m(\u001b[49m\u001b[43m \u001b[49m\u001b[43mchunksize\u001b[49m\u001b[43m,\u001b[49m\u001b[43m \u001b[49m\u001b[43msequences\u001b[49m\u001b[43m \u001b[49m\u001b[43m)\u001b[49m\u001b[43m \u001b[49m\u001b[43m)\u001b[49m\u001b[43m)\u001b[49m\n\u001b[1;32m    933\u001b[0m \u001b[38;5;66;03m# Reformat the results to flat lists.\u001b[39;00m\n\u001b[1;32m    934\u001b[0m numbered \u001b[38;5;241m=\u001b[39m \u001b[38;5;28msum\u001b[39m( (_[\u001b[38;5;241m0\u001b[39m] \u001b[38;5;28;01mfor\u001b[39;00m _ \u001b[38;5;129;01min\u001b[39;00m results), [] )\n",
      "File \u001b[0;32m/data/iraqbabbler/olsen/miniconda3/envs/ablang-test/lib/python3.10/site-packages/anarci/anarci.py:830\u001b[0m, in \u001b[0;36manarci\u001b[0;34m(sequences, scheme, database, output, outfile, csv, allow, hmmerpath, ncpu, assign_germline, allowed_species, bit_score_threshold)\u001b[0m\n\u001b[1;32m    826\u001b[0m     \u001b[38;5;28;01massert\u001b[39;00m (\u001b[38;5;129;01mnot\u001b[39;00m _path) \u001b[38;5;129;01mor\u001b[39;00m os\u001b[38;5;241m.\u001b[39mpath\u001b[38;5;241m.\u001b[39mexists(_path), \u001b[38;5;124m'\u001b[39m\u001b[38;5;124mOutput directory \u001b[39m\u001b[38;5;132;01m%s\u001b[39;00m\u001b[38;5;124m does not exist\u001b[39m\u001b[38;5;124m'\u001b[39m\u001b[38;5;241m%\u001b[39m_path\n\u001b[1;32m    829\u001b[0m \u001b[38;5;66;03m# Perform the alignments of the sequences to the hmm database\u001b[39;00m\n\u001b[0;32m--> 830\u001b[0m alignments \u001b[38;5;241m=\u001b[39m \u001b[43mrun_hmmer\u001b[49m\u001b[43m(\u001b[49m\u001b[43msequences\u001b[49m\u001b[43m,\u001b[49m\u001b[43mhmm_database\u001b[49m\u001b[38;5;241;43m=\u001b[39;49m\u001b[43mdatabase\u001b[49m\u001b[43m,\u001b[49m\u001b[43mhmmerpath\u001b[49m\u001b[38;5;241;43m=\u001b[39;49m\u001b[43mhmmerpath\u001b[49m\u001b[43m,\u001b[49m\u001b[43mncpu\u001b[49m\u001b[38;5;241;43m=\u001b[39;49m\u001b[43mncpu\u001b[49m\u001b[43m,\u001b[49m\u001b[43mbit_score_threshold\u001b[49m\u001b[38;5;241;43m=\u001b[39;49m\u001b[43mbit_score_threshold\u001b[49m\u001b[43m,\u001b[49m\u001b[43mhmmer_species\u001b[49m\u001b[38;5;241;43m=\u001b[39;49m\u001b[43mallowed_species\u001b[49m\u001b[43m \u001b[49m\u001b[43m)\u001b[49m   \n\u001b[1;32m    832\u001b[0m \u001b[38;5;66;03m# Check the numbering for likely very long CDR3s that will have been missed by the first pass.\u001b[39;00m\n\u001b[1;32m    833\u001b[0m \u001b[38;5;66;03m# Modify alignments in-place\u001b[39;00m\n\u001b[1;32m    834\u001b[0m check_for_j( sequences, alignments, scheme )\n",
      "File \u001b[0;32m/data/iraqbabbler/olsen/miniconda3/envs/ablang-test/lib/python3.10/site-packages/anarci/anarci.py:527\u001b[0m, in \u001b[0;36mrun_hmmer\u001b[0;34m(sequence_list, hmm_database, hmmerpath, ncpu, bit_score_threshold, hmmer_species)\u001b[0m\n\u001b[1;32m    524\u001b[0m         _f \u001b[38;5;241m=\u001b[39m os\u001b[38;5;241m.\u001b[39mfdopen(output_filehandle) \u001b[38;5;66;03m# This is to remove the filedescriptor from the os. I have had problems with it before.\u001b[39;00m\n\u001b[1;32m    525\u001b[0m         _f\u001b[38;5;241m.\u001b[39mclose()\n\u001b[0;32m--> 527\u001b[0m         \u001b[38;5;28;01mraise\u001b[39;00m HMMscanError(pr_stderr)\n\u001b[1;32m    528\u001b[0m     results \u001b[38;5;241m=\u001b[39m parse_hmmer_output(output_filehandle, bit_score_threshold\u001b[38;5;241m=\u001b[39mbit_score_threshold, hmmer_species\u001b[38;5;241m=\u001b[39mhmmer_species)\n\u001b[1;32m    530\u001b[0m \u001b[38;5;28;01mfinally\u001b[39;00m:\n\u001b[1;32m    531\u001b[0m     \u001b[38;5;66;03m# clear up\u001b[39;00m\n",
      "\u001b[0;31mHMMscanError\u001b[0m: b'Parse failed (sequence file /tmp/tmpw4dxh0x5.fasta):\\nLine 2: illegal character <\\n\\n'"
     ]
    }
   ],
   "source": [
    "ablang([ab_pair,ab_pair_r], mode='rescoding', align=True, splitSize=50)"
   ]
  },
  {
   "cell_type": "code",
   "execution_count": null,
   "id": "be900bd8-97e0-41c5-be9e-34fa32130ad9",
   "metadata": {},
   "outputs": [],
   "source": []
  },
  {
   "cell_type": "code",
   "execution_count": 79,
   "id": "197e341d-f1bd-4909-a22f-afab59d32161",
   "metadata": {},
   "outputs": [],
   "source": [
    "from ablang_train.models.ablang import AbLang"
   ]
  },
  {
   "cell_type": "code",
   "execution_count": 80,
   "id": "96f37051-a044-47e1-a97b-88a61c88d4e3",
   "metadata": {},
   "outputs": [],
   "source": [
    "ablang = AbLang(vocab_size=4,\n",
    "        hidden_embed_size=16,\n",
    "        n_attn_heads=4,\n",
    "        n_encoder_blocks=2,\n",
    "        padding_tkn=0,\n",
    "        mask_tkn=3,)"
   ]
  },
  {
   "cell_type": "code",
   "execution_count": 82,
   "id": "e2cb82c8-a651-4c51-a0d1-b41463a1b4f6",
   "metadata": {},
   "outputs": [
    {
     "data": {
      "text/plain": [
       "tensor([[0, 1, 2, 3]])"
      ]
     },
     "execution_count": 82,
     "metadata": {},
     "output_type": "execute_result"
    }
   ],
   "source": [
    "tokens = torch.tensor([\n",
    "    [0,1,2,3],\n",
    "                      ], dtype=torch.long)\n",
    "tokens"
   ]
  },
  {
   "cell_type": "code",
   "execution_count": 90,
   "id": "ada29f10-7d9d-45ff-9c76-17978f63379c",
   "metadata": {
    "tags": []
   },
   "outputs": [
    {
     "data": {
      "text/plain": [
       "{2: tensor([[[ 0.2327, -0.1555, -0.7025, -0.8217, -0.0856, -0.4235, -0.2889,\n",
       "           -0.0624, -0.0650, -0.3749,  0.7145,  0.0140,  0.0896,  0.5281,\n",
       "            0.8019,  1.2476],\n",
       "          [ 0.7048, -0.4268, -0.3315,  0.3884,  0.5851, -0.0375,  1.8209,\n",
       "           -0.4440,  1.9818, -1.0619, -0.4103, -0.2634,  0.5767,  1.3101,\n",
       "            0.2629,  1.6628],\n",
       "          [-0.6320,  0.0548, -1.1223, -0.5441,  0.2610,  0.1699, -0.3428,\n",
       "            0.2558, -0.0319,  0.1000,  1.1150, -0.8741,  0.5784, -0.2684,\n",
       "            0.9530,  1.5182],\n",
       "          [-1.9320,  0.5851, -0.2541,  0.3242,  0.2795,  0.4169, -0.4958,\n",
       "            1.5475,  0.9840, -1.1764,  0.1803, -0.1073, -1.2005, -1.2085,\n",
       "            1.5555,  1.4763]]], grad_fn=<AddBackward0>)}"
      ]
     },
     "execution_count": 90,
     "metadata": {},
     "output_type": "execute_result"
    }
   ],
   "source": [
    "embeds = ablang(tokens, return_rep_layers=[2])\n",
    "embeds"
   ]
  },
  {
   "cell_type": "code",
   "execution_count": 73,
   "id": "4cd215ee-5f41-4832-8775-2434646bfe54",
   "metadata": {},
   "outputs": [
    {
     "data": {
      "text/plain": [
       "torch.Size([1, 4, 4])"
      ]
     },
     "execution_count": 73,
     "metadata": {},
     "output_type": "execute_result"
    }
   ],
   "source": [
    "embeds.shape"
   ]
  }
 ],
 "metadata": {
  "kernelspec": {
   "display_name": "Python [conda env:ablang-test]",
   "language": "python",
   "name": "conda-env-ablang-test-py"
  },
  "language_info": {
   "codemirror_mode": {
    "name": "ipython",
    "version": 3
   },
   "file_extension": ".py",
   "mimetype": "text/x-python",
   "name": "python",
   "nbconvert_exporter": "python",
   "pygments_lexer": "ipython3",
   "version": "3.10.8"
  }
 },
 "nbformat": 4,
 "nbformat_minor": 5
}
