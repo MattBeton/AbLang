{
 "cells": [
  {
   "cell_type": "code",
   "execution_count": 2,
   "id": "e391a8b6-1b26-427f-beec-7a367e8293b1",
   "metadata": {},
   "outputs": [
    {
     "name": "stdout",
     "output_type": "stream",
     "text": [
      "The autoreload extension is already loaded. To reload it, use:\n",
      "  %reload_ext autoreload\n"
     ]
    }
   ],
   "source": [
    "%load_ext autoreload\n",
    "%autoreload 2\n",
    "\n",
    "import sys, glob, os, gzip\n",
    "sys.path.insert(1, os.path.join(sys.path[0], '..'))\n",
    "\n",
    "import pandas as pd\n",
    "\n",
    "import torch\n",
    "\n",
    "from ablang_train import models"
   ]
  },
  {
   "cell_type": "code",
   "execution_count": 6,
   "id": "c37ee007-20e3-419d-a6cc-94557d365978",
   "metadata": {},
   "outputs": [],
   "source": [
    "ablang = models.pretrained(\"/vols/bitbucket/olsen/models/ABLANG-444\")"
   ]
  },
  {
   "cell_type": "code",
   "execution_count": 7,
   "id": "52574ad9-3b88-43b7-96be-7377166a10d4",
   "metadata": {},
   "outputs": [
    {
     "data": {
      "text/plain": [
       "<ablang_train.models.pretrained.pretrained at 0x7fa1f68bf550>"
      ]
     },
     "execution_count": 7,
     "metadata": {},
     "output_type": "execute_result"
    }
   ],
   "source": [
    "ablang"
   ]
  },
  {
   "cell_type": "code",
   "execution_count": null,
   "id": "9eccc432-f48b-4358-9aca-b7e5cb938a55",
   "metadata": {},
   "outputs": [],
   "source": []
  },
  {
   "cell_type": "code",
   "execution_count": null,
   "id": "be900bd8-97e0-41c5-be9e-34fa32130ad9",
   "metadata": {},
   "outputs": [],
   "source": []
  },
  {
   "cell_type": "code",
   "execution_count": 79,
   "id": "197e341d-f1bd-4909-a22f-afab59d32161",
   "metadata": {},
   "outputs": [],
   "source": [
    "from ablang_train.models.ablang import AbLang"
   ]
  },
  {
   "cell_type": "code",
   "execution_count": 80,
   "id": "96f37051-a044-47e1-a97b-88a61c88d4e3",
   "metadata": {},
   "outputs": [],
   "source": [
    "ablang = AbLang(vocab_size=4,\n",
    "        hidden_embed_size=16,\n",
    "        n_attn_heads=4,\n",
    "        n_encoder_blocks=2,\n",
    "        padding_tkn=0,\n",
    "        mask_tkn=3,)"
   ]
  },
  {
   "cell_type": "code",
   "execution_count": 82,
   "id": "e2cb82c8-a651-4c51-a0d1-b41463a1b4f6",
   "metadata": {},
   "outputs": [
    {
     "data": {
      "text/plain": [
       "tensor([[0, 1, 2, 3]])"
      ]
     },
     "execution_count": 82,
     "metadata": {},
     "output_type": "execute_result"
    }
   ],
   "source": [
    "tokens = torch.tensor([\n",
    "    [0,1,2,3],\n",
    "                      ], dtype=torch.long)\n",
    "tokens"
   ]
  },
  {
   "cell_type": "code",
   "execution_count": 90,
   "id": "ada29f10-7d9d-45ff-9c76-17978f63379c",
   "metadata": {
    "tags": []
   },
   "outputs": [
    {
     "data": {
      "text/plain": [
       "{2: tensor([[[ 0.2327, -0.1555, -0.7025, -0.8217, -0.0856, -0.4235, -0.2889,\n",
       "           -0.0624, -0.0650, -0.3749,  0.7145,  0.0140,  0.0896,  0.5281,\n",
       "            0.8019,  1.2476],\n",
       "          [ 0.7048, -0.4268, -0.3315,  0.3884,  0.5851, -0.0375,  1.8209,\n",
       "           -0.4440,  1.9818, -1.0619, -0.4103, -0.2634,  0.5767,  1.3101,\n",
       "            0.2629,  1.6628],\n",
       "          [-0.6320,  0.0548, -1.1223, -0.5441,  0.2610,  0.1699, -0.3428,\n",
       "            0.2558, -0.0319,  0.1000,  1.1150, -0.8741,  0.5784, -0.2684,\n",
       "            0.9530,  1.5182],\n",
       "          [-1.9320,  0.5851, -0.2541,  0.3242,  0.2795,  0.4169, -0.4958,\n",
       "            1.5475,  0.9840, -1.1764,  0.1803, -0.1073, -1.2005, -1.2085,\n",
       "            1.5555,  1.4763]]], grad_fn=<AddBackward0>)}"
      ]
     },
     "execution_count": 90,
     "metadata": {},
     "output_type": "execute_result"
    }
   ],
   "source": [
    "embeds = ablang(tokens, return_rep_layers=[2])\n",
    "embeds"
   ]
  },
  {
   "cell_type": "code",
   "execution_count": 73,
   "id": "4cd215ee-5f41-4832-8775-2434646bfe54",
   "metadata": {},
   "outputs": [
    {
     "data": {
      "text/plain": [
       "torch.Size([1, 4, 4])"
      ]
     },
     "execution_count": 73,
     "metadata": {},
     "output_type": "execute_result"
    }
   ],
   "source": [
    "embeds.shape"
   ]
  }
 ],
 "metadata": {
  "kernelspec": {
   "display_name": "ablang-train",
   "language": "python",
   "name": "ablang-train"
  },
  "language_info": {
   "codemirror_mode": {
    "name": "ipython",
    "version": 3
   },
   "file_extension": ".py",
   "mimetype": "text/x-python",
   "name": "python",
   "nbconvert_exporter": "python",
   "pygments_lexer": "ipython3",
   "version": "3.9.15"
  }
 },
 "nbformat": 4,
 "nbformat_minor": 5
}
