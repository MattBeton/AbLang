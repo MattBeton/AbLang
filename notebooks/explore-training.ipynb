{
 "cells": [
  {
   "cell_type": "code",
   "execution_count": 1,
   "id": "dee14605-52fd-4bd8-8e4a-817745ec0876",
   "metadata": {},
   "outputs": [],
   "source": [
    "%load_ext autoreload\n",
    "%autoreload 2\n",
    "\n",
    "import sys, glob, os, gzip\n",
    "sys.path.insert(1, os.path.join(sys.path[0], '..'))\n",
    "\n",
    "import numpy as np\n",
    "import pandas as pd\n",
    "\n",
    "import torch\n",
    "import pytorch_lightning as pl\n",
    "from pytorch_lightning.loggers.neptune import NeptuneLogger\n",
    "\n",
    "from ablang_train import ABtokenizer, AbLang, trainingframe\n",
    "from ablang_train.train_utils import callback_handler, datamodule, arghandler"
   ]
  },
  {
   "cell_type": "code",
   "execution_count": 2,
   "id": "1b8d8ce2-a095-440f-90ef-915b86a64fa5",
   "metadata": {},
   "outputs": [],
   "source": [
    "def set_neptune_logger(args):\n",
    "    \"\"\"\n",
    "    Initialize Neptune logger\n",
    "    \"\"\"\n",
    "\n",
    "    neptune_args = { 'api_key':\"eyJhcGlfYWRkcmVzcyI6Imh0dHBzOi8vYXBwLm5lcHR1bmUuYWkiLCJhcGlfdXJsIjoiaHR0cHM6Ly9hcHAubmVwdHVuZS5haSIsImFwaV9rZXkiOiI0N2Y2YmIxMS02OWM3LTRhY2MtYTQxOC0xODU5N2E0ODFmMzEifQ==\",\n",
    "    'project':\"tobiasheol/AbLangTraining\",\n",
    "    'name':args.name,\n",
    "    'log_model_checkpoints':False,\n",
    "    }\n",
    "\n",
    "    return NeptuneLogger(**neptune_args)"
   ]
  },
  {
   "cell_type": "code",
   "execution_count": 3,
   "id": "620992d1-78f5-4ddf-8318-189131fe4e1a",
   "metadata": {},
   "outputs": [],
   "source": [
    "# SET ARGUMENTS AND HPARAMS\n",
    "arguments = arghandler.parse_args(args=\"\", is_test=True)\n",
    "logger = set_neptune_logger(arguments.model_specific_args)\n",
    "\n",
    "arguments.model_specific_args.num_encoder_blocks = 1\n",
    "arguments.model_specific_args.over_sample_data = 0\n",
    "arguments.model_specific_args.data_path = '../data/single_data/'\n",
    "arguments.model_specific_args.max_fit_batch_size = 1\n",
    "arguments.model_specific_args.effective_batch_size = 1\n",
    "arguments.model_specific_args.eval_batch_size = 1\n",
    "arguments.model_specific_args.val_check_interval = 1\n",
    "arguments.model_specific_args.use_tkn_dropout = False\n",
    "\n",
    "arguments.trainer_args['logger'] = logger\n",
    "arguments.trainer_args['log_every_n_steps'] = 1\n",
    "\n",
    "callbacks = callback_handler.CallbackHandler(save_step_frequency=1, \n",
    "                                progress_refresh_rate=0, \n",
    "                                outpath=arguments.model_specific_args.out_path)"
   ]
  },
  {
   "cell_type": "code",
   "execution_count": 4,
   "id": "6c44c612-7ea6-43e5-a584-66c91edacaef",
   "metadata": {},
   "outputs": [
    {
     "name": "stderr",
     "output_type": "stream",
     "text": [
      "Global seed set to 42\n"
     ]
    }
   ],
   "source": [
    "def enforce_reproducibility(seed=42):\n",
    "    # Sets seed manually for both CPU and CUDA\n",
    "    torch.manual_seed(seed)\n",
    "    # For atomic operations there is currently\n",
    "    # no simple way to enforce determinism, as\n",
    "    # the order of parallel operations is not known.\n",
    "    #\n",
    "    # CUDNN\n",
    "    torch.backends.cudnn.deterministic = True\n",
    "    torch.backends.cudnn.benchmark = False\n",
    "    # System based\n",
    "    np.random.seed(seed)\n",
    "    \n",
    "    pl.seed_everything(seed)\n",
    "    \n",
    "# SET SEED - IMPORTANT FOR MULTIPLE GPUS, OTHERWISE GOOD FOR REPRODUCIBILITY\n",
    "enforce_reproducibility(arguments.model_specific_args.seed)"
   ]
  },
  {
   "cell_type": "code",
   "execution_count": 9,
   "id": "531b297a-74e4-4488-91ad-bc3f53deaf8f",
   "metadata": {
    "tags": []
   },
   "outputs": [
    {
     "name": "stdout",
     "output_type": "stream",
     "text": [
      "tensor([ 0, 10,  7, 23, 20,  8, 10, 13, 13,  7, 20,  7,  6, 14, 13,  2, 23,  2,\n",
      "         3,  8, 16,  7, 11,  7, 12,  7, 23,  7,  9, 16, 23,  9, 23, 23, 23,  9,\n",
      "        10, 23,  2, 10, 23, 23, 12,  4,  8, 13, 16, 20, 23, 16, 23, 18,  5, 23,\n",
      "        20, 23, 13, 23, 12, 23,  7,  5,  2, 23,  7, 23,  7,  4,  7, 23,  8,  7,\n",
      "        14, 23, 23, 14, 16,  7, 12, 20, 10,  7,  6,  5,  6, 14,  5, 18, 18, 11,\n",
      "        14,  8, 19,  5,  5,  7, 23,  9, 12, 23, 23, 17, 23, 12, 12,  8,  4, 20,\n",
      "         8, 15, 20, 22, 22, 21, 21, 21, 21, 21, 21, 21, 21, 21, 21, 21, 21, 21,\n",
      "        21, 21, 21, 21, 21, 21, 21, 21, 21, 21, 21, 21, 21, 21, 21, 21, 21, 21,\n",
      "        21, 21, 21, 21, 21, 21, 21, 21, 21, 21, 21, 21, 21, 21, 21, 21, 21, 21,\n",
      "        21, 21, 21, 21, 21, 21, 21, 21, 21, 21, 21, 21, 21, 21, 21, 21, 21, 21,\n",
      "        21, 21, 21, 21, 21, 21, 21, 21, 21, 21, 21, 21, 21, 21, 21, 21, 21, 21,\n",
      "        21, 21, 21, 21, 21, 21, 21, 21, 21, 21, 21, 21, 21, 21, 21, 21, 21, 21,\n",
      "        21, 21, 21, 21, 21, 21, 21])\n",
      "tensor([   0, -100, -100,   15, -100, -100, -100, -100, -100, -100, -100, -100,\n",
      "        -100, -100, -100, -100,   10, -100, -100, -100, -100, -100, -100, -100,\n",
      "        -100, -100,    8, -100, -100, -100,   12, -100,    9,   14,   15, -100,\n",
      "        -100,   18, -100, -100,   20,   13, -100, -100, -100, -100, -100, -100,\n",
      "          20, -100,   18, -100, -100,    6, -100,   20, -100,    7, -100,   15,\n",
      "        -100, -100, -100,   17, -100,   12, -100, -100, -100,   12, -100, -100,\n",
      "        -100,    7,   20, -100, -100, -100, -100, -100, -100, -100, -100, -100,\n",
      "        -100, -100, -100, -100, -100, -100, -100, -100, -100, -100, -100, -100,\n",
      "          20, -100, -100,   19,   15, -100,   12, -100, -100, -100, -100, -100,\n",
      "        -100, -100, -100,   22,   22, -100, -100, -100, -100, -100, -100, -100,\n",
      "        -100, -100, -100, -100, -100, -100, -100, -100, -100, -100, -100, -100,\n",
      "        -100, -100, -100, -100, -100, -100, -100, -100, -100, -100, -100, -100,\n",
      "        -100, -100, -100, -100, -100, -100, -100, -100, -100, -100, -100, -100,\n",
      "        -100, -100, -100, -100, -100, -100, -100, -100, -100, -100, -100, -100,\n",
      "        -100, -100, -100, -100, -100, -100, -100, -100, -100, -100, -100, -100,\n",
      "        -100, -100, -100, -100, -100, -100, -100, -100, -100, -100, -100, -100,\n",
      "        -100, -100, -100, -100, -100, -100, -100, -100, -100, -100, -100, -100,\n",
      "        -100, -100, -100, -100, -100, -100, -100, -100, -100, -100, -100, -100,\n",
      "        -100, -100, -100, -100, -100, -100, -100])\n"
     ]
    }
   ],
   "source": [
    "# LOAD AND INITIATE DATA\n",
    "arguments.model_specific_args.mask_technique = 'random'\n",
    "\n",
    "abrep_dm = datamodule.MyDataModule(arguments.model_specific_args, ABtokenizer) \n",
    "# You are supposed to just be able to add abrep to the fit function, but it doesn't work when using multiple GPUs\n",
    "abrep_dm.setup('fit')\n",
    "\n",
    "train = abrep_dm.train_dataloader()\n",
    "val = abrep_dm.val_dataloader()\n",
    "\n",
    "for batch in train:\n",
    "    \n",
    "    print(batch['input'][0])\n",
    "    print(batch['labels'][:len(batch['input'][0])])\n",
    "    break"
   ]
  },
  {
   "cell_type": "code",
   "execution_count": 6,
   "id": "c8eb9960-b449-4402-bd0d-52b8d4b44631",
   "metadata": {},
   "outputs": [
    {
     "name": "stderr",
     "output_type": "stream",
     "text": [
      "GPU available: False, used: False\n",
      "TPU available: False, using: 0 TPU cores\n",
      "IPU available: False, using: 0 IPUs\n",
      "HPU available: False, using: 0 HPUs\n",
      "`Trainer(val_check_interval=1)` was configured so validation will run after every batch.\n"
     ]
    }
   ],
   "source": [
    "# LOAD MODEL\n",
    "model = trainingframe.TrainingFrame(arguments.model_specific_args, AbLang, ABtokenizer)\n",
    "\n",
    "# INITIALISE TRAINER\n",
    "trainer = pl.Trainer(**arguments.trainer_args, callbacks=callbacks())"
   ]
  },
  {
   "cell_type": "code",
   "execution_count": 7,
   "id": "f6a31d9e-6cba-473a-af89-c4c0b184e3ab",
   "metadata": {
    "collapsed": true,
    "jupyter": {
     "outputs_hidden": true
    },
    "tags": []
   },
   "outputs": [
    {
     "name": "stderr",
     "output_type": "stream",
     "text": [
      "\n",
      "  | Name    | Type             | Params\n",
      "---------------------------------------------\n",
      "0 | loss_fn | CrossEntropyLoss | 0     \n",
      "1 | ablang  | AbLang           | 7.7 M \n",
      "---------------------------------------------\n",
      "7.7 M     Trainable params\n",
      "0         Non-trainable params\n",
      "7.7 M     Total params\n",
      "30.800    Total estimated model params size (MB)\n"
     ]
    },
    {
     "name": "stdout",
     "output_type": "stream",
     "text": [
      "https://app.neptune.ai/tobiasheol/AbLangTraining/e/ABLANG-319\n"
     ]
    },
    {
     "name": "stderr",
     "output_type": "stream",
     "text": [
      "Info (NVML): NVML Shared Library Not Found. GPU usage metrics may not be reported. For more information, see https://docs.neptune.ai/you-should-know/what-can-you-log-and-display#hardware-consumption\n"
     ]
    },
    {
     "name": "stdout",
     "output_type": "stream",
     "text": [
      "Remember to stop your run once you’ve finished logging your metadata (https://docs.neptune.ai/api-reference/run#.stop). It will be stopped automatically only when the notebook kernel/interactive console is terminated.\n"
     ]
    },
    {
     "name": "stderr",
     "output_type": "stream",
     "text": [
      "/data/iraqbabbler/olsen/miniconda3/envs/ablang-train/lib/python3.8/site-packages/pytorch_lightning/trainer/connectors/data_connector.py:240: PossibleUserWarning: The dataloader, val_dataloader 0, does not have many workers which may be a bottleneck. Consider increasing the value of the `num_workers` argument` (try 16 which is the number of cpus on this machine) in the `DataLoader` init to improve performance.\n",
      "  rank_zero_warn(\n",
      "/data/iraqbabbler/olsen/miniconda3/envs/ablang-train/lib/python3.8/site-packages/pytorch_lightning/trainer/connectors/data_connector.py:240: PossibleUserWarning: The dataloader, train_dataloader, does not have many workers which may be a bottleneck. Consider increasing the value of the `num_workers` argument` (try 16 which is the number of cpus on this machine) in the `DataLoader` init to improve performance.\n",
      "  rank_zero_warn(\n"
     ]
    },
    {
     "name": "stdout",
     "output_type": "stream",
     "text": [
      "['CHECKPOINT_HYPER_PARAMS_KEY', 'CHECKPOINT_HYPER_PARAMS_NAME', 'CHECKPOINT_HYPER_PARAMS_TYPE', 'T_destination', '_DeviceDtypeModuleMixin__update_properties', '_LightningModule__check_allowed', '_LightningModule__check_not_nested', '_LightningModule__to_tensor', '__annotations__', '__call__', '__class__', '__delattr__', '__dict__', '__dir__', '__doc__', '__eq__', '__format__', '__ge__', '__getattr__', '__getattribute__', '__getstate__', '__gt__', '__hash__', '__init__', '__init_subclass__', '__jit_unused_properties__', '__le__', '__lt__', '__module__', '__ne__', '__new__', '__reduce__', '__reduce_ex__', '__repr__', '__setattr__', '__setstate__', '__sizeof__', '__str__', '__subclasshook__', '__weakref__', '_apply', '_apply_batch_transfer_handler', '_auto_collect_arguments', '_automatic_optimization', '_backward_hooks', '_buffers', '_call_impl', '_current_fx_name', '_device', '_dtype', '_example_input_array', '_forward_hooks', '_forward_pre_hooks', '_get_backward_hooks', '_get_name', '_hparams', '_hparams_initial', '_hparams_name', '_is_full_backward_hook', '_load_from_state_dict', '_load_model_state', '_load_state_dict_pre_hooks', '_log_hyperparams', '_maybe_warn_non_full_backward_hook', '_metric_attributes', '_modules', '_named_members', '_non_persistent_buffers_set', '_param_requires_grad_state', '_parameters', '_prevent_trainer_and_dataloaders_deepcopy', '_register_load_state_dict_pre_hook', '_register_sharded_tensor_state_dict_hooks_if_available', '_register_state_dict_hook', '_replicate_for_data_parallel', '_running_torchscript', '_save_to_state_dict', '_set_hparams', '_should_prevent_trainer_and_dataloaders_deepcopy', '_slow_forward', '_state_dict_hooks', '_to_hparams_dict', '_truncated_bptt_steps', '_use_amp', '_verify_is_manual_optimization', '_version', 'ablang', 'add_module', 'add_to_queue', 'all_gather', 'allow_zero_length_dataloader_with_multiple_devices', 'apply', 'automatic_optimization', 'backward', 'bfloat16', 'buffers', 'children', 'clip_gradients', 'configure_callbacks', 'configure_gradient_clipping', 'configure_optimizers', 'configure_sharded_model', 'cpu', 'cuda', 'current_epoch', 'device', 'double', 'dtype', 'dump_patches', 'eval', 'example_input_array', 'extra_repr', 'float', 'forward', 'freeze', 'get_buffer', 'get_extra_state', 'get_from_queue', 'get_parameter', 'get_progress_bar_dict', 'get_submodule', 'global_rank', 'global_step', 'half', 'hparams', 'hparams_initial', 'load_from_checkpoint', 'load_state_dict', 'local_rank', 'log', 'log_dict', 'log_grad_norm', 'log_restoring_sequence', 'log_valuation_loss', 'logger', 'loggers', 'loss_fn', 'lr_scheduler_step', 'lr_schedulers', 'manual_backward', 'model_size', 'modules', 'named_buffers', 'named_children', 'named_modules', 'named_parameters', 'on_after_backward', 'on_after_batch_transfer', 'on_before_backward', 'on_before_batch_transfer', 'on_before_optimizer_step', 'on_before_zero_grad', 'on_epoch_end', 'on_epoch_start', 'on_fit_end', 'on_fit_start', 'on_gpu', 'on_hpc_load', 'on_hpc_save', 'on_load_checkpoint', 'on_post_move_to_device', 'on_predict_batch_end', 'on_predict_batch_start', 'on_predict_dataloader', 'on_predict_end', 'on_predict_epoch_end', 'on_predict_epoch_start', 'on_predict_model_eval', 'on_predict_start', 'on_pretrain_routine_end', 'on_pretrain_routine_start', 'on_save_checkpoint', 'on_test_batch_end', 'on_test_batch_start', 'on_test_dataloader', 'on_test_end', 'on_test_epoch_end', 'on_test_epoch_start', 'on_test_model_eval', 'on_test_model_train', 'on_test_start', 'on_train_batch_end', 'on_train_batch_start', 'on_train_dataloader', 'on_train_end', 'on_train_epoch_end', 'on_train_epoch_start', 'on_train_start', 'on_val_dataloader', 'on_validation_batch_end', 'on_validation_batch_start', 'on_validation_end', 'on_validation_epoch_end', 'on_validation_epoch_start', 'on_validation_model_eval', 'on_validation_model_train', 'on_validation_start', 'optimizer_step', 'optimizer_zero_grad', 'optimizers', 'parameters', 'precision', 'predict_dataloader', 'predict_step', 'prepare_data', 'prepare_data_per_node', 'print', 'register_backward_hook', 'register_buffer', 'register_forward_hook', 'register_forward_pre_hook', 'register_full_backward_hook', 'register_module', 'register_parameter', 'requires_grad_', 'run_evaluations', 'save_hyperparameters', 'set_extra_state', 'setup', 'share_memory', 'state_dict', 'summarize', 'tbptt_split_batch', 'teardown', 'test_dataloader', 'test_epoch_end', 'test_step', 'test_step_end', 'to', 'to_empty', 'to_onnx', 'to_torchscript', 'toggle_optimizer', 'tokenizer', 'train', 'train_dataloader', 'trainer', 'training', 'training_epoch_end', 'training_step', 'training_step_end', 'transfer_batch_to_device', 'truncated_bptt_steps', 'type', 'unfreeze', 'untoggle_optimizer', 'use_amp', 'val_dataloader', 'validation_epoch_end', 'validation_step', 'validation_step_end', 'xpu', 'zero_grad']Warning: string series 'monitoring/stdout' value was longer than 1000 characters and was truncated. This warning is printed only once per series.\n",
      "\n",
      "['CHECKPOINT_HYPER_PARAMS_KEY', 'CHECKPOINT_HYPER_PARAMS_NAME', 'CHECKPOINT_HYPER_PARAMS_TYPE', 'T_destination', '_DeviceDtypeModuleMixin__update_properties', '_LightningModule__check_allowed', '_LightningModule__check_not_nested', '_LightningModule__to_tensor', '__annotations__', '__call__', '__class__', '__delattr__', '__dict__', '__dir__', '__doc__', '__eq__', '__format__', '__ge__', '__getattr__', '__getattribute__', '__getstate__', '__gt__', '__hash__', '__init__', '__init_subclass__', '__jit_unused_properties__', '__le__', '__lt__', '__module__', '__ne__', '__new__', '__reduce__', '__reduce_ex__', '__repr__', '__setattr__', '__setstate__', '__sizeof__', '__str__', '__subclasshook__', '__weakref__', '_apply', '_apply_batch_transfer_handler', '_auto_collect_arguments', '_automatic_optimization', '_backward_hooks', '_buffers', '_call_impl', '_current_fx_name', '_device', '_dtype', '_example_input_array', '_forward_hooks', '_forward_pre_hooks', '_get_backward_hooks', '_get_name', '_hparams', '_hparams_initial', '_hparams_name', '_is_full_backward_hook', '_load_from_state_dict', '_load_model_state', '_load_state_dict_pre_hooks', '_log_hyperparams', '_maybe_warn_non_full_backward_hook', '_metric_attributes', '_modules', '_named_members', '_non_persistent_buffers_set', '_param_requires_grad_state', '_parameters', '_prevent_trainer_and_dataloaders_deepcopy', '_register_load_state_dict_pre_hook', '_register_sharded_tensor_state_dict_hooks_if_available', '_register_state_dict_hook', '_replicate_for_data_parallel', '_running_torchscript', '_save_to_state_dict', '_set_hparams', '_should_prevent_trainer_and_dataloaders_deepcopy', '_slow_forward', '_state_dict_hooks', '_to_hparams_dict', '_truncated_bptt_steps', '_use_amp', '_verify_is_manual_optimization', '_version', 'ablang', 'add_module', 'add_to_queue', 'all_gather', 'allow_zero_length_dataloader_with_multiple_devices', 'apply', 'automatic_optimization', 'backward', 'bfloat16', 'buffers', 'children', 'clip_gradients', 'configure_callbacks', 'configure_gradient_clipping', 'configure_optimizers', 'configure_sharded_model', 'cpu', 'cuda', 'current_epoch', 'device', 'double', 'dtype', 'dump_patches', 'eval', 'example_input_array', 'extra_repr', 'float', 'forward', 'freeze', 'get_buffer', 'get_extra_state', 'get_from_queue', 'get_parameter', 'get_progress_bar_dict', 'get_submodule', 'global_rank', 'global_step', 'half', 'hparams', 'hparams_initial', 'load_from_checkpoint', 'load_state_dict', 'local_rank', 'log', 'log_dict', 'log_grad_norm', 'log_restoring_sequence', 'log_valuation_loss', 'logger', 'loggers', 'loss_fn', 'lr_scheduler_step', 'lr_schedulers', 'manual_backward', 'model_size', 'modules', 'named_buffers', 'named_children', 'named_modules', 'named_parameters', 'on_after_backward', 'on_after_batch_transfer', 'on_before_backward', 'on_before_batch_transfer', 'on_before_optimizer_step', 'on_before_zero_grad', 'on_epoch_end', 'on_epoch_start', 'on_fit_end', 'on_fit_start', 'on_gpu', 'on_hpc_load', 'on_hpc_save', 'on_load_checkpoint', 'on_post_move_to_device', 'on_predict_batch_end', 'on_predict_batch_start', 'on_predict_dataloader', 'on_predict_end', 'on_predict_epoch_end', 'on_predict_epoch_start', 'on_predict_model_eval', 'on_predict_start', 'on_pretrain_routine_end', 'on_pretrain_routine_start', 'on_save_checkpoint', 'on_test_batch_end', 'on_test_batch_start', 'on_test_dataloader', 'on_test_end', 'on_test_epoch_end', 'on_test_epoch_start', 'on_test_model_eval', 'on_test_model_train', 'on_test_start', 'on_train_batch_end', 'on_train_batch_start', 'on_train_dataloader', 'on_train_end', 'on_train_epoch_end', 'on_train_epoch_start', 'on_train_start', 'on_val_dataloader', 'on_validation_batch_end', 'on_validation_batch_start', 'on_validation_end', 'on_validation_epoch_end', 'on_validation_epoch_start', 'on_validation_model_eval', 'on_validation_model_train', 'on_validation_start', 'optimizer_step', 'optimizer_zero_grad', 'optimizers', 'parameters', 'precision', 'predict_dataloader', 'predict_step', 'prepare_data', 'prepare_data_per_node', 'print', 'register_backward_hook', 'register_buffer', 'register_forward_hook', 'register_forward_pre_hook', 'register_full_backward_hook', 'register_module', 'register_parameter', 'requires_grad_', 'run_evaluations', 'save_hyperparameters', 'set_extra_state', 'setup', 'share_memory', 'state_dict', 'summarize', 'tbptt_split_batch', 'teardown', 'test_dataloader', 'test_epoch_end', 'test_step', 'test_step_end', 'to', 'to_empty', 'to_onnx', 'to_torchscript', 'toggle_optimizer', 'tokenizer', 'train', 'train_dataloader', 'trainer', 'training', 'training_epoch_end', 'training_step', 'training_step_end', 'transfer_batch_to_device', 'truncated_bptt_steps', 'type', 'unfreeze', 'untoggle_optimizer', 'use_amp', 'val_dataloader', 'validation_epoch_end', 'validation_step', 'validation_step_end', 'xpu', 'zero_grad']\n",
      "['CHECKPOINT_HYPER_PARAMS_KEY', 'CHECKPOINT_HYPER_PARAMS_NAME', 'CHECKPOINT_HYPER_PARAMS_TYPE', 'T_destination', '_DeviceDtypeModuleMixin__update_properties', '_LightningModule__check_allowed', '_LightningModule__check_not_nested', '_LightningModule__to_tensor', '__annotations__', '__call__', '__class__', '__delattr__', '__dict__', '__dir__', '__doc__', '__eq__', '__format__', '__ge__', '__getattr__', '__getattribute__', '__getstate__', '__gt__', '__hash__', '__init__', '__init_subclass__', '__jit_unused_properties__', '__le__', '__lt__', '__module__', '__ne__', '__new__', '__reduce__', '__reduce_ex__', '__repr__', '__setattr__', '__setstate__', '__sizeof__', '__str__', '__subclasshook__', '__weakref__', '_apply', '_apply_batch_transfer_handler', '_auto_collect_arguments', '_automatic_optimization', '_backward_hooks', '_buffers', '_call_impl', '_current_fx_name', '_device', '_dtype', '_example_input_array', '_forward_hooks', '_forward_pre_hooks', '_get_backward_hooks', '_get_name', '_hparams', '_hparams_initial', '_hparams_name', '_is_full_backward_hook', '_load_from_state_dict', '_load_model_state', '_load_state_dict_pre_hooks', '_log_hyperparams', '_maybe_warn_non_full_backward_hook', '_metric_attributes', '_modules', '_named_members', '_non_persistent_buffers_set', '_param_requires_grad_state', '_parameters', '_prevent_trainer_and_dataloaders_deepcopy', '_register_load_state_dict_pre_hook', '_register_sharded_tensor_state_dict_hooks_if_available', '_register_state_dict_hook', '_replicate_for_data_parallel', '_running_torchscript', '_save_to_state_dict', '_set_hparams', '_should_prevent_trainer_and_dataloaders_deepcopy', '_slow_forward', '_state_dict_hooks', '_to_hparams_dict', '_truncated_bptt_steps', '_use_amp', '_verify_is_manual_optimization', '_version', 'ablang', 'add_module', 'add_to_queue', 'all_gather', 'allow_zero_length_dataloader_with_multiple_devices', 'apply', 'automatic_optimization', 'backward', 'bfloat16', 'buffers', 'children', 'clip_gradients', 'configure_callbacks', 'configure_gradient_clipping', 'configure_optimizers', 'configure_sharded_model', 'cpu', 'cuda', 'current_epoch', 'device', 'double', 'dtype', 'dump_patches', 'eval', 'example_input_array', 'extra_repr', 'float', 'forward', 'freeze', 'get_buffer', 'get_extra_state', 'get_from_queue', 'get_parameter', 'get_progress_bar_dict', 'get_submodule', 'global_rank', 'global_step', 'half', 'hparams', 'hparams_initial', 'load_from_checkpoint', 'load_state_dict', 'local_rank', 'log', 'log_dict', 'log_grad_norm', 'log_restoring_sequence', 'log_valuation_loss', 'logger', 'loggers', 'loss_fn', 'lr_scheduler_step', 'lr_schedulers', 'manual_backward', 'model_size', 'modules', 'named_buffers', 'named_children', 'named_modules', 'named_parameters', 'on_after_backward', 'on_after_batch_transfer', 'on_before_backward', 'on_before_batch_transfer', 'on_before_optimizer_step', 'on_before_zero_grad', 'on_epoch_end', 'on_epoch_start', 'on_fit_end', 'on_fit_start', 'on_gpu', 'on_hpc_load', 'on_hpc_save', 'on_load_checkpoint', 'on_post_move_to_device', 'on_predict_batch_end', 'on_predict_batch_start', 'on_predict_dataloader', 'on_predict_end', 'on_predict_epoch_end', 'on_predict_epoch_start', 'on_predict_model_eval', 'on_predict_start', 'on_pretrain_routine_end', 'on_pretrain_routine_start', 'on_save_checkpoint', 'on_test_batch_end', 'on_test_batch_start', 'on_test_dataloader', 'on_test_end', 'on_test_epoch_end', 'on_test_epoch_start', 'on_test_model_eval', 'on_test_model_train', 'on_test_start', 'on_train_batch_end', 'on_train_batch_start', 'on_train_dataloader', 'on_train_end', 'on_train_epoch_end', 'on_train_epoch_start', 'on_train_start', 'on_val_dataloader', 'on_validation_batch_end', 'on_validation_batch_start', 'on_validation_end', 'on_validation_epoch_end', 'on_validation_epoch_start', 'on_validation_model_eval', 'on_validation_model_train', 'on_validation_start', 'optimizer_step', 'optimizer_zero_grad', 'optimizers', 'parameters', 'precision', 'predict_dataloader', 'predict_step', 'prepare_data', 'prepare_data_per_node', 'print', 'register_backward_hook', 'register_buffer', 'register_forward_hook', 'register_forward_pre_hook', 'register_full_backward_hook', 'register_module', 'register_parameter', 'requires_grad_', 'run_evaluations', 'save_hyperparameters', 'set_extra_state', 'setup', 'share_memory', 'state_dict', 'summarize', 'tbptt_split_batch', 'teardown', 'test_dataloader', 'test_epoch_end', 'test_step', 'test_step_end', 'to', 'to_empty', 'to_onnx', 'to_torchscript', 'toggle_optimizer', 'tokenizer', 'train', 'train_dataloader', 'trainer', 'training', 'training_epoch_end', 'training_step', 'training_step_end', 'transfer_batch_to_device', 'truncated_bptt_steps', 'type', 'unfreeze', 'untoggle_optimizer', 'use_amp', 'val_dataloader', 'validation_epoch_end', 'validation_step', 'validation_step_end', 'xpu', 'zero_grad']\n"
     ]
    },
    {
     "name": "stderr",
     "output_type": "stream",
     "text": [
      "/data/iraqbabbler/olsen/miniconda3/envs/ablang-train/lib/python3.8/site-packages/pytorch_lightning/trainer/trainer.py:726: UserWarning: Detected KeyboardInterrupt, attempting graceful shutdown...\n",
      "  rank_zero_warn(\"Detected KeyboardInterrupt, attempting graceful shutdown...\")\n"
     ]
    }
   ],
   "source": [
    "trainer.fit(model, train, val)"
   ]
  },
  {
   "cell_type": "code",
   "execution_count": null,
   "id": "dfc3f3a2-5b66-4df2-9636-ee98d8076eee",
   "metadata": {},
   "outputs": [],
   "source": []
  },
  {
   "cell_type": "code",
   "execution_count": null,
   "id": "cc699b68-3501-4513-bd59-b0a9bc475bcc",
   "metadata": {},
   "outputs": [],
   "source": []
  }
 ],
 "metadata": {
  "kernelspec": {
   "display_name": "ablang-train",
   "language": "python",
   "name": "ablang-train"
  },
  "language_info": {
   "codemirror_mode": {
    "name": "ipython",
    "version": 3
   },
   "file_extension": ".py",
   "mimetype": "text/x-python",
   "name": "python",
   "nbconvert_exporter": "python",
   "pygments_lexer": "ipython3",
   "version": "3.8.13"
  }
 },
 "nbformat": 4,
 "nbformat_minor": 5
}
