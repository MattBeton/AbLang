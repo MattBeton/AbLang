{
 "cells": [
  {
   "cell_type": "code",
   "execution_count": 1,
   "id": "dee14605-52fd-4bd8-8e4a-817745ec0876",
   "metadata": {},
   "outputs": [
    {
     "name": "stderr",
     "output_type": "stream",
     "text": [
      "/data/iraqbabbler/olsen/miniconda3/envs/test-env/lib/python3.9/site-packages/tqdm/auto.py:22: TqdmWarning: IProgress not found. Please update jupyter and ipywidgets. See https://ipywidgets.readthedocs.io/en/stable/user_install.html\n",
      "  from .autonotebook import tqdm as notebook_tqdm\n"
     ]
    }
   ],
   "source": [
    "%load_ext autoreload\n",
    "%autoreload 2\n",
    "\n",
    "import sys, glob, os, gzip\n",
    "sys.path.insert(1, os.path.join(sys.path[0], '..'))\n",
    "\n",
    "import numpy as np\n",
    "import pandas as pd\n",
    "\n",
    "import torch\n",
    "import pytorch_lightning as pl\n",
    "from pytorch_lightning.loggers.neptune import NeptuneLogger\n",
    "\n",
    "from ablang_train import ABtokenizer, AbLang, trainingframe\n",
    "from ablang_train.train_utils import callback_handler, datamodule, arghandler"
   ]
  },
  {
   "cell_type": "code",
   "execution_count": 2,
   "id": "1b8d8ce2-a095-440f-90ef-915b86a64fa5",
   "metadata": {},
   "outputs": [],
   "source": [
    "def set_neptune_logger(args):\n",
    "    \"\"\"\n",
    "    Initialize Neptune logger\n",
    "    \"\"\"\n",
    "\n",
    "    neptune_args = { 'api_key':\"eyJhcGlfYWRkcmVzcyI6Imh0dHBzOi8vYXBwLm5lcHR1bmUuYWkiLCJhcGlfdXJsIjoiaHR0cHM6Ly9hcHAubmVwdHVuZS5haSIsImFwaV9rZXkiOiI0N2Y2YmIxMS02OWM3LTRhY2MtYTQxOC0xODU5N2E0ODFmMzEifQ==\",\n",
    "    'project':\"tobiasheol/AbLangTraining\",\n",
    "    'name':args.name,\n",
    "    'log_model_checkpoints':False,\n",
    "    }\n",
    "\n",
    "    return NeptuneLogger(**neptune_args)"
   ]
  },
  {
   "cell_type": "code",
   "execution_count": 3,
   "id": "620992d1-78f5-4ddf-8318-189131fe4e1a",
   "metadata": {},
   "outputs": [],
   "source": [
    "# SET ARGUMENTS AND HPARAMS\n",
    "arguments = arghandler.parse_args(args=\"\", is_test=True)\n",
    "logger = set_neptune_logger(arguments.model_specific_args)\n",
    "\n",
    "arguments.model_specific_args.num_encoder_blocks = 1\n",
    "arguments.model_specific_args.over_sample_data = 0\n",
    "arguments.model_specific_args.data_path = '../data/single_data/'\n",
    "arguments.model_specific_args.max_fit_batch_size = 10\n",
    "arguments.model_specific_args.effective_batch_size = 1\n",
    "arguments.model_specific_args.eval_batch_size = 1\n",
    "arguments.model_specific_args.val_check_interval = 1\n",
    "arguments.model_specific_args.use_tkn_dropout = False\n",
    "\n",
    "arguments.trainer_args['logger'] = logger\n",
    "arguments.trainer_args['log_every_n_steps'] = 1\n",
    "\n",
    "callbacks = callback_handler.CallbackHandler(save_step_frequency=1, \n",
    "                                progress_refresh_rate=0, \n",
    "                                outpath=arguments.model_specific_args.out_path)"
   ]
  },
  {
   "cell_type": "code",
   "execution_count": 4,
   "id": "6c44c612-7ea6-43e5-a584-66c91edacaef",
   "metadata": {},
   "outputs": [
    {
     "name": "stderr",
     "output_type": "stream",
     "text": [
      "Global seed set to 42\n"
     ]
    }
   ],
   "source": [
    "def enforce_reproducibility(seed=42):\n",
    "    # Sets seed manually for both CPU and CUDA\n",
    "    torch.manual_seed(seed)\n",
    "    # For atomic operations there is currently\n",
    "    # no simple way to enforce determinism, as\n",
    "    # the order of parallel operations is not known.\n",
    "    #\n",
    "    # CUDNN\n",
    "    torch.backends.cudnn.deterministic = True\n",
    "    torch.backends.cudnn.benchmark = False\n",
    "    # System based\n",
    "    np.random.seed(seed)\n",
    "    \n",
    "    pl.seed_everything(seed)\n",
    "    \n",
    "# SET SEED - IMPORTANT FOR MULTIPLE GPUS, OTHERWISE GOOD FOR REPRODUCIBILITY\n",
    "enforce_reproducibility(arguments.model_specific_args.seed)"
   ]
  },
  {
   "cell_type": "code",
   "execution_count": 5,
   "id": "531b297a-74e4-4488-91ad-bc3f53deaf8f",
   "metadata": {
    "tags": []
   },
   "outputs": [],
   "source": [
    "# LOAD AND INITIATE DATA\n",
    "arguments.model_specific_args.mask_technique = 'random'\n",
    "\n",
    "abrep_dm = datamodule.MyDataModule(arguments.model_specific_args, ABtokenizer) \n",
    "# You are supposed to just be able to add abrep to the fit function, but it doesn't work when using multiple GPUs\n",
    "abrep_dm.setup('fit')\n",
    "\n",
    "train = abrep_dm.train_dataloader()\n",
    "val = abrep_dm.val_dataloader()"
   ]
  },
  {
   "cell_type": "code",
   "execution_count": 6,
   "id": "6adac39a-585c-4686-bcfb-0b1f4f1393c0",
   "metadata": {},
   "outputs": [
    {
     "name": "stdout",
     "output_type": "stream",
     "text": [
      "tensor([ 0, 10,  7, 23, 23,  8, 10, 13, 13,  7, 20, 23,  6, 14, 13,  2, 10,  2,\n",
      "        15, 23, 16,  7, 23,  7, 12, 23, 23,  7,  9, 16, 23,  9,  9, 23, 23,  9,\n",
      "        23, 18, 23, 10, 20, 13, 12, 23,  8, 23,  4, 23, 23, 16, 18, 18,  5,  6,\n",
      "        20, 20, 13, 23, 23, 23,  7,  5,  2, 17,  7, 12,  7,  4,  7, 12,  8, 23,\n",
      "        14, 23, 20, 14, 16, 23, 12, 20, 10,  7, 23,  5,  6, 14,  5, 18, 18,  2,\n",
      "        23,  8, 19,  5,  5,  7, 20,  9, 12, 19, 15, 23, 23, 12, 12,  8, 23, 20,\n",
      "         8, 15, 20, 22, 22, 21, 21, 21, 21, 21, 21, 21, 21, 21, 21, 21, 21, 21,\n",
      "        21, 21, 21, 21, 21, 21, 21, 21, 21, 21, 21, 21, 21, 21, 21, 21, 21, 21,\n",
      "        21, 21, 21, 21, 21, 21, 21, 21, 21, 21, 21, 21, 21, 21, 21, 21, 21, 21,\n",
      "        21, 21, 21, 21, 21, 21, 21, 21, 21, 21, 21, 21, 21, 21, 21, 21, 21, 21,\n",
      "        21, 21, 21, 21, 21, 21, 21, 21, 21, 21, 21, 21, 21, 21, 21, 21, 21, 21,\n",
      "        21, 21, 21, 21, 21, 21, 21, 21, 21, 21, 21, 21, 21, 21, 21, 21, 21, 21,\n",
      "        21, 21, 21, 21, 21, 21, 21])\n",
      "tensor([   0, -100, -100,   15,   20, -100, -100, -100, -100, -100, -100,    7,\n",
      "        -100, -100, -100, -100, -100, -100, -100,    8, -100, -100,   11, -100,\n",
      "        -100,    7,    8, -100, -100, -100,   12, -100, -100,   14,   15, -100,\n",
      "          19, -100,    2, -100, -100, -100, -100,    4, -100,   13, -100,   20,\n",
      "          20, -100, -100, -100, -100, -100, -100, -100, -100,    7,   12,   15,\n",
      "        -100, -100, -100, -100, -100, -100, -100, -100, -100, -100, -100,    7,\n",
      "        -100,    7, -100, -100, -100,    7, -100, -100, -100, -100,    6, -100,\n",
      "        -100, -100, -100, -100, -100, -100,   14, -100, -100, -100, -100, -100,\n",
      "        -100, -100, -100, -100, -100,   17,   12, -100, -100, -100,    4, -100,\n",
      "        -100, -100, -100,   22,   22, -100, -100, -100, -100, -100, -100, -100,\n",
      "        -100, -100, -100, -100, -100, -100, -100, -100, -100, -100, -100, -100,\n",
      "        -100, -100, -100, -100, -100, -100, -100, -100, -100, -100, -100, -100,\n",
      "        -100, -100, -100, -100, -100, -100, -100, -100, -100, -100, -100, -100,\n",
      "        -100, -100, -100, -100, -100, -100, -100, -100, -100, -100, -100, -100,\n",
      "        -100, -100, -100, -100, -100, -100, -100, -100, -100, -100, -100, -100,\n",
      "        -100, -100, -100, -100, -100, -100, -100, -100, -100, -100, -100, -100,\n",
      "        -100, -100, -100, -100, -100, -100, -100, -100, -100, -100, -100, -100,\n",
      "        -100, -100, -100, -100, -100, -100, -100, -100, -100, -100, -100, -100,\n",
      "        -100, -100, -100, -100, -100, -100, -100])\n"
     ]
    }
   ],
   "source": [
    "for batch in train:\n",
    "    \n",
    "    print(batch['input'][0])\n",
    "    print(batch['labels'][:len(batch['input'][0])])\n",
    "    break"
   ]
  },
  {
   "cell_type": "code",
   "execution_count": 7,
   "id": "c8eb9960-b449-4402-bd0d-52b8d4b44631",
   "metadata": {},
   "outputs": [
    {
     "name": "stderr",
     "output_type": "stream",
     "text": [
      "GPU available: False, used: False\n",
      "TPU available: False, using: 0 TPU cores\n",
      "IPU available: False, using: 0 IPUs\n",
      "HPU available: False, using: 0 HPUs\n",
      "`Trainer(val_check_interval=1)` was configured so validation will run after every batch.\n"
     ]
    }
   ],
   "source": [
    "# LOAD MODEL\n",
    "model = trainingframe.TrainingFrame(arguments.model_specific_args, AbLang, ABtokenizer)\n",
    "\n",
    "# INITIALISE TRAINER\n",
    "trainer = pl.Trainer(**arguments.trainer_args, callbacks=callbacks())"
   ]
  },
  {
   "cell_type": "code",
   "execution_count": null,
   "id": "f6a31d9e-6cba-473a-af89-c4c0b184e3ab",
   "metadata": {
    "tags": []
   },
   "outputs": [
    {
     "name": "stderr",
     "output_type": "stream",
     "text": [
      "\n",
      "  | Name    | Type             | Params\n",
      "---------------------------------------------\n",
      "0 | loss_fn | CrossEntropyLoss | 0     \n",
      "1 | ablang  | AbLang           | 7.7 M \n",
      "---------------------------------------------\n",
      "7.7 M     Trainable params\n",
      "0         Non-trainable params\n",
      "7.7 M     Total params\n",
      "30.800    Total estimated model params size (MB)\n"
     ]
    },
    {
     "name": "stdout",
     "output_type": "stream",
     "text": [
      "https://app.neptune.ai/tobiasheol/AbLangTraining/e/ABLANG-329\n"
     ]
    },
    {
     "name": "stderr",
     "output_type": "stream",
     "text": [
      "Info (NVML): NVML Shared Library Not Found. GPU usage metrics may not be reported. For more information, see https://docs.neptune.ai/help/nvml_error/\n"
     ]
    },
    {
     "name": "stdout",
     "output_type": "stream",
     "text": [
      "Remember to stop your run once you’ve finished logging your metadata (https://docs.neptune.ai/api/run#stop). It will be stopped automatically only when the notebook kernel/interactive console is terminated.\n"
     ]
    },
    {
     "name": "stderr",
     "output_type": "stream",
     "text": [
      "/data/iraqbabbler/olsen/miniconda3/envs/test-env/lib/python3.9/site-packages/neptune/new/handler.py:164: NeptuneDeprecationWarning: The object you're logging will be implicitly cast to a string. We'll end support of this behavior in `neptune-client==1.0.0`. To log the object as a string, use `str(object)` instead.\n",
      "  self._container.define(self._path, value, wait)\n",
      "/data/iraqbabbler/olsen/miniconda3/envs/test-env/lib/python3.9/site-packages/pytorch_lightning/trainer/connectors/data_connector.py:224: PossibleUserWarning: The dataloader, val_dataloader 0, does not have many workers which may be a bottleneck. Consider increasing the value of the `num_workers` argument` (try 16 which is the number of cpus on this machine) in the `DataLoader` init to improve performance.\n",
      "  rank_zero_warn(\n",
      "/data/iraqbabbler/olsen/miniconda3/envs/test-env/lib/python3.9/site-packages/pytorch_lightning/trainer/connectors/data_connector.py:224: PossibleUserWarning: The dataloader, train_dataloader, does not have many workers which may be a bottleneck. Consider increasing the value of the `num_workers` argument` (try 16 which is the number of cpus on this machine) in the `DataLoader` init to improve performance.\n",
      "  rank_zero_warn(\n"
     ]
    }
   ],
   "source": [
    "trainer.fit(model, train, val)"
   ]
  },
  {
   "cell_type": "code",
   "execution_count": null,
   "id": "dfc3f3a2-5b66-4df2-9636-ee98d8076eee",
   "metadata": {},
   "outputs": [],
   "source": []
  },
  {
   "cell_type": "code",
   "execution_count": null,
   "id": "cc699b68-3501-4513-bd59-b0a9bc475bcc",
   "metadata": {},
   "outputs": [],
   "source": []
  }
 ],
 "metadata": {
  "kernelspec": {
   "display_name": "test-env",
   "language": "python",
   "name": "test-env"
  },
  "language_info": {
   "codemirror_mode": {
    "name": "ipython",
    "version": 3
   },
   "file_extension": ".py",
   "mimetype": "text/x-python",
   "name": "python",
   "nbconvert_exporter": "python",
   "pygments_lexer": "ipython3",
   "version": "3.9.13"
  }
 },
 "nbformat": 4,
 "nbformat_minor": 5
}
