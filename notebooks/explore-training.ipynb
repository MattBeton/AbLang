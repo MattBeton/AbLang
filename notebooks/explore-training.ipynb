{
 "cells": [
  {
   "cell_type": "code",
   "execution_count": 1,
   "id": "dee14605-52fd-4bd8-8e4a-817745ec0876",
   "metadata": {},
   "outputs": [
    {
     "name": "stderr",
     "output_type": "stream",
     "text": [
      "/data/iraqbabbler/olsen/miniconda3/envs/ablang-train/lib/python3.9/site-packages/neptune/internal/backends/hosted_client.py:50: NeptuneDeprecationWarning: The 'neptune-client' package has been deprecated and will be removed in the future. Install the 'neptune' package instead. For more, see https://docs.neptune.ai/setup/upgrading/\n",
      "  from neptune.version import version as neptune_client_version\n",
      "/data/iraqbabbler/olsen/miniconda3/envs/ablang-train/lib/python3.9/site-packages/pytorch_lightning/loggers/neptune.py:40: NeptuneDeprecationWarning: You're importing the Neptune client library via the deprecated `neptune.new` module, which will be removed in a future release. Import directly from `neptune` instead.\n",
      "  from neptune import new as neptune\n"
     ]
    }
   ],
   "source": [
    "%load_ext autoreload\n",
    "%autoreload 2\n",
    "\n",
    "import os, json\n",
    "import numpy as np\n",
    "import pandas as pd\n",
    "\n",
    "import torch\n",
    "import pytorch_lightning as pl\n",
    "\n",
    "from ablang_train import ABtokenizer, AbLang, TrainingFrame, CallbackHandler, AbDataModule, ablang_parse_args"
   ]
  },
  {
   "cell_type": "code",
   "execution_count": 2,
   "id": "ef315c04-28e7-46fa-adbb-c9266a837889",
   "metadata": {},
   "outputs": [],
   "source": [
    "# SET ARGUMENTS AND HPARAMS\n",
    "arguments = ablang_parse_args(args=\"\", is_test=True)\n",
    "\n",
    "arguments.model_specific_args.n_encoder_blocks = 1\n",
    "arguments.model_specific_args.hidden_embed_size = 64\n",
    "arguments.model_specific_args.n_attn_heads = 8\n",
    "arguments.model_specific_args.over_sample_data = 0\n",
    "arguments.model_specific_args.cpus = 4\n",
    "arguments.model_specific_args.data_path = \"../data/single_data/\" #    '/vols/bitbucket/olsen/processed_oas_data/nov2022/nov2022-paired-all/'\n",
    "arguments.model_specific_args.train_batch_size = 20\n",
    "arguments.model_specific_args.accumulate_grad_batches = 2\n",
    "arguments.model_specific_args.effective_batch_size = 10\n",
    "arguments.model_specific_args.eval_batch_size = 10\n",
    "arguments.model_specific_args.val_check_interval = 1\n",
    "arguments.model_specific_args.use_tkn_dropout = False\n",
    "arguments.model_specific_args.learning_rate = 4e-02 #4e-04\n",
    "arguments.model_specific_args.change_percent = 1\n",
    "arguments.model_specific_args.leave_percent = 0 #4e-04\n",
    "arguments.model_specific_args.loss_fn = \"Focal_Loss\" #\"CrossEntropy_Loss\" #\"Focal_Loss\"\n",
    "arguments.model_specific_args.a_fn = \"gelu\"\n",
    "#arguments.model_specific_args.fl_gamma = 5\n",
    "#arguments.model_specific_args.out_path = #set path"
   ]
  },
  {
   "cell_type": "code",
   "execution_count": 3,
   "id": "b776bae3-53bb-496d-bf2f-9abef57d3afb",
   "metadata": {},
   "outputs": [
    {
     "data": {
      "text/plain": [
       "Namespace(name='Model', json_args='', n_encoder_blocks=1, hidden_embed_size=64, n_attn_heads=8, dropout=0.1, use_tkn_dropout=False, loss_fn='Focal_Loss', a_fn='gelu', fl_gamma=2, mask_percent=0.15, variable_masking=False, mask_technique='random', change_percent=1, leave_percent=0, initializer_range=0.02, layer_norm_eps=1e-12, data_path='../data/single_data/', out_path='/data/iraqbabbler/olsen/Documents/projects/AbLang/model-catalogue/paired-ablang/train_ablang_pair/reports/models', cpus=4, max_fit_batch_size=256, effective_batch_size=10, num_training_steps=1000, warmup_steps=2000, learning_rate=0.04, cdr3_focus=1, weight_decay=0.01, adam_epsilon=1e-08, adam_betas=[0.9, 0.98], seed=42, eval_batch_size=10, over_sample_data=0, accelerator='cpu', devices=1, val_check_interval=1, pad_tkn=21, start_tkn=0, end_tkn=22, sep_tkn=25, mask_tkn=23, vocab_size=26, accumulate_grad_batches=2, train_batch_size=20, max_steps=1000)"
      ]
     },
     "execution_count": 3,
     "metadata": {},
     "output_type": "execute_result"
    }
   ],
   "source": [
    "#arguments = ablang_parse_args(args=[\"--json_args\", \"../reports/model_arguments/05_paired_C.json\"], is_test=True)\n",
    "#arguments.model_specific_args.train_batch_size = 10\n",
    "arguments.model_specific_args"
   ]
  },
  {
   "cell_type": "code",
   "execution_count": 4,
   "id": "1b8d8ce2-a095-440f-90ef-915b86a64fa5",
   "metadata": {},
   "outputs": [],
   "source": [
    "def set_neptune_logger(args):\n",
    "    \"\"\"\n",
    "    Initialize Neptune logger\n",
    "    \"\"\"\n",
    "\n",
    "    neptune_args = { 'api_key':\"eyJhcGlfYWRkcmVzcyI6Imh0dHBzOi8vYXBwLm5lcHR1bmUuYWkiLCJhcGlfdXJsIjoiaHR0cHM6Ly9hcHAubmVwdHVuZS5haSIsImFwaV9rZXkiOiI0N2Y2YmIxMS02OWM3LTRhY2MtYTQxOC0xODU5N2E0ODFmMzEifQ==\",\n",
    "    'project':\"tobiasheol/AbLangTraining\",\n",
    "    'name':args.name,\n",
    "    'log_model_checkpoints':False,\n",
    "    }\n",
    "\n",
    "    return pl.loggers.neptune.NeptuneLogger(**neptune_args)\n",
    "\n",
    "arguments.trainer_args['logger'] = set_neptune_logger(arguments.model_specific_args)\n",
    "arguments.trainer_args['log_every_n_steps'] = 1\n",
    "\n",
    "\n",
    "callbacks = CallbackHandler(save_step_frequency=1, \n",
    "                                progress_refresh_rate=0, \n",
    "                                outpath=arguments.model_specific_args.out_path)"
   ]
  },
  {
   "cell_type": "code",
   "execution_count": 5,
   "id": "6c44c612-7ea6-43e5-a584-66c91edacaef",
   "metadata": {},
   "outputs": [
    {
     "name": "stderr",
     "output_type": "stream",
     "text": [
      "Global seed set to 42\n"
     ]
    }
   ],
   "source": [
    "def enforce_reproducibility(seed=42):\n",
    "    # Sets seed manually for both CPU and CUDA\n",
    "    torch.manual_seed(seed)\n",
    "    # For atomic operations there is currently\n",
    "    # no simple way to enforce determinism, as\n",
    "    # the order of parallel operations is not known.\n",
    "    #\n",
    "    # CUDNN\n",
    "    torch.backends.cudnn.deterministic = True\n",
    "    torch.backends.cudnn.benchmark = False\n",
    "    # System based\n",
    "    np.random.seed(seed)\n",
    "    \n",
    "    pl.seed_everything(seed)\n",
    "    \n",
    "# SET SEED - IMPORTANT FOR MULTIPLE GPUS, OTHERWISE GOOD FOR REPRODUCIBILITY\n",
    "enforce_reproducibility(arguments.model_specific_args.seed)"
   ]
  },
  {
   "cell_type": "code",
   "execution_count": 6,
   "id": "531b297a-74e4-4488-91ad-bc3f53deaf8f",
   "metadata": {
    "tags": []
   },
   "outputs": [],
   "source": [
    "# LOAD AND INITIATE DATA\n",
    "arguments.model_specific_args.mask_technique = 'random'\n",
    "\n",
    "ablang_dm = AbDataModule(arguments.model_specific_args, ABtokenizer) \n",
    "# You are supposed to just be able to add abrep to the fit function, but it doesn't work when using multiple GPUs\n",
    "ablang_dm.setup('fit')\n",
    "\n",
    "train = ablang_dm.train_dataloader()\n",
    "val = ablang_dm.val_dataloader()"
   ]
  },
  {
   "cell_type": "code",
   "execution_count": 7,
   "id": "6adac39a-585c-4686-bcfb-0b1f4f1393c0",
   "metadata": {
    "tags": []
   },
   "outputs": [
    {
     "name": "stdout",
     "output_type": "stream",
     "text": [
      "tensor([ 0, 12, 15, 10, 20, 15,  6,  7, 12, 13, 12, 20, 15, 10, 13, 12,  4,  7,\n",
      "         4, 11, 20,  7, 11, 15, 14,  7, 12, 17,  8, 17,  7, 16, 18, 12,  1,  7,\n",
      "        19, 15,  2, 24, 14, 13, 12,  4, 12, 20,  6, 19,  1, 14, 20, 16, 16, 18,\n",
      "         5,  6,  7,  9,  4, 16, 18,  6,  5,  7, 15,  4, 12,  5, 17,  8, 16,  7,\n",
      "         2,  9,  9,  7,  4,  4,  8, 20, 18, 20, 10,  1,  7,  7, 20,  2, 14,  6,\n",
      "         5,  8, 14,  8, 17, 18, 11, 14,  4, 15,  4,  3, 16,  5, 14,  8,  2, 13,\n",
      "         9,  5, 18,  3, 12, 10, 12,  8, 20, 15,  8, 12,  7,  9, 22, 25,  0,  5,\n",
      "        16, 15,  1,  1, 10,  8, 13,  7,  8, 20,  7,  4, 10, 15,  4,  5,  2, 15,\n",
      "        11, 20,  8, 11,  4, 10,  7, 10,  5, 16,  7,  8, 20, 14,  3, 18, 10, 10,\n",
      "         4, 13, 12,  4, 14, 13,  4,  4, 20, 16, 18, 14, 14,  7,  7, 20, 10,  7,\n",
      "        12, 15, 13, 18,  2, 17,  7, 12,  7, 12,  7, 12,  8,  5, 17,  8, 20,  8,\n",
      "        16,  7, 14, 20, 15, 13,  6,  5, 17, 12,  8, 18, 18, 11,  9, 10, 10,  9,\n",
      "         7,  9, 19,  8, 17,  4, 14, 12,  8,  4, 15,  5, 16,  4, 22])\n",
      "tensor([   0,    6, -100, -100, -100, -100, -100, -100, -100, -100, -100, -100,\n",
      "        -100, -100, -100, -100, -100, -100,   20,    2, -100, -100, -100, -100,\n",
      "        -100, -100, -100, -100, -100, -100, -100,   12, -100, -100, -100,    3,\n",
      "        -100, -100, -100, -100, -100, -100, -100, -100, -100, -100, -100, -100,\n",
      "          16, -100, -100, -100, -100, -100, -100, -100, -100, -100, -100,   18,\n",
      "        -100,   14, -100, -100, -100, -100, -100,    2, -100, -100, -100, -100,\n",
      "        -100,    5, -100, -100, -100,    9, -100, -100, -100, -100, -100, -100,\n",
      "        -100, -100, -100, -100, -100, -100, -100, -100, -100,   15, -100, -100,\n",
      "        -100, -100, -100, -100, -100,   17,   18, -100,   13, -100,   14, -100,\n",
      "        -100, -100, -100,   19, -100, -100, -100, -100, -100, -100, -100,   15,\n",
      "        -100,    7,   22,   25,    0, -100, -100, -100, -100,    8, -100, -100,\n",
      "        -100, -100, -100, -100, -100,   14,    7, -100,   12, -100, -100, -100,\n",
      "           8, -100, -100, -100, -100,   14, -100, -100, -100, -100, -100,   18,\n",
      "        -100, -100,   19, -100, -100, -100, -100, -100, -100, -100, -100, -100,\n",
      "        -100, -100, -100, -100, -100, -100, -100, -100, -100, -100, -100, -100,\n",
      "        -100, -100, -100,    7, -100, -100, -100, -100, -100, -100, -100, -100,\n",
      "        -100, -100, -100, -100, -100, -100, -100, -100,    7, -100,   10, -100,\n",
      "        -100, -100, -100,   14, -100, -100, -100, -100,   20, -100, -100, -100,\n",
      "        -100, -100, -100, -100, -100,   12,   10, -100, -100, -100, -100, -100,\n",
      "        -100, -100,   22])\n"
     ]
    }
   ],
   "source": [
    "for batch in train:\n",
    "    \n",
    "    print(batch['input'][0])\n",
    "    print(batch['labels'][:len(batch['input'][0])])\n",
    "    break"
   ]
  },
  {
   "cell_type": "code",
   "execution_count": 8,
   "id": "c8eb9960-b449-4402-bd0d-52b8d4b44631",
   "metadata": {},
   "outputs": [
    {
     "name": "stderr",
     "output_type": "stream",
     "text": [
      "GPU available: False, used: False\n",
      "TPU available: False, using: 0 TPU cores\n",
      "IPU available: False, using: 0 IPUs\n",
      "HPU available: False, using: 0 HPUs\n"
     ]
    }
   ],
   "source": [
    "# LOAD MODEL\n",
    "model = TrainingFrame(arguments.model_specific_args, AbLang, ABtokenizer)\n",
    "\n",
    "# INITIALISE TRAINER\n",
    "trainer = pl.Trainer(**arguments.trainer_args, callbacks=callbacks())"
   ]
  },
  {
   "cell_type": "code",
   "execution_count": null,
   "id": "f6a31d9e-6cba-473a-af89-c4c0b184e3ab",
   "metadata": {
    "tags": []
   },
   "outputs": [
    {
     "name": "stderr",
     "output_type": "stream",
     "text": [
      "\n",
      "  | Name    | Type       | Params\n",
      "---------------------------------------\n",
      "0 | loss_fn | Focal_Loss | 0     \n",
      "1 | ablang  | AbLang     | 56.1 K\n",
      "---------------------------------------\n",
      "56.1 K    Trainable params\n",
      "4         Non-trainable params\n",
      "56.1 K    Total params\n",
      "0.224     Total estimated model params size (MB)\n",
      "/data/iraqbabbler/olsen/miniconda3/envs/ablang-train/lib/python3.9/site-packages/pytorch_lightning/loggers/neptune.py:355: NeptuneWarning: To avoid unintended consumption of logging hours during interactive sessions, the following monitoring options are disabled unless set to 'True' when initializing the run: 'capture_stdout', 'capture_stderr', and 'capture_hardware_metrics'.\n",
      "  self._run_instance = neptune.init_run(**self._neptune_init_args)\n"
     ]
    },
    {
     "name": "stdout",
     "output_type": "stream",
     "text": [
      "https://app.neptune.ai/tobiasheol/AbLangTraining/e/ABLANG-552\n"
     ]
    },
    {
     "name": "stderr",
     "output_type": "stream",
     "text": [
      "/data/iraqbabbler/olsen/miniconda3/envs/ablang-train/lib/python3.9/site-packages/pytorch_lightning/loggers/neptune.py:402: NeptuneUnsupportedType: You're attempting to log a type that is not directly supported by Neptune (<class 'list'>).\n",
      "        Convert the value to a supported type, such as a string or float, or use stringify_unsupported(obj)\n",
      "        for dictionaries or collections that contain unsupported values.\n",
      "        For more, see https://docs.neptune.ai/help/value_of_unsupported_type\n",
      "  self.run[parameters_key] = params\n"
     ]
    }
   ],
   "source": [
    "trainer.fit(model, train, val)"
   ]
  },
  {
   "cell_type": "code",
   "execution_count": null,
   "id": "a5bd3e97-80ac-41ad-8cce-0ef6c9c6b81a",
   "metadata": {},
   "outputs": [],
   "source": []
  },
  {
   "cell_type": "code",
   "execution_count": null,
   "id": "fd41cc61-86f1-48af-86fc-b04924330c7c",
   "metadata": {},
   "outputs": [],
   "source": []
  },
  {
   "cell_type": "code",
   "execution_count": null,
   "id": "dfc3f3a2-5b66-4df2-9636-ee98d8076eee",
   "metadata": {},
   "outputs": [],
   "source": []
  },
  {
   "cell_type": "code",
   "execution_count": null,
   "id": "ab1a6926-56fd-4edf-a7d0-3c951180c131",
   "metadata": {},
   "outputs": [],
   "source": [
    "seq_to_restore = '<EVQLVESGPGLVQPGKSLRLSCVASGFTFSGYGMHWVRQAPGKGLEWIALIIYDESNKYYADSVKGRFTISRDNSKNTLYLQMSSLRAEDTAVFYCAKVKFYDPTAPNDYWGQGTLVTVSS>|'"
   ]
  },
  {
   "cell_type": "code",
   "execution_count": null,
   "id": "b694fbdd-b88b-4166-ae86-71b44c484727",
   "metadata": {},
   "outputs": [],
   "source": [
    "model1 = model.ablang\n",
    "tokenizer1 = model.tokenizer\n",
    "\n",
    "with torch.no_grad():\n",
    "    tokenPreds = model1(tokenizer1([seq_to_restore], pad=True, w_extra_tkns=False, device='cpu'))\n",
    "\n",
    "tokenMAX = torch.max(torch.nn.Softmax(dim=-1)(tokenPreds), -1)\n",
    "\n",
    "aaPreds = tokenizer1(tokenMAX.indices, mode='decode', device='cpu')\n",
    "\n",
    "unkMatrix = torch.zeros(tokenMAX[0].shape, dtype=torch.long, device='cpu') + 21\n",
    "\n",
    "aaPreds50 = ['-'.join(tokenizer1(torch.where(tokenMAX[0]<=.5, unkMatrix, tokenMAX[1]).detach(), mode='decode')[0].split('<unk>'))]"
   ]
  },
  {
   "cell_type": "code",
   "execution_count": null,
   "id": "0bec6f54-86c3-491f-a5a2-1e4925da2186",
   "metadata": {},
   "outputs": [],
   "source": [
    "tokenPreds[0][2]"
   ]
  },
  {
   "cell_type": "code",
   "execution_count": null,
   "id": "8f73bc7a-c178-4b67-bb72-dbd090ff93d9",
   "metadata": {},
   "outputs": [],
   "source": [
    "tokenMAX = torch.max(torch.nn.Softmax(dim=-1)(tokenPreds), -1)\n",
    "tokenMAX[1]"
   ]
  },
  {
   "cell_type": "code",
   "execution_count": null,
   "id": "f0e9c397-4390-4113-95b6-cab441723ec6",
   "metadata": {},
   "outputs": [],
   "source": [
    "masked_to_restore = '***LVESGPGLVQPGKSLRLSCVASGFTFSGYGMHWVRQAPGKGLEWIALIIYDESNKYYADSVKGRFTISRDNSKNTLYLQMSSLRAEDTAVFYCAKVKFYDPTAPND************'\n",
    "masked_to_restore = '<********************************GMHWVRQAPGKGLEWIALI*********ADSVKGRFTISRDNSKNTLYLQMSSLRA*********************************>|'"
   ]
  },
  {
   "cell_type": "code",
   "execution_count": null,
   "id": "46e12cdf-a8d2-47aa-943a-15dc0a8eb71c",
   "metadata": {},
   "outputs": [],
   "source": [
    "with torch.no_grad():\n",
    "    tokenPreds = model1(tokenizer1([masked_to_restore], pad=True, w_extra_tkns=False, device='cpu'))\n",
    "    tokenMAX = torch.max(torch.nn.Softmax(dim=-1)(tokenPreds), -1)\n",
    "    masked_aaPreds = tokenizer1(tokenMAX[1], mode='decode')\n",
    "masked_aaPreds"
   ]
  },
  {
   "cell_type": "code",
   "execution_count": null,
   "id": "bfbcbbd2-612d-41cf-aca9-9730422e5301",
   "metadata": {},
   "outputs": [],
   "source": [
    "print(aaPreds[0])\n",
    "print(aaPreds50[0])\n",
    "print(seq_to_restore)"
   ]
  },
  {
   "cell_type": "code",
   "execution_count": null,
   "id": "589342d0-5c7b-4033-8fb7-528769197cdd",
   "metadata": {},
   "outputs": [],
   "source": []
  },
  {
   "cell_type": "code",
   "execution_count": null,
   "id": "5158033c-4a6d-4c24-a465-8647f2b9d0a1",
   "metadata": {},
   "outputs": [],
   "source": []
  },
  {
   "cell_type": "code",
   "execution_count": null,
   "id": "fe8352bb-1670-4fc6-b7be-fc0410859cdc",
   "metadata": {},
   "outputs": [],
   "source": []
  },
  {
   "cell_type": "code",
   "execution_count": null,
   "id": "fedf1b46-0ff7-4453-be0d-366688f31d91",
   "metadata": {},
   "outputs": [],
   "source": []
  },
  {
   "cell_type": "code",
   "execution_count": null,
   "id": "def686bd-31e3-4081-b328-77168cf2f166",
   "metadata": {},
   "outputs": [],
   "source": []
  }
 ],
 "metadata": {
  "kernelspec": {
   "display_name": "Python [conda env:ablang-train]",
   "language": "python",
   "name": "conda-env-ablang-train-py"
  },
  "language_info": {
   "codemirror_mode": {
    "name": "ipython",
    "version": 3
   },
   "file_extension": ".py",
   "mimetype": "text/x-python",
   "name": "python",
   "nbconvert_exporter": "python",
   "pygments_lexer": "ipython3",
   "version": "3.9.16"
  }
 },
 "nbformat": 4,
 "nbformat_minor": 5
}
