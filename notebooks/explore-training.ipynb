{
 "cells": [
  {
   "cell_type": "code",
   "execution_count": 1,
   "id": "dee14605-52fd-4bd8-8e4a-817745ec0876",
   "metadata": {},
   "outputs": [
    {
     "name": "stderr",
     "output_type": "stream",
     "text": [
      "/data/iraqbabbler/olsen/miniconda3/envs/ablang-train/lib/python3.9/site-packages/tqdm/auto.py:22: TqdmWarning: IProgress not found. Please update jupyter and ipywidgets. See https://ipywidgets.readthedocs.io/en/stable/user_install.html\n",
      "  from .autonotebook import tqdm as notebook_tqdm\n"
     ]
    }
   ],
   "source": [
    "%load_ext autoreload\n",
    "%autoreload 2\n",
    "\n",
    "import os\n",
    "import numpy as np\n",
    "import pandas as pd\n",
    "\n",
    "import torch\n",
    "import pytorch_lightning as pl\n",
    "\n",
    "from ablang_train import ABtokenizer, AbLang, TrainingFrame, CallbackHandler, AbDataModule, ablang_parse_args"
   ]
  },
  {
   "cell_type": "code",
   "execution_count": 2,
   "id": "1b8d8ce2-a095-440f-90ef-915b86a64fa5",
   "metadata": {},
   "outputs": [],
   "source": [
    "def set_neptune_logger(args):\n",
    "    \"\"\"\n",
    "    Initialize Neptune logger\n",
    "    \"\"\"\n",
    "\n",
    "    neptune_args = { 'api_key':\"eyJhcGlfYWRkcmVzcyI6Imh0dHBzOi8vYXBwLm5lcHR1bmUuYWkiLCJhcGlfdXJsIjoiaHR0cHM6Ly9hcHAubmVwdHVuZS5haSIsImFwaV9rZXkiOiI0N2Y2YmIxMS02OWM3LTRhY2MtYTQxOC0xODU5N2E0ODFmMzEifQ==\",\n",
    "    'project':\"tobiasheol/AbLangTraining\",\n",
    "    'name':args.name,\n",
    "    'log_model_checkpoints':False,\n",
    "    }\n",
    "\n",
    "    return pl.loggers.neptune.NeptuneLogger(**neptune_args)"
   ]
  },
  {
   "cell_type": "code",
   "execution_count": 3,
   "id": "620992d1-78f5-4ddf-8318-189131fe4e1a",
   "metadata": {},
   "outputs": [],
   "source": [
    "# SET ARGUMENTS AND HPARAMS\n",
    "arguments = ablang_parse_args(args=\"\", is_test=True)\n",
    "\n",
    "arguments.model_specific_args.n_encoder_blocks = 1\n",
    "arguments.model_specific_args.hidden_embed_size = 64\n",
    "arguments.model_specific_args.n_attn_heads = 8\n",
    "arguments.model_specific_args.over_sample_data = 1\n",
    "arguments.model_specific_args.cpus = 4\n",
    "arguments.model_specific_args.data_path = '../data/single_data/'\n",
    "#arguments.model_specific_args.train_batch_size = 1000\n",
    "arguments.model_specific_args.effective_batch_size = 1000\n",
    "arguments.model_specific_args.eval_batch_size = 1\n",
    "arguments.model_specific_args.val_check_interval = 1\n",
    "arguments.model_specific_args.use_tkn_dropout = False\n",
    "arguments.model_specific_args.learning_rate = 4e-02 #4e-04\n",
    "#arguments.model_specific_args.out_path = #set path\n",
    "\n",
    "arguments.trainer_args['logger'] = set_neptune_logger(arguments.model_specific_args)\n",
    "arguments.trainer_args['log_every_n_steps'] = 1\n",
    "\n",
    "\n",
    "callbacks = CallbackHandler(save_step_frequency=1, \n",
    "                                progress_refresh_rate=0, \n",
    "                                outpath=arguments.model_specific_args.out_path)"
   ]
  },
  {
   "cell_type": "code",
   "execution_count": 4,
   "id": "6c44c612-7ea6-43e5-a584-66c91edacaef",
   "metadata": {},
   "outputs": [
    {
     "name": "stderr",
     "output_type": "stream",
     "text": [
      "Global seed set to 42\n"
     ]
    }
   ],
   "source": [
    "def enforce_reproducibility(seed=42):\n",
    "    # Sets seed manually for both CPU and CUDA\n",
    "    torch.manual_seed(seed)\n",
    "    # For atomic operations there is currently\n",
    "    # no simple way to enforce determinism, as\n",
    "    # the order of parallel operations is not known.\n",
    "    #\n",
    "    # CUDNN\n",
    "    torch.backends.cudnn.deterministic = True\n",
    "    torch.backends.cudnn.benchmark = False\n",
    "    # System based\n",
    "    np.random.seed(seed)\n",
    "    \n",
    "    pl.seed_everything(seed)\n",
    "    \n",
    "# SET SEED - IMPORTANT FOR MULTIPLE GPUS, OTHERWISE GOOD FOR REPRODUCIBILITY\n",
    "enforce_reproducibility(arguments.model_specific_args.seed)"
   ]
  },
  {
   "cell_type": "code",
   "execution_count": 5,
   "id": "531b297a-74e4-4488-91ad-bc3f53deaf8f",
   "metadata": {
    "tags": []
   },
   "outputs": [],
   "source": [
    "# LOAD AND INITIATE DATA\n",
    "arguments.model_specific_args.mask_technique = 'random'\n",
    "\n",
    "ablang_dm = AbDataModule(arguments.model_specific_args, ABtokenizer) \n",
    "# You are supposed to just be able to add abrep to the fit function, but it doesn't work when using multiple GPUs\n",
    "ablang_dm.setup('fit')\n",
    "\n",
    "train = ablang_dm.train_dataloader()\n",
    "val = ablang_dm.val_dataloader()"
   ]
  },
  {
   "cell_type": "code",
   "execution_count": 6,
   "id": "6adac39a-585c-4686-bcfb-0b1f4f1393c0",
   "metadata": {
    "tags": []
   },
   "outputs": [
    {
     "name": "stdout",
     "output_type": "stream",
     "text": [
      "tensor([ 0,  6, 15, 10, 23, 15,  6,  7, 12, 13, 12, 20, 23, 10, 13, 12,  4,  7,\n",
      "        20,  2, 20,  7, 11, 15, 14,  7, 23, 17,  8, 17, 23, 12, 18, 12,  1,  3,\n",
      "        19, 15, 23, 24, 14, 13, 12,  4, 12, 23, 23, 19, 16, 14, 20, 16, 16, 18,\n",
      "         5,  6,  7,  9,  4, 18, 18, 23,  5,  7, 15,  4, 12,  2, 17,  8, 16,  7,\n",
      "         2,  5,  9,  7,  4, 23,  8, 20, 18, 20, 23,  1,  7,  7, 20,  2, 14,  9,\n",
      "        23,  8, 14, 15, 17, 18, 11, 14,  4, 15,  4, 17, 23,  5,  6,  8, 14, 13,\n",
      "         9,  5, 18, 19, 12, 23, 12,  8, 23, 23,  8, 15,  7, 23, 22, 25,  0,  5,\n",
      "        16, 15,  1,  8, 10,  8, 13,  7,  8, 20, 23, 14,  7, 15, 12,  5,  2, 15,\n",
      "         8, 20,  8, 11,  4, 14,  7, 10,  5, 16,  7, 18, 20, 14, 19, 18, 10, 10,\n",
      "         4, 13, 12,  4, 16, 23,  4,  4, 20, 23, 18, 14, 14,  7,  7, 20, 10,  7,\n",
      "        23, 15, 13,  7,  2, 23,  7, 12,  7, 12,  7, 12,  8,  5, 17,  8, 20,  8,\n",
      "        16,  7,  7, 23, 10, 13,  6, 23, 17, 14,  8, 18, 18, 23, 23, 10, 10,  9,\n",
      "        23,  9, 19,  8, 17, 12, 10, 23,  8,  4, 15,  5, 16, 23, 22])\n",
      "tensor([   0, -100, -100, -100,   20, -100, -100, -100, -100, -100, -100, -100,\n",
      "          15, -100, -100, -100, -100, -100, -100, -100, -100, -100, -100, -100,\n",
      "        -100, -100,   12, -100, -100,   17,    7, -100, -100, -100, -100, -100,\n",
      "        -100, -100,    2, -100, -100, -100, -100, -100, -100,   20,    6, -100,\n",
      "        -100, -100, -100, -100, -100, -100, -100, -100, -100, -100, -100, -100,\n",
      "        -100,   14, -100, -100, -100, -100, -100, -100, -100, -100, -100, -100,\n",
      "        -100, -100, -100, -100, -100,    9, -100, -100, -100, -100,   10, -100,\n",
      "        -100, -100, -100, -100, -100,    6,    5, -100, -100, -100, -100, -100,\n",
      "        -100, -100, -100, -100, -100, -100,   18, -100,   13, -100, -100, -100,\n",
      "        -100, -100, -100, -100, -100,   10, -100, -100,   20,   15, -100, -100,\n",
      "        -100,    7,   22,   25,    0, -100, -100,   15, -100, -100, -100, -100,\n",
      "        -100, -100, -100, -100,    7, -100, -100, -100, -100, -100, -100, -100,\n",
      "        -100, -100, -100, -100, -100, -100, -100, -100, -100, -100, -100, -100,\n",
      "        -100, -100, -100, -100, -100, -100, -100, -100, -100, -100,   14,   13,\n",
      "        -100, -100, -100,   16, -100, -100, -100, -100, -100, -100, -100, -100,\n",
      "          12, -100, -100, -100, -100,   17, -100, -100, -100, -100, -100, -100,\n",
      "        -100, -100,   17, -100, -100, -100, -100, -100, -100,   20, -100, -100,\n",
      "        -100,    5, -100, -100, -100, -100, -100,   11,   20, -100, -100, -100,\n",
      "           7, -100, -100, -100, -100, -100, -100,   12, -100, -100, -100, -100,\n",
      "        -100,    4,   22])\n"
     ]
    }
   ],
   "source": [
    "for batch in train:\n",
    "    \n",
    "    print(batch['input'][0])\n",
    "    print(batch['labels'][:len(batch['input'][0])])\n",
    "    break"
   ]
  },
  {
   "cell_type": "code",
   "execution_count": 7,
   "id": "c8eb9960-b449-4402-bd0d-52b8d4b44631",
   "metadata": {},
   "outputs": [
    {
     "name": "stderr",
     "output_type": "stream",
     "text": [
      "GPU available: False, used: False\n",
      "TPU available: False, using: 0 TPU cores\n",
      "IPU available: False, using: 0 IPUs\n",
      "HPU available: False, using: 0 HPUs\n",
      "`Trainer(val_check_interval=1)` was configured so validation will run after every batch.\n"
     ]
    }
   ],
   "source": [
    "# LOAD MODEL\n",
    "model = TrainingFrame(arguments.model_specific_args, AbLang, ABtokenizer)\n",
    "\n",
    "# INITIALISE TRAINER\n",
    "trainer = pl.Trainer(**arguments.trainer_args, callbacks=callbacks())"
   ]
  },
  {
   "cell_type": "code",
   "execution_count": 8,
   "id": "f6a31d9e-6cba-473a-af89-c4c0b184e3ab",
   "metadata": {
    "tags": []
   },
   "outputs": [
    {
     "name": "stderr",
     "output_type": "stream",
     "text": [
      "\n",
      "  | Name    | Type             | Params\n",
      "---------------------------------------------\n",
      "0 | loss_fn | CrossEntropyLoss | 0     \n",
      "1 | ablang  | AbLang           | 56.1 K\n",
      "---------------------------------------------\n",
      "56.1 K    Trainable params\n",
      "4         Non-trainable params\n",
      "56.1 K    Total params\n",
      "0.224     Total estimated model params size (MB)\n"
     ]
    },
    {
     "name": "stdout",
     "output_type": "stream",
     "text": [
      "https://app.neptune.ai/tobiasheol/AbLangTraining/e/ABLANG-370\n"
     ]
    },
    {
     "name": "stderr",
     "output_type": "stream",
     "text": [
      "Info (NVML): NVML Shared Library Not Found. GPU usage metrics may not be reported. For more information, see https://docs.neptune.ai/help/nvml_error/\n"
     ]
    },
    {
     "name": "stdout",
     "output_type": "stream",
     "text": [
      "Remember to stop your run once you’ve finished logging your metadata (https://docs.neptune.ai/api/run#stop). It will be stopped automatically only when the notebook kernel/interactive console is terminated.\n"
     ]
    },
    {
     "name": "stderr",
     "output_type": "stream",
     "text": [
      "/data/iraqbabbler/olsen/miniconda3/envs/ablang-train/lib/python3.9/site-packages/neptune/new/attributes/attribute.py:64: NeptuneDeprecationWarning: The object you're logging will be implicitly cast to a string. We'll end support of this behavior in `neptune-client==1.0.0`. To log the object as a string, use `str(object)` instead.\n",
      "  return self.assign(value, wait)\n",
      "/data/iraqbabbler/olsen/miniconda3/envs/ablang-train/lib/python3.9/site-packages/pytorch_lightning/trainer/call.py:48: UserWarning: Detected KeyboardInterrupt, attempting graceful shutdown...\n",
      "  rank_zero_warn(\"Detected KeyboardInterrupt, attempting graceful shutdown...\")\n"
     ]
    },
    {
     "data": {
      "image/png": "[encoded data removed]",
      "text/plain": [
       "<Figure size 1114.12x700 with 1 Axes>"
      ]
     },
     "metadata": {},
     "output_type": "display_data"
    }
   ],
   "source": [
    "trainer.fit(model, train, val)"
   ]
  },
  {
   "cell_type": "code",
   "execution_count": null,
   "id": "dfc3f3a2-5b66-4df2-9636-ee98d8076eee",
   "metadata": {},
   "outputs": [],
   "source": []
  },
  {
   "cell_type": "code",
   "execution_count": 9,
   "id": "ab1a6926-56fd-4edf-a7d0-3c951180c131",
   "metadata": {},
   "outputs": [],
   "source": [
    "seq_to_restore = '<EVQLVESGPGLVQPGKSLRLSCVASGFTFSGYGMHWVRQAPGKGLEWIALIIYDESNKYYADSVKGRFTISRDNSKNTLYLQMSSLRAEDTAVFYCAKVKFYDPTAPNDYWGQGTLVTVSS>|'"
   ]
  },
  {
   "cell_type": "code",
   "execution_count": 10,
   "id": "b694fbdd-b88b-4166-ae86-71b44c484727",
   "metadata": {},
   "outputs": [],
   "source": [
    "model1 = model.ablang\n",
    "tokenizer1 = model.tokenizer\n",
    "\n",
    "with torch.no_grad():\n",
    "    tokenPreds = model1(tokenizer1([seq_to_restore], pad=True, add_extra_tkns=False, device='cpu'))\n",
    "\n",
    "tokenMAX = torch.max(torch.nn.Softmax(dim=-1)(tokenPreds), -1)\n",
    "\n",
    "aaPreds = tokenizer1(tokenMAX[1], encode=False)\n",
    "\n",
    "unkMatrix = torch.zeros(tokenMAX[0].shape, dtype=torch.long, device='cpu') + 21\n",
    "\n",
    "aaPreds50 = ['-'.join(tokenizer1(torch.where(tokenMAX[0]<=.5, unkMatrix, tokenMAX[1]).detach(), encode=False)[0].split('<unk>'))]"
   ]
  },
  {
   "cell_type": "code",
   "execution_count": 11,
   "id": "0bec6f54-86c3-491f-a5a2-1e4925da2186",
   "metadata": {},
   "outputs": [
    {
     "data": {
      "text/plain": [
       "tensor([-2.3041, -3.0143,  1.0899, -2.4326,  0.3744,  0.7966, -0.5975,  1.2132,\n",
       "         0.6157,  1.0328,  0.1035, -2.0957,  1.5010, -0.1416,  1.0123,  4.9954,\n",
       "        -0.9083,  1.2959,  0.7579,  0.6828,  2.1176, -3.9455, -2.4812, -2.7536,\n",
       "        -2.9140,  0.3948])"
      ]
     },
     "execution_count": 11,
     "metadata": {},
     "output_type": "execute_result"
    }
   ],
   "source": [
    "tokenPreds[0][2]"
   ]
  },
  {
   "cell_type": "code",
   "execution_count": 12,
   "id": "8f73bc7a-c178-4b67-bb72-dbd090ff93d9",
   "metadata": {},
   "outputs": [
    {
     "data": {
      "text/plain": [
       "tensor([[ 0,  6, 15, 10, 20, 15,  6,  7, 12, 13, 12, 20, 15, 10, 13, 12,  4,  7,\n",
       "         20,  2, 20,  7, 11, 15, 14,  7, 12, 17,  8, 17,  7, 12, 18, 12,  1,  7,\n",
       "         19, 15,  2, 10, 14, 13, 12,  4, 12, 20,  6, 19, 20, 14, 20, 20, 20, 18,\n",
       "          5,  6,  7,  9,  4, 18, 18, 14,  5,  7, 15,  4, 12,  2, 17,  8, 16,  7,\n",
       "          2,  5,  9,  7,  4,  9,  8, 20,  7, 20, 10,  1,  7,  7, 20,  2, 14,  6,\n",
       "          5,  8, 14, 15, 17, 18, 11, 14,  4, 15,  4, 17, 18,  5, 13,  8, 14, 13,\n",
       "          9,  5, 18, 19, 12, 10, 12,  8, 20, 15,  8, 15,  7,  7, 22, 25]])"
      ]
     },
     "execution_count": 12,
     "metadata": {},
     "output_type": "execute_result"
    }
   ],
   "source": [
    "tokenMAX = torch.max(torch.nn.Softmax(dim=-1)(tokenPreds), -1)\n",
    "tokenMAX[1]"
   ]
  },
  {
   "cell_type": "code",
   "execution_count": 13,
   "id": "f0e9c397-4390-4113-95b6-cab441723ec6",
   "metadata": {},
   "outputs": [],
   "source": [
    "masked_to_restore = '***LVESGPGLVQPGKSLRLSCVASGFTFSGYGMHWVRQAPGKGLEWIALIIYDESNKYYADSVKGRFTISRDNSKNTLYLQMSSLRAEDTAVFYCAKVKFYDPTAPND************'\n",
    "masked_to_restore = '<********************************GMHWVRQAPGKGLEWIALI*********ADSVKGRFTISRDNSKNTLYLQMSSLRA*********************************>|'"
   ]
  },
  {
   "cell_type": "code",
   "execution_count": 14,
   "id": "46e12cdf-a8d2-47aa-943a-15dc0a8eb71c",
   "metadata": {},
   "outputs": [
    {
     "data": {
      "text/plain": [
       "['<EVQLVVVVQQVVVVPGVVLLCKVVRGGTGVGYGQYWVRQAPGKGLEPIALIQQEEVNGYYADSVVGRFTISRDTSTNTLYLQTSSLVAYYTAVFFTKKVVFYDKTKDYDDWGPDDDDVVSN>|']"
      ]
     },
     "execution_count": 14,
     "metadata": {},
     "output_type": "execute_result"
    }
   ],
   "source": [
    "with torch.no_grad():\n",
    "    tokenPreds = model1(tokenizer1([masked_to_restore], pad=True, add_extra_tkns=False, device='cpu'))\n",
    "    tokenMAX = torch.max(torch.nn.Softmax(dim=-1)(tokenPreds), -1)\n",
    "    masked_aaPreds = tokenizer1(tokenMAX[1], encode=False)\n",
    "masked_aaPreds"
   ]
  },
  {
   "cell_type": "code",
   "execution_count": 15,
   "id": "bfbcbbd2-612d-41cf-aca9-9730422e5301",
   "metadata": {},
   "outputs": [
    {
     "name": "stdout",
     "output_type": "stream",
     "text": [
      "<EVQLVESGPGLVQPGKSLRLSCVASGFTFSGYGMSWVRQAPGKGLEWLALLLYDESNKYYADSVKGRFTISRDNSKNTLSLQMSSLRAEDTAVFYCAKVKFYDPTAPNDYWGQGTLVTVSS>|\n",
      "<EVQLV-SG-GLVQ-G-SLRLS-VASG---SG-G--WVRQA-GKGLEW-AL--YDESNKY-ADSVKGRFT-SRD-S-NTL-LQ-SSL--E-TAVFY--KVKFYD--A-NDYWGQG-LV-VSS>|\n",
      "<EVQLVESGPGLVQPGKSLRLSCVASGFTFSGYGMHWVRQAPGKGLEWIALIIYDESNKYYADSVKGRFTISRDNSKNTLYLQMSSLRAEDTAVFYCAKVKFYDPTAPNDYWGQGTLVTVSS>|\n"
     ]
    }
   ],
   "source": [
    "print(aaPreds[0])\n",
    "print(aaPreds50[0])\n",
    "print(seq_to_restore)"
   ]
  },
  {
   "cell_type": "code",
   "execution_count": null,
   "id": "589342d0-5c7b-4033-8fb7-528769197cdd",
   "metadata": {},
   "outputs": [],
   "source": []
  }
 ],
 "metadata": {
  "kernelspec": {
   "display_name": "ablang-train",
   "language": "python",
   "name": "ablang-train"
  },
  "language_info": {
   "codemirror_mode": {
    "name": "ipython",
    "version": 3
   },
   "file_extension": ".py",
   "mimetype": "text/x-python",
   "name": "python",
   "nbconvert_exporter": "python",
   "pygments_lexer": "ipython3",
   "version": "3.9.15"
  }
 },
 "nbformat": 4,
 "nbformat_minor": 5
}
