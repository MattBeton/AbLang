{
 "cells": [
  {
   "cell_type": "code",
   "execution_count": 1,
   "id": "dee14605-52fd-4bd8-8e4a-817745ec0876",
   "metadata": {},
   "outputs": [
    {
     "name": "stderr",
     "output_type": "stream",
     "text": [
      "/data/iraqbabbler/olsen/miniconda3/envs/ablang-train/lib/python3.9/site-packages/neptune/internal/backends/hosted_client.py:50: NeptuneDeprecationWarning: The 'neptune-client' package has been deprecated and will be removed in the future. Install the 'neptune' package instead. For more, see https://docs.neptune.ai/setup/upgrading/\n",
      "  from neptune.version import version as neptune_client_version\n",
      "/data/iraqbabbler/olsen/miniconda3/envs/ablang-train/lib/python3.9/site-packages/pytorch_lightning/loggers/neptune.py:40: NeptuneDeprecationWarning: You're importing the Neptune client library via the deprecated `neptune.new` module, which will be removed in a future release. Import directly from `neptune` instead.\n",
      "  from neptune import new as neptune\n"
     ]
    }
   ],
   "source": [
    "%load_ext autoreload\n",
    "%autoreload 2\n",
    "\n",
    "import os, json\n",
    "import numpy as np\n",
    "import pandas as pd\n",
    "\n",
    "import torch\n",
    "import pytorch_lightning as pl\n",
    "\n",
    "from ablang_train import ABtokenizer, AbLang, TrainingFrame, CallbackHandler, AbDataModule, ablang_parse_args\n",
    "from ablang_train import models"
   ]
  },
  {
   "cell_type": "code",
   "execution_count": 2,
   "id": "ef315c04-28e7-46fa-adbb-c9266a837889",
   "metadata": {},
   "outputs": [
    {
     "data": {
      "text/plain": [
       "Namespace(name='test', json_args='../reports/model_arguments/00_test_heavy.json', n_encoder_blocks=1, hidden_embed_size=64, n_attn_heads=8, dropout=0.0, use_tkn_dropout=False, loss_fn='CrossEntropy_Loss', a_fn='gelu', fl_gamma=2, use_moe=True, mask_percent=0.15, variable_masking=False, mask_technique='random', change_percent=0.1, leave_percent=0.1, initializer_range=0.02, layer_norm_eps=1e-12, data_path='/vols/bitbucket/olsen/processed_oas_data/nov2022/nov2022-paired-all/', out_path='/data/iraqbabbler/olsen/Documents/projects/AbLang/model-catalogue/paired-ablang/train_ablang_pair/reports/models', eval_path='/vols/bitbucket/olsen/processed_oas_data/nov2022/nov2022-paired-all/', cpus=1, max_fit_batch_size=10, effective_batch_size=20, num_training_steps=1000, warmup_steps=2000, learning_rate=0.0004, cdr3_focus=1, weight_decay=0.01, adam_epsilon=1e-08, adam_betas=[0.9, 0.98], seed=42, eval_batch_size=100, over_sample_data=0, accelerator='cpu', devices=1, precision='32-true', val_check_interval=200, log_every_n_steps=200, enable_checkpointing=None, default_root_dir=None, pad_tkn=21, start_tkn=0, end_tkn=22, sep_tkn=25, mask_tkn=23, vocab_size=26, accumulate_grad_batches=2, train_batch_size=10, max_steps=1000)"
      ]
     },
     "execution_count": 2,
     "metadata": {},
     "output_type": "execute_result"
    }
   ],
   "source": [
    "# SET ARGUMENTS AND HPARAMS\n",
    "arguments = ablang_parse_args(args=[\"--json_args\", \"../reports/model_arguments/00_test_heavy.json\"])\n",
    "arguments.model_specific_args.data_path = '/vols/bitbucket/olsen/processed_oas_data/nov2022/nov2022-paired-all/'#'../data/single_data/'\n",
    "arguments.model_specific_args.eval_path = '/vols/bitbucket/olsen/processed_oas_data/nov2022/nov2022-paired-all/'\n",
    "arguments.model_specific_args.use_moe = True\n",
    "arguments.model_specific_args"
   ]
  },
  {
   "cell_type": "code",
   "execution_count": 3,
   "id": "1b8d8ce2-a095-440f-90ef-915b86a64fa5",
   "metadata": {},
   "outputs": [],
   "source": [
    "callbacks = CallbackHandler(\n",
    "    save_step_frequency=arguments.model_specific_args.log_every_n_steps, \n",
    "    progress_refresh_rate=0, \n",
    "    outpath=arguments.model_specific_args.out_path\n",
    ")"
   ]
  },
  {
   "cell_type": "code",
   "execution_count": 4,
   "id": "6c44c612-7ea6-43e5-a584-66c91edacaef",
   "metadata": {},
   "outputs": [
    {
     "name": "stderr",
     "output_type": "stream",
     "text": [
      "Global seed set to 42\n"
     ]
    }
   ],
   "source": [
    "def enforce_reproducibility(seed=42):\n",
    "    # Sets seed manually for both CPU and CUDA\n",
    "    torch.manual_seed(seed)\n",
    "    # For atomic operations there is currently\n",
    "    # no simple way to enforce determinism, as\n",
    "    # the order of parallel operations is not known.\n",
    "    #\n",
    "    # CUDNN\n",
    "    torch.backends.cudnn.deterministic = True\n",
    "    torch.backends.cudnn.benchmark = False\n",
    "    # System based\n",
    "    np.random.seed(seed)\n",
    "    \n",
    "    pl.seed_everything(seed)\n",
    "    \n",
    "# SET SEED - IMPORTANT FOR MULTIPLE GPUS, OTHERWISE GOOD FOR REPRODUCIBILITY\n",
    "enforce_reproducibility(arguments.model_specific_args.seed)"
   ]
  },
  {
   "cell_type": "code",
   "execution_count": 5,
   "id": "531b297a-74e4-4488-91ad-bc3f53deaf8f",
   "metadata": {
    "tags": []
   },
   "outputs": [],
   "source": [
    "# LOAD AND INITIATE DATA\n",
    "arguments.model_specific_args.mask_technique = 'span_short'\n",
    "arguments.model_specific_args.change_percent = -1\n",
    "arguments.model_specific_args.over_sample_data = 1\n",
    "arguments.model_specific_args.variable_masking = True\n",
    "\n",
    "\n",
    "ablang_dm = AbDataModule(arguments.model_specific_args, ABtokenizer) \n",
    "# You are supposed to just be able to add abrep to the fit function, but it doesn't work when using multiple GPUs\n",
    "ablang_dm.setup('fit')\n",
    "\n",
    "train = ablang_dm.train_dataloader()\n",
    "val = ablang_dm.val_dataloader()"
   ]
  },
  {
   "cell_type": "code",
   "execution_count": 6,
   "id": "6adac39a-585c-4686-bcfb-0b1f4f1393c0",
   "metadata": {
    "tags": []
   },
   "outputs": [
    {
     "name": "stdout",
     "output_type": "stream",
     "text": [
      "tensor([ 0,  6, 15, 10, 20, 15,  6,  7, 12, 12, 12, 20, 15,  4, 13, 12,  2,  7,\n",
      "        20,  2, 20,  7, 11,  8, 14,  7, 12, 17,  8, 17, 12,  5, 18, 14,  1,  7,\n",
      "        19, 17,  2, 10, 14, 13, 19, 20, 12, 23,  6, 19, 15, 12, 17, 16,  2,  7,\n",
      "         4, 14, 18, 12, 12,  8,  8, 23, 23, 23, 23,  7, 15,  4, 12,  2, 17,  8,\n",
      "        16,  7,  2,  5,  5,  7, 23, 23, 23, 14, 18, 20, 10,  1,  9,  7, 20,  4,\n",
      "         8,  6,  5,  8, 14, 15, 18, 18, 11,  8,  2,  6,  5, 17, 19,  7, 12, 18,\n",
      "        12, 13, 18, 18, 18, 12,  1,  5, 15, 19, 12, 10, 12,  8,  8, 15,  8, 15,\n",
      "         7,  7, 22, 25, 21, 21, 21, 21, 21, 21, 21, 21, 21, 21, 21, 21, 21, 21,\n",
      "        21, 21, 21, 21, 21, 21, 21, 21, 21, 21, 21, 21, 21, 21, 21, 21, 21, 21,\n",
      "        21, 21, 21, 21, 21, 21, 21, 21, 21, 21, 21, 21, 21, 21, 21, 21, 21, 21,\n",
      "        21, 21, 21, 21, 21, 21, 21, 21, 21, 21, 21, 21, 21, 21, 21, 21, 21, 21,\n",
      "        21, 21, 21, 21, 21, 21, 21, 21, 21, 21, 21, 21, 21, 21, 21, 21, 21, 21,\n",
      "        21, 21, 21, 21, 21, 21, 21, 21, 21, 21, 21, 21, 21, 21, 21, 21, 21, 21,\n",
      "        21, 21, 21])\n",
      "tensor([   0, -100, -100, -100, -100, -100, -100, -100, -100, -100, -100, -100,\n",
      "        -100, -100, -100, -100, -100, -100, -100, -100, -100, -100, -100, -100,\n",
      "        -100, -100, -100, -100, -100, -100, -100, -100, -100, -100, -100, -100,\n",
      "        -100, -100, -100, -100, -100, -100,   12,    4,   12,   20, -100, -100,\n",
      "        -100, -100, -100, -100, -100, -100, -100, -100, -100, -100, -100, -100,\n",
      "        -100,    6,   18,   14,   14, -100, -100, -100, -100, -100, -100, -100,\n",
      "        -100, -100, -100, -100, -100, -100,    4,    7,   16, -100, -100, -100,\n",
      "        -100, -100, -100, -100, -100, -100, -100, -100, -100, -100, -100, -100,\n",
      "        -100, -100, -100, -100, -100, -100, -100, -100, -100, -100, -100, -100,\n",
      "        -100, -100, -100, -100, -100, -100, -100, -100, -100, -100, -100, -100,\n",
      "        -100, -100, -100, -100, -100, -100, -100, -100,   22,   25, -100, -100,\n",
      "        -100, -100, -100, -100, -100, -100, -100, -100, -100, -100, -100, -100,\n",
      "        -100, -100, -100, -100, -100, -100, -100, -100, -100, -100, -100, -100,\n",
      "        -100, -100, -100, -100, -100, -100, -100, -100, -100, -100, -100, -100,\n",
      "        -100, -100, -100, -100, -100, -100, -100, -100, -100, -100, -100, -100,\n",
      "        -100, -100, -100, -100, -100, -100, -100, -100, -100, -100, -100, -100,\n",
      "        -100, -100, -100, -100, -100, -100, -100, -100, -100, -100, -100, -100,\n",
      "        -100, -100, -100, -100, -100, -100, -100, -100, -100, -100, -100, -100,\n",
      "        -100, -100, -100, -100, -100, -100, -100, -100, -100, -100, -100, -100,\n",
      "        -100, -100, -100, -100, -100, -100, -100, -100, -100])\n"
     ]
    }
   ],
   "source": [
    "for batch in train:\n",
    "    \n",
    "    print(batch['input'][0])\n",
    "    print(batch['labels'][:len(batch['input'][0])])\n",
    "    break"
   ]
  },
  {
   "cell_type": "code",
   "execution_count": 7,
   "id": "c8eb9960-b449-4402-bd0d-52b8d4b44631",
   "metadata": {},
   "outputs": [
    {
     "name": "stderr",
     "output_type": "stream",
     "text": [
      "GPU available: False, used: False\n",
      "TPU available: False, using: 0 TPU cores\n",
      "IPU available: False, using: 0 IPUs\n",
      "HPU available: False, using: 0 HPUs\n"
     ]
    }
   ],
   "source": [
    "# LOAD MODEL\n",
    "model = TrainingFrame(arguments.model_specific_args, AbLang, ABtokenizer)\n",
    "\n",
    "# INITIALISE TRAINER\n",
    "trainer = pl.Trainer(**arguments.trainer_args, callbacks=callbacks())"
   ]
  },
  {
   "cell_type": "code",
   "execution_count": 8,
   "id": "e8f685fc-2ce0-49d3-8e0f-182c7100ed05",
   "metadata": {
    "tags": []
   },
   "outputs": [
    {
     "name": "stderr",
     "output_type": "stream",
     "text": [
      "\n",
      "  | Name    | Type             | Params\n",
      "---------------------------------------------\n",
      "0 | loss_fn | CrossEntropyLoss | 0     \n",
      "1 | ablang  | AbLang           | 548 K \n",
      "---------------------------------------------\n",
      "548 K     Trainable params\n",
      "4         Non-trainable params\n",
      "548 K     Total params\n",
      "2.193     Total estimated model params size (MB)\n",
      "/data/iraqbabbler/olsen/miniconda3/envs/ablang-train/lib/python3.9/site-packages/pytorch_lightning/loggers/neptune.py:355: NeptuneWarning: To avoid unintended consumption of logging hours during interactive sessions, the following monitoring options are disabled unless set to 'True' when initializing the run: 'capture_stdout', 'capture_stderr', and 'capture_hardware_metrics'.\n",
      "  self._run_instance = neptune.init_run(**self._neptune_init_args)\n"
     ]
    },
    {
     "name": "stdout",
     "output_type": "stream",
     "text": [
      "https://app.neptune.ai/tobiasheol/AbLangTraining/e/ABLANG-639\n"
     ]
    },
    {
     "name": "stderr",
     "output_type": "stream",
     "text": [
      "/data/iraqbabbler/olsen/miniconda3/envs/ablang-train/lib/python3.9/site-packages/pytorch_lightning/loggers/neptune.py:402: NeptuneUnsupportedType: You're attempting to log a type that is not directly supported by Neptune (<class 'list'>).\n",
      "        Convert the value to a supported type, such as a string or float, or use stringify_unsupported(obj)\n",
      "        for dictionaries or collections that contain unsupported values.\n",
      "        For more, see https://docs.neptune.ai/help/value_of_unsupported_type\n",
      "  self.run[parameters_key] = params\n",
      "/data/iraqbabbler/olsen/miniconda3/envs/ablang-train/lib/python3.9/site-packages/pytorch_lightning/loggers/neptune.py:402: NeptuneUnsupportedType: You're attempting to log a type that is not directly supported by Neptune (<class 'NoneType'>).\n",
      "        Convert the value to a supported type, such as a string or float, or use stringify_unsupported(obj)\n",
      "        for dictionaries or collections that contain unsupported values.\n",
      "        For more, see https://docs.neptune.ai/help/value_of_unsupported_type\n",
      "  self.run[parameters_key] = params\n",
      "/data/iraqbabbler/olsen/miniconda3/envs/ablang-train/lib/python3.9/site-packages/pytorch_lightning/trainer/connectors/data_connector.py:432: PossibleUserWarning: The dataloader, val_dataloader, does not have many workers which may be a bottleneck. Consider increasing the value of the `num_workers` argument` (try 16 which is the number of cpus on this machine) in the `DataLoader` init to improve performance.\n",
      "  rank_zero_warn(\n",
      "/data/iraqbabbler/olsen/miniconda3/envs/ablang-train/lib/python3.9/site-packages/pytorch_lightning/trainer/connectors/data_connector.py:432: PossibleUserWarning: The dataloader, train_dataloader, does not have many workers which may be a bottleneck. Consider increasing the value of the `num_workers` argument` (try 16 which is the number of cpus on this machine) in the `DataLoader` init to improve performance.\n",
      "  rank_zero_warn(\n",
      "`Trainer.fit` stopped: `max_steps=1000` reached.\n"
     ]
    },
    {
     "name": "stdout",
     "output_type": "stream",
     "text": [
      "CPU times: user 16min 15s, sys: 1min 50s, total: 18min 6s\n",
      "Wall time: 2min 18s\n"
     ]
    }
   ],
   "source": [
    "%%time\n",
    "trainer.fit(model, train, val)"
   ]
  },
  {
   "cell_type": "code",
   "execution_count": 9,
   "id": "dfc3f3a2-5b66-4df2-9636-ee98d8076eee",
   "metadata": {},
   "outputs": [
    {
     "data": {
      "text/plain": [
       "2"
      ]
     },
     "execution_count": 9,
     "metadata": {},
     "output_type": "execute_result"
    }
   ],
   "source": [
    "trainer.accumulate_grad_batches"
   ]
  },
  {
   "cell_type": "code",
   "execution_count": 10,
   "id": "ab1a6926-56fd-4edf-a7d0-3c951180c131",
   "metadata": {},
   "outputs": [],
   "source": [
    "seq_to_restore = '<EVQLVESGPGLVQPGKSLRLSCVASGFTFSGYGMHWVRQAPGKGLEWIALIIYDESNKYYADSVKGRFTISRDNSKNTLYLQMSSLRAEDTAVFYCAKVKFYDPTAPNDYWGQGTLVTVSS>|'"
   ]
  },
  {
   "cell_type": "code",
   "execution_count": 11,
   "id": "b694fbdd-b88b-4166-ae86-71b44c484727",
   "metadata": {},
   "outputs": [],
   "source": [
    "model1 = model.ablang\n",
    "tokenizer1 = model.tokenizer\n",
    "\n",
    "with torch.no_grad():\n",
    "    tokenPreds = model1(tokenizer1([seq_to_restore], pad=True, w_extra_tkns=False, device='cpu'))\n",
    "\n",
    "tokenMAX = torch.max(torch.nn.Softmax(dim=-1)(tokenPreds), -1)\n",
    "\n",
    "aaPreds = tokenizer1(tokenMAX.indices, mode='decode', device='cpu')\n",
    "\n",
    "unkMatrix = torch.zeros(tokenMAX[0].shape, dtype=torch.long, device='cpu') + 21\n",
    "\n",
    "aaPreds50 = ['-'.join(tokenizer1(torch.where(tokenMAX[0]<=.5, unkMatrix, tokenMAX[1]).detach(), mode='decode')[0].split('<unk>'))]"
   ]
  },
  {
   "cell_type": "code",
   "execution_count": 12,
   "id": "0bec6f54-86c3-491f-a5a2-1e4925da2186",
   "metadata": {},
   "outputs": [
    {
     "data": {
      "text/plain": [
       "tensor([-4.0149, -0.7396,  0.3312, -1.2906,  0.6218,  0.3401, -0.4856,  2.0224,\n",
       "         1.1262,  0.1009,  1.1518, -0.3794,  1.1241,  0.5379,  0.4700,  1.5608,\n",
       "         0.6582,  0.1248,  0.8285,  0.2427,  0.6688, -4.4080, -3.1851, -2.6511,\n",
       "        -4.6344, -3.2758])"
      ]
     },
     "execution_count": 12,
     "metadata": {},
     "output_type": "execute_result"
    }
   ],
   "source": [
    "tokenPreds[0][2]"
   ]
  },
  {
   "cell_type": "code",
   "execution_count": 13,
   "id": "8f73bc7a-c178-4b67-bb72-dbd090ff93d9",
   "metadata": {},
   "outputs": [
    {
     "data": {
      "text/plain": [
       "tensor([[ 0,  7,  7,  7,  7,  7,  7,  7, 12,  7, 12,  7,  7,  7,  7, 12,  7,  7,\n",
       "          7,  7,  7,  7,  7,  7, 14,  7, 12,  7,  7,  7,  7, 12, 18, 12,  7,  7,\n",
       "          7,  7,  7,  7, 14,  7, 12,  7,  7,  7,  7,  7, 16,  7,  7, 16, 16, 18,\n",
       "          7,  7,  7, 12,  7, 18, 18,  7,  7,  7,  7,  7,  7,  8,  7,  8, 16,  7,\n",
       "          8,  7,  7,  7,  7,  7,  8,  7,  7,  7,  7,  7,  7,  7,  7,  8,  7,  7,\n",
       "          7,  8,  7,  7,  7,  7,  7,  7,  7,  7,  7,  7,  7,  7,  7,  8,  7,  7,\n",
       "          9,  7,  7,  7,  7,  7,  7,  8,  7,  7,  8,  7,  7,  7, 22, 25]])"
      ]
     },
     "execution_count": 13,
     "metadata": {},
     "output_type": "execute_result"
    }
   ],
   "source": [
    "tokenMAX = torch.max(torch.nn.Softmax(dim=-1)(tokenPreds), -1)\n",
    "tokenMAX[1]"
   ]
  },
  {
   "cell_type": "code",
   "execution_count": 14,
   "id": "f0e9c397-4390-4113-95b6-cab441723ec6",
   "metadata": {},
   "outputs": [],
   "source": [
    "masked_to_restore = '***LVESGPGLVQPGKSLRLSCVASGFTFSGYGMHWVRQAPGKGLEWIALIIYDESNKYYADSVKGRFTISRDNSKNTLYLQMSSLRAEDTAVFYCAKVKFYDPTAPND************'\n",
    "masked_to_restore = '<********************************GMHWVRQAPGKGLEWIALI*********ADSVKGRFTISRDNSKNTLYLQMSSLRA*********************************>|'"
   ]
  },
  {
   "cell_type": "code",
   "execution_count": 15,
   "id": "46e12cdf-a8d2-47aa-943a-15dc0a8eb71c",
   "metadata": {},
   "outputs": [
    {
     "data": {
      "text/plain": [
       "['>>>>>>>>>>>>>>>>>>>>>>>>>>>>>>>>>>W>Q>>>>>>>>>>D>>D>>>>>>>>>>Q<Q>>>>DD<>Q>>>>D>>>>>>>>>>>>>>>>>>>>>>>>>>>>>>>>>>>>>>>>>>>>']"
      ]
     },
     "execution_count": 15,
     "metadata": {},
     "output_type": "execute_result"
    }
   ],
   "source": [
    "with torch.no_grad():\n",
    "    tokenPreds = model1(tokenizer1([masked_to_restore], pad=True, w_extra_tkns=False, device='cpu'))\n",
    "    tokenMAX = torch.max(torch.nn.Softmax(dim=-1)(tokenPreds), -1)\n",
    "    masked_aaPreds = tokenizer1(tokenMAX[1], mode='decode')\n",
    "masked_aaPreds"
   ]
  },
  {
   "cell_type": "code",
   "execution_count": 16,
   "id": "bfbcbbd2-612d-41cf-aca9-9730422e5301",
   "metadata": {},
   "outputs": [
    {
     "name": "stdout",
     "output_type": "stream",
     "text": [
      "SSSSSSSGSGSSSSGSSSSSSSSASGSSSSGYGSSSSSSASGSSSSSISSIIYSSSGSYYSSSSSSTSTISTSSSSSTSSSSSSSSTSSSTSSSSSSSSSSSSSTSSNSSSSSSTSSTSSS>\n",
      "------------------------------------------------------------------------------------------------------------------------->\n",
      "<EVQLVESGPGLVQPGKSLRLSCVASGFTFSGYGMHWVRQAPGKGLEWIALIIYDESNKYYADSVKGRFTISRDNSKNTLYLQMSSLRAEDTAVFYCAKVKFYDPTAPNDYWGQGTLVTVSS>|\n"
     ]
    }
   ],
   "source": [
    "print(aaPreds[0])\n",
    "print(aaPreds50[0])\n",
    "print(seq_to_restore)"
   ]
  },
  {
   "cell_type": "code",
   "execution_count": null,
   "id": "589342d0-5c7b-4033-8fb7-528769197cdd",
   "metadata": {},
   "outputs": [],
   "source": []
  },
  {
   "cell_type": "code",
   "execution_count": null,
   "id": "75c8128d-b92e-4edf-8eef-c7784c9100ba",
   "metadata": {},
   "outputs": [],
   "source": []
  },
  {
   "cell_type": "code",
   "execution_count": 17,
   "id": "4ee99c1b-e59c-4680-a49b-0231a64434ed",
   "metadata": {},
   "outputs": [],
   "source": [
    "model = models.pretrained('../reports/models/ABLANG-621/')"
   ]
  }
 ],
 "metadata": {
  "kernelspec": {
   "display_name": "Python [conda env:ablang-train]",
   "language": "python",
   "name": "conda-env-ablang-train-py"
  },
  "language_info": {
   "codemirror_mode": {
    "name": "ipython",
    "version": 3
   },
   "file_extension": ".py",
   "mimetype": "text/x-python",
   "name": "python",
   "nbconvert_exporter": "python",
   "pygments_lexer": "ipython3",
   "version": "3.9.16"
  }
 },
 "nbformat": 4,
 "nbformat_minor": 5
}
