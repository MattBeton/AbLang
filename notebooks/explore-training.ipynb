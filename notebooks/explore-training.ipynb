{
 "cells": [
  {
   "cell_type": "code",
   "execution_count": 1,
   "id": "dee14605-52fd-4bd8-8e4a-817745ec0876",
   "metadata": {},
   "outputs": [
    {
     "name": "stderr",
     "output_type": "stream",
     "text": [
      "/data/iraqbabbler/olsen/miniconda3/envs/ablang-train/lib/python3.9/site-packages/neptune/internal/backends/hosted_client.py:50: NeptuneDeprecationWarning: The 'neptune-client' package has been deprecated and will be removed in the future. Install the 'neptune' package instead. For more, see https://docs.neptune.ai/setup/upgrading/\n",
      "  from neptune.version import version as neptune_client_version\n",
      "/data/iraqbabbler/olsen/miniconda3/envs/ablang-train/lib/python3.9/site-packages/pytorch_lightning/loggers/neptune.py:40: NeptuneDeprecationWarning: You're importing the Neptune client library via the deprecated `neptune.new` module, which will be removed in a future release. Import directly from `neptune` instead.\n",
      "  from neptune import new as neptune\n"
     ]
    }
   ],
   "source": [
    "%load_ext autoreload\n",
    "%autoreload 2\n",
    "\n",
    "import os, json\n",
    "import numpy as np\n",
    "import pandas as pd\n",
    "\n",
    "import torch\n",
    "import pytorch_lightning as pl\n",
    "\n",
    "from ablang_train import ABtokenizer, AbLang, TrainingFrame, CallbackHandler, AbDataModule, ablang_parse_args\n",
    "from ablang_train import models"
   ]
  },
  {
   "cell_type": "code",
   "execution_count": 2,
   "id": "ef315c04-28e7-46fa-adbb-c9266a837889",
   "metadata": {},
   "outputs": [
    {
     "data": {
      "text/plain": [
       "Namespace(name='paired_updataFT', json_args='../reports/model_arguments/05_paired_updataFineTune.json', n_encoder_blocks=6, hidden_embed_size=320, n_attn_heads=20, dropout=0.0, use_tkn_dropout=False, loss_fn='Focal_Loss', a_fn='swiglu', fl_gamma=2, use_moe=False, mask_percent=0.25, variable_masking=True, mask_technique='mix', change_percent=0.1, leave_percent=0.1, initializer_range=0.02, layer_norm_eps=1e-12, data_path='/data/nagagpu03/not-backed-up/nvme00/olsen/oas_data/nov2022-paired-all/', out_path='/data/iraqbabbler/olsen/Documents/projects/AbLang/model-catalogue/paired-ablang/train_ablang_pair/reports/models', eval_path='/vols/bitbucket/olsen/processed_oas_data/nov2022/nov2022-paired-all/', path_start_weights='/vols/bitbucket/olsen/models/ABLANG-529/', cpus=1, max_fit_batch_size=100, effective_batch_size=8192, num_training_steps=1000, warmup_steps=100, learning_rate=0.0001, cdr3_focus=1, weight_decay=0.01, adam_epsilon=1e-08, adam_betas=[0.9, 0.98], seed=42, eval_batch_size=100, over_sample_data=0, accelerator='cpu', devices=1, precision='32-true', val_check_interval=8100, log_every_n_steps=8100, enable_checkpointing=None, default_root_dir=None, pad_tkn=21, start_tkn=0, end_tkn=22, sep_tkn=25, mask_tkn=23, vocab_size=26, accumulate_grad_batches=81, train_batch_size=100, max_steps=1000)"
      ]
     },
     "execution_count": 2,
     "metadata": {},
     "output_type": "execute_result"
    }
   ],
   "source": [
    "# SET ARGUMENTS AND HPARAMS\n",
    "arguments = ablang_parse_args(args=[\"--json_args\", \"../reports/model_arguments/05_paired_updataFineTune.json\"])\n",
    "#arguments.model_specific_args.data_path = '/vols/bitbucket/olsen/processed_oas_data/nov2022/nov2022-paired-all/'# '../data/single_data/' #\n",
    "#arguments.model_specific_args.eval_path = '/vols/bitbucket/olsen/processed_oas_data/nov2022/nov2022-paired-all/'\n",
    "#arguments.model_specific_args.use_moe = False\n",
    "#arguments.model_specific_args.mask_technique = 'mix'\n",
    "#arguments.model_specific_args.change_percent = -1\n",
    "#arguments.model_specific_args.over_sample_data = 1\n",
    "#arguments.model_specific_args.variable_masking = True\n",
    "#arguments.model_specific_args.path_start_weights = \"/vols/bitbucket/olsen/models/ABLANG-529/\"\n",
    "arguments.model_specific_args"
   ]
  },
  {
   "cell_type": "code",
   "execution_count": 3,
   "id": "1b8d8ce2-a095-440f-90ef-915b86a64fa5",
   "metadata": {},
   "outputs": [],
   "source": [
    "callbacks = CallbackHandler(\n",
    "    save_step_frequency=arguments.model_specific_args.log_every_n_steps, \n",
    "    progress_refresh_rate=0, \n",
    "    outpath=arguments.model_specific_args.out_path\n",
    ")"
   ]
  },
  {
   "cell_type": "code",
   "execution_count": 4,
   "id": "6c44c612-7ea6-43e5-a584-66c91edacaef",
   "metadata": {},
   "outputs": [
    {
     "name": "stderr",
     "output_type": "stream",
     "text": [
      "Global seed set to 42\n"
     ]
    }
   ],
   "source": [
    "def enforce_reproducibility(seed=42):\n",
    "    # Sets seed manually for both CPU and CUDA\n",
    "    torch.manual_seed(seed)\n",
    "    # For atomic operations there is currently\n",
    "    # no simple way to enforce determinism, as\n",
    "    # the order of parallel operations is not known.\n",
    "    #\n",
    "    # CUDNN\n",
    "    torch.backends.cudnn.deterministic = True\n",
    "    torch.backends.cudnn.benchmark = False\n",
    "    # System based\n",
    "    np.random.seed(seed)\n",
    "    \n",
    "    pl.seed_everything(seed)\n",
    "    \n",
    "# SET SEED - IMPORTANT FOR MULTIPLE GPUS, OTHERWISE GOOD FOR REPRODUCIBILITY\n",
    "enforce_reproducibility(arguments.model_specific_args.seed)"
   ]
  },
  {
   "cell_type": "code",
   "execution_count": 5,
   "id": "531b297a-74e4-4488-91ad-bc3f53deaf8f",
   "metadata": {
    "tags": []
   },
   "outputs": [
    {
     "ename": "ValueError",
     "evalue": "num_samples should be a positive integer value, but got num_samples=0",
     "output_type": "error",
     "traceback": [
      "\u001b[0;31m---------------------------------------------------------------------------\u001b[0m",
      "\u001b[0;31mValueError\u001b[0m                                Traceback (most recent call last)",
      "Cell \u001b[0;32mIn[5], line 7\u001b[0m\n\u001b[1;32m      4\u001b[0m \u001b[38;5;66;03m# You are supposed to just be able to add abrep to the fit function, but it doesn't work when using multiple GPUs\u001b[39;00m\n\u001b[1;32m      5\u001b[0m ablang_dm\u001b[38;5;241m.\u001b[39msetup(\u001b[38;5;124m'\u001b[39m\u001b[38;5;124mfit\u001b[39m\u001b[38;5;124m'\u001b[39m)\n\u001b[0;32m----> 7\u001b[0m train \u001b[38;5;241m=\u001b[39m \u001b[43mablang_dm\u001b[49m\u001b[38;5;241;43m.\u001b[39;49m\u001b[43mtrain_dataloader\u001b[49m\u001b[43m(\u001b[49m\u001b[43m)\u001b[49m\n\u001b[1;32m      8\u001b[0m val \u001b[38;5;241m=\u001b[39m ablang_dm\u001b[38;5;241m.\u001b[39mval_dataloader()\n",
      "File \u001b[0;32m/data/iraqbabbler/olsen/Documents/projects/AbLang/model-catalogue/paired-ablang/train_ablang_pair/ablang_train/train_utils/datamodule.py:54\u001b[0m, in \u001b[0;36mAbDataModule.train_dataloader\u001b[0;34m(self)\u001b[0m\n\u001b[1;32m     53\u001b[0m \u001b[38;5;28;01mdef\u001b[39;00m \u001b[38;5;21mtrain_dataloader\u001b[39m(\u001b[38;5;28mself\u001b[39m):\n\u001b[0;32m---> 54\u001b[0m     \u001b[38;5;28;01mreturn\u001b[39;00m \u001b[43mDataLoader\u001b[49m\u001b[43m(\u001b[49m\u001b[38;5;28;43mself\u001b[39;49m\u001b[38;5;241;43m.\u001b[39;49m\u001b[43mtrain\u001b[49m\u001b[43m,\u001b[49m\n\u001b[1;32m     55\u001b[0m \u001b[43m                      \u001b[49m\u001b[43mbatch_size\u001b[49m\u001b[38;5;241;43m=\u001b[39;49m\u001b[38;5;28;43mself\u001b[39;49m\u001b[38;5;241;43m.\u001b[39;49m\u001b[43mdata_hparams\u001b[49m\u001b[38;5;241;43m.\u001b[39;49m\u001b[43mtrain_batch_size\u001b[49m\u001b[43m,\u001b[49m\n\u001b[1;32m     56\u001b[0m \u001b[43m                      \u001b[49m\u001b[43mcollate_fn\u001b[49m\u001b[38;5;241;43m=\u001b[39;49m\u001b[38;5;28;43mself\u001b[39;49m\u001b[38;5;241;43m.\u001b[39;49m\u001b[43mtraincollater\u001b[49m\u001b[43m,\u001b[49m\n\u001b[1;32m     57\u001b[0m \u001b[43m                      \u001b[49m\u001b[43mnum_workers\u001b[49m\u001b[38;5;241;43m=\u001b[39;49m\u001b[38;5;28;43mself\u001b[39;49m\u001b[38;5;241;43m.\u001b[39;49m\u001b[43mdata_hparams\u001b[49m\u001b[38;5;241;43m.\u001b[39;49m\u001b[43mcpus\u001b[49m\u001b[43m,\u001b[49m\n\u001b[1;32m     58\u001b[0m \u001b[43m                      \u001b[49m\u001b[43mshuffle\u001b[49m\u001b[38;5;241;43m=\u001b[39;49m\u001b[38;5;28;43;01mTrue\u001b[39;49;00m\u001b[43m,\u001b[49m\n\u001b[1;32m     59\u001b[0m \u001b[43m                      \u001b[49m\u001b[43mpin_memory\u001b[49m\u001b[38;5;241;43m=\u001b[39;49m\u001b[38;5;28;43;01mTrue\u001b[39;49;00m\u001b[43m,\u001b[49m\n\u001b[1;32m     60\u001b[0m \u001b[43m                     \u001b[49m\u001b[43m)\u001b[49m\n",
      "File \u001b[0;32m/data/iraqbabbler/olsen/miniconda3/envs/ablang-train/lib/python3.9/site-packages/torch/utils/data/dataloader.py:351\u001b[0m, in \u001b[0;36mDataLoader.__init__\u001b[0;34m(self, dataset, batch_size, shuffle, sampler, batch_sampler, num_workers, collate_fn, pin_memory, drop_last, timeout, worker_init_fn, multiprocessing_context, generator, prefetch_factor, persistent_workers, pin_memory_device)\u001b[0m\n\u001b[1;32m    349\u001b[0m \u001b[38;5;28;01melse\u001b[39;00m:  \u001b[38;5;66;03m# map-style\u001b[39;00m\n\u001b[1;32m    350\u001b[0m     \u001b[38;5;28;01mif\u001b[39;00m shuffle:\n\u001b[0;32m--> 351\u001b[0m         sampler \u001b[38;5;241m=\u001b[39m \u001b[43mRandomSampler\u001b[49m\u001b[43m(\u001b[49m\u001b[43mdataset\u001b[49m\u001b[43m,\u001b[49m\u001b[43m \u001b[49m\u001b[43mgenerator\u001b[49m\u001b[38;5;241;43m=\u001b[39;49m\u001b[43mgenerator\u001b[49m\u001b[43m)\u001b[49m  \u001b[38;5;66;03m# type: ignore[arg-type]\u001b[39;00m\n\u001b[1;32m    352\u001b[0m     \u001b[38;5;28;01melse\u001b[39;00m:\n\u001b[1;32m    353\u001b[0m         sampler \u001b[38;5;241m=\u001b[39m SequentialSampler(dataset)  \u001b[38;5;66;03m# type: ignore[arg-type]\u001b[39;00m\n",
      "File \u001b[0;32m/data/iraqbabbler/olsen/miniconda3/envs/ablang-train/lib/python3.9/site-packages/torch/utils/data/sampler.py:107\u001b[0m, in \u001b[0;36mRandomSampler.__init__\u001b[0;34m(self, data_source, replacement, num_samples, generator)\u001b[0m\n\u001b[1;32m    103\u001b[0m     \u001b[38;5;28;01mraise\u001b[39;00m \u001b[38;5;167;01mTypeError\u001b[39;00m(\u001b[38;5;124m\"\u001b[39m\u001b[38;5;124mreplacement should be a boolean value, but got \u001b[39m\u001b[38;5;124m\"\u001b[39m\n\u001b[1;32m    104\u001b[0m                     \u001b[38;5;124m\"\u001b[39m\u001b[38;5;124mreplacement=\u001b[39m\u001b[38;5;132;01m{}\u001b[39;00m\u001b[38;5;124m\"\u001b[39m\u001b[38;5;241m.\u001b[39mformat(\u001b[38;5;28mself\u001b[39m\u001b[38;5;241m.\u001b[39mreplacement))\n\u001b[1;32m    106\u001b[0m \u001b[38;5;28;01mif\u001b[39;00m \u001b[38;5;129;01mnot\u001b[39;00m \u001b[38;5;28misinstance\u001b[39m(\u001b[38;5;28mself\u001b[39m\u001b[38;5;241m.\u001b[39mnum_samples, \u001b[38;5;28mint\u001b[39m) \u001b[38;5;129;01mor\u001b[39;00m \u001b[38;5;28mself\u001b[39m\u001b[38;5;241m.\u001b[39mnum_samples \u001b[38;5;241m<\u001b[39m\u001b[38;5;241m=\u001b[39m \u001b[38;5;241m0\u001b[39m:\n\u001b[0;32m--> 107\u001b[0m     \u001b[38;5;28;01mraise\u001b[39;00m \u001b[38;5;167;01mValueError\u001b[39;00m(\u001b[38;5;124m\"\u001b[39m\u001b[38;5;124mnum_samples should be a positive integer \u001b[39m\u001b[38;5;124m\"\u001b[39m\n\u001b[1;32m    108\u001b[0m                      \u001b[38;5;124m\"\u001b[39m\u001b[38;5;124mvalue, but got num_samples=\u001b[39m\u001b[38;5;132;01m{}\u001b[39;00m\u001b[38;5;124m\"\u001b[39m\u001b[38;5;241m.\u001b[39mformat(\u001b[38;5;28mself\u001b[39m\u001b[38;5;241m.\u001b[39mnum_samples))\n",
      "\u001b[0;31mValueError\u001b[0m: num_samples should be a positive integer value, but got num_samples=0"
     ]
    }
   ],
   "source": [
    "# LOAD AND INITIATE DATA\n",
    "\n",
    "ablang_dm = AbDataModule(arguments.model_specific_args, ABtokenizer) \n",
    "# You are supposed to just be able to add abrep to the fit function, but it doesn't work when using multiple GPUs\n",
    "ablang_dm.setup('fit')\n",
    "\n",
    "train = ablang_dm.train_dataloader()\n",
    "val = ablang_dm.val_dataloader()"
   ]
  },
  {
   "cell_type": "code",
   "execution_count": null,
   "id": "6adac39a-585c-4686-bcfb-0b1f4f1393c0",
   "metadata": {
    "tags": []
   },
   "outputs": [],
   "source": [
    "for batch in train:\n",
    "    \n",
    "    print(batch['input'][0])\n",
    "    print(batch['labels'][:len(batch['input'][0])])\n",
    "    \n",
    "    print((batch['labels'][:len(batch['input'][0])] != -100).sum())\n",
    "    \n",
    "    break"
   ]
  },
  {
   "cell_type": "code",
   "execution_count": null,
   "id": "699061fd-1a72-4419-88d8-967958edfec8",
   "metadata": {},
   "outputs": [],
   "source": [
    "arguments.model_specific_args"
   ]
  },
  {
   "cell_type": "code",
   "execution_count": null,
   "id": "c8eb9960-b449-4402-bd0d-52b8d4b44631",
   "metadata": {
    "tags": []
   },
   "outputs": [],
   "source": [
    "# LOAD MODEL\n",
    "model = TrainingFrame(arguments.model_specific_args, AbLang, ABtokenizer)\n",
    "\n",
    "# INITIALISE TRAINER\n",
    "trainer = pl.Trainer(**arguments.trainer_args, callbacks=callbacks())"
   ]
  },
  {
   "cell_type": "code",
   "execution_count": null,
   "id": "e8f685fc-2ce0-49d3-8e0f-182c7100ed05",
   "metadata": {
    "tags": []
   },
   "outputs": [],
   "source": [
    "%%time\n",
    "trainer.fit(model, train_dataloaders=train, val_dataloaders=val)"
   ]
  },
  {
   "cell_type": "code",
   "execution_count": null,
   "id": "ab1a6926-56fd-4edf-a7d0-3c951180c131",
   "metadata": {},
   "outputs": [],
   "source": [
    "seq_to_restore = 'EVQLVESGPGLVQPGKSLRLSCVASGFTFSGYGMHWVRQAPGKGLEWIALIIYDESNKYYADSVKGRFTISRDNSKNTLYLQMSSLRAEDTAVFYCAKVKFYDPTAPNDYWGQGTLVTVSS|'"
   ]
  },
  {
   "cell_type": "code",
   "execution_count": null,
   "id": "b694fbdd-b88b-4166-ae86-71b44c484727",
   "metadata": {},
   "outputs": [],
   "source": [
    "model1 = model.ablang\n",
    "tokenizer1 = model.tokenizer\n",
    "\n",
    "with torch.no_grad():\n",
    "    tokenPreds = model1(tokenizer1([seq_to_restore], pad=True, w_extra_tkns=False, device='cpu'))\n",
    "\n",
    "tokenMAX = torch.max(torch.nn.Softmax(dim=-1)(tokenPreds), -1)\n",
    "\n",
    "aaPreds = tokenizer1(tokenMAX.indices, w_extra_tkns=False, mode='decode', device='cpu')\n",
    "\n",
    "unkMatrix = torch.zeros(tokenMAX[0].shape, dtype=torch.long, device='cpu') + 21\n",
    "\n",
    "aaPreds50 = ['-'.join(tokenizer1(torch.where(tokenMAX[0]<=.5, unkMatrix, tokenMAX[1]).detach(), w_extra_tkns=False, mode='decode')[0].split('<unk>'))]"
   ]
  },
  {
   "cell_type": "code",
   "execution_count": null,
   "id": "0bec6f54-86c3-491f-a5a2-1e4925da2186",
   "metadata": {},
   "outputs": [],
   "source": [
    "tokenPreds[0][2]"
   ]
  },
  {
   "cell_type": "code",
   "execution_count": null,
   "id": "8f73bc7a-c178-4b67-bb72-dbd090ff93d9",
   "metadata": {},
   "outputs": [],
   "source": [
    "tokenMAX = torch.max(torch.nn.Softmax(dim=-1)(tokenPreds), -1)\n",
    "tokenMAX[1]"
   ]
  },
  {
   "cell_type": "code",
   "execution_count": null,
   "id": "f0e9c397-4390-4113-95b6-cab441723ec6",
   "metadata": {},
   "outputs": [],
   "source": [
    "masked_to_restore = '***LVESGPGLVQPGKSLRLSCVASGFTFSGYGMHWVRQAPGKGLEWIALIIYDESNKYYADSVKGRFTISRDNSKNTLYLQMSSLRAEDTAVFYCAKVKFYDPTAPND************'\n",
    "masked_to_restore = '<********************************GMHWVRQAPGKGLEWIALI*********ADSVKGRFTISRDNSKNTLYLQMSSLRA*********************************>|'"
   ]
  },
  {
   "cell_type": "code",
   "execution_count": null,
   "id": "46e12cdf-a8d2-47aa-943a-15dc0a8eb71c",
   "metadata": {},
   "outputs": [],
   "source": [
    "with torch.no_grad():\n",
    "    tokenPreds = model1(tokenizer1([masked_to_restore], pad=True, w_extra_tkns=False, device='cpu'))\n",
    "    tokenMAX = torch.max(torch.nn.Softmax(dim=-1)(tokenPreds), -1)\n",
    "    masked_aaPreds = tokenizer1(tokenMAX[1], mode='decode')\n",
    "masked_aaPreds"
   ]
  },
  {
   "cell_type": "code",
   "execution_count": null,
   "id": "bfbcbbd2-612d-41cf-aca9-9730422e5301",
   "metadata": {},
   "outputs": [],
   "source": [
    "print(aaPreds[0])\n",
    "print(aaPreds50[0])\n",
    "print(seq_to_restore)"
   ]
  },
  {
   "cell_type": "code",
   "execution_count": null,
   "id": "589342d0-5c7b-4033-8fb7-528769197cdd",
   "metadata": {},
   "outputs": [],
   "source": []
  },
  {
   "cell_type": "code",
   "execution_count": null,
   "id": "75c8128d-b92e-4edf-8eef-c7784c9100ba",
   "metadata": {},
   "outputs": [],
   "source": []
  }
 ],
 "metadata": {
  "kernelspec": {
   "display_name": "Python [conda env:ablang-train]",
   "language": "python",
   "name": "conda-env-ablang-train-py"
  },
  "language_info": {
   "codemirror_mode": {
    "name": "ipython",
    "version": 3
   },
   "file_extension": ".py",
   "mimetype": "text/x-python",
   "name": "python",
   "nbconvert_exporter": "python",
   "pygments_lexer": "ipython3",
   "version": "3.9.16"
  }
 },
 "nbformat": 4,
 "nbformat_minor": 5
}
