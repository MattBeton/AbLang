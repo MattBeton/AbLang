{
 "cells": [
  {
   "cell_type": "code",
   "execution_count": 1,
   "id": "dee14605-52fd-4bd8-8e4a-817745ec0876",
   "metadata": {},
   "outputs": [
    {
     "name": "stderr",
     "output_type": "stream",
     "text": [
      "/data/iraqbabbler/olsen/miniconda3/envs/ablang-train/lib/python3.9/site-packages/tqdm/auto.py:22: TqdmWarning: IProgress not found. Please update jupyter and ipywidgets. See https://ipywidgets.readthedocs.io/en/stable/user_install.html\n",
      "  from .autonotebook import tqdm as notebook_tqdm\n"
     ]
    }
   ],
   "source": [
    "%load_ext autoreload\n",
    "%autoreload 2\n",
    "\n",
    "import os\n",
    "import numpy as np\n",
    "import pandas as pd\n",
    "\n",
    "import torch\n",
    "import pytorch_lightning as pl\n",
    "\n",
    "from ablang_train import ABtokenizer, AbLang, TrainingFrame, CallbackHandler, AbDataModule, ablang_parse_args"
   ]
  },
  {
   "cell_type": "code",
   "execution_count": 2,
   "id": "1b8d8ce2-a095-440f-90ef-915b86a64fa5",
   "metadata": {},
   "outputs": [],
   "source": [
    "def set_neptune_logger(args):\n",
    "    \"\"\"\n",
    "    Initialize Neptune logger\n",
    "    \"\"\"\n",
    "\n",
    "    neptune_args = { 'api_key':\"eyJhcGlfYWRkcmVzcyI6Imh0dHBzOi8vYXBwLm5lcHR1bmUuYWkiLCJhcGlfdXJsIjoiaHR0cHM6Ly9hcHAubmVwdHVuZS5haSIsImFwaV9rZXkiOiI0N2Y2YmIxMS02OWM3LTRhY2MtYTQxOC0xODU5N2E0ODFmMzEifQ==\",\n",
    "    'project':\"tobiasheol/AbLangTraining\",\n",
    "    'name':args.name,\n",
    "    'log_model_checkpoints':False,\n",
    "    }\n",
    "\n",
    "    return pl.loggers.neptune.NeptuneLogger(**neptune_args)"
   ]
  },
  {
   "cell_type": "code",
   "execution_count": 3,
   "id": "620992d1-78f5-4ddf-8318-189131fe4e1a",
   "metadata": {},
   "outputs": [
    {
     "ename": "TypeError",
     "evalue": "int() argument must be a string, a bytes-like object or a number, not 'NoneType'",
     "output_type": "error",
     "traceback": [
      "\u001b[0;31m---------------------------------------------------------------------------\u001b[0m",
      "\u001b[0;31mTypeError\u001b[0m                                 Traceback (most recent call last)",
      "Cell \u001b[0;32mIn[3], line 2\u001b[0m\n\u001b[1;32m      1\u001b[0m \u001b[38;5;66;03m# SET ARGUMENTS AND HPARAMS\u001b[39;00m\n\u001b[0;32m----> 2\u001b[0m arguments \u001b[38;5;241m=\u001b[39m \u001b[43mablang_parse_args\u001b[49m\u001b[43m(\u001b[49m\u001b[43margs\u001b[49m\u001b[38;5;241;43m=\u001b[39;49m\u001b[38;5;124;43m\"\u001b[39;49m\u001b[38;5;124;43m\"\u001b[39;49m\u001b[43m,\u001b[49m\u001b[43m \u001b[49m\u001b[43mis_test\u001b[49m\u001b[38;5;241;43m=\u001b[39;49m\u001b[38;5;28;43;01mTrue\u001b[39;49;00m\u001b[43m)\u001b[49m\n\u001b[1;32m      4\u001b[0m arguments\u001b[38;5;241m.\u001b[39mmodel_specific_args\u001b[38;5;241m.\u001b[39mn_encoder_blocks \u001b[38;5;241m=\u001b[39m \u001b[38;5;241m1\u001b[39m\n\u001b[1;32m      5\u001b[0m arguments\u001b[38;5;241m.\u001b[39mmodel_specific_args\u001b[38;5;241m.\u001b[39mhidden_embed_size \u001b[38;5;241m=\u001b[39m \u001b[38;5;241m64\u001b[39m\n",
      "File \u001b[0;32m/data/iraqbabbler/olsen/Documents/projects/AbLang/model-catalogue/paired-ablang/train_ablang_pair/ablang_train/train_utils/arghandler.py:27\u001b[0m, in \u001b[0;36mablang_parse_args\u001b[0;34m(args, is_test)\u001b[0m\n\u001b[1;32m     25\u001b[0m parser \u001b[38;5;241m=\u001b[39m pl\u001b[38;5;241m.\u001b[39mTrainer\u001b[38;5;241m.\u001b[39madd_argparse_args(parser)\n\u001b[1;32m     26\u001b[0m args \u001b[38;5;241m=\u001b[39m parser\u001b[38;5;241m.\u001b[39mparse_args(args)\n\u001b[0;32m---> 27\u001b[0m args\u001b[38;5;241m.\u001b[39mdevices \u001b[38;5;241m=\u001b[39m \u001b[38;5;28;43mint\u001b[39;49m\u001b[43m(\u001b[49m\u001b[43margs\u001b[49m\u001b[38;5;241;43m.\u001b[39;49m\u001b[43mdevices\u001b[49m\u001b[43m)\u001b[49m\n\u001b[1;32m     29\u001b[0m arguments \u001b[38;5;241m=\u001b[39m PrepareArguments(args, is_test)()\n\u001b[1;32m     31\u001b[0m \u001b[38;5;28;01mreturn\u001b[39;00m arguments\n",
      "\u001b[0;31mTypeError\u001b[0m: int() argument must be a string, a bytes-like object or a number, not 'NoneType'"
     ]
    }
   ],
   "source": [
    "# SET ARGUMENTS AND HPARAMS\n",
    "arguments = ablang_parse_args(args=\"\", is_test=True)\n",
    "\n",
    "arguments.model_specific_args.n_encoder_blocks = 1\n",
    "arguments.model_specific_args.hidden_embed_size = 64\n",
    "arguments.model_specific_args.n_attn_heads = 8\n",
    "arguments.model_specific_args.over_sample_data = 0\n",
    "arguments.model_specific_args.cpus = 4\n",
    "arguments.model_specific_args.data_path = '../data/single_data/' #'/vols/bitbucket/olsen/processed_oas_data/AbData-nov2022/' #\n",
    "arguments.model_specific_args.train_batch_size = 1000\n",
    "arguments.model_specific_args.accumulate_grad_batches = 2\n",
    "arguments.model_specific_args.effective_batch_size = 1000\n",
    "arguments.model_specific_args.eval_batch_size = 1\n",
    "arguments.model_specific_args.val_check_interval = 10\n",
    "arguments.model_specific_args.use_tkn_dropout = False\n",
    "arguments.model_specific_args.learning_rate = 4e-02 #4e-04\n",
    "#arguments.model_specific_args.out_path = #set path\n",
    "\n",
    "arguments.trainer_args['logger'] = set_neptune_logger(arguments.model_specific_args)\n",
    "arguments.trainer_args['log_every_n_steps'] = 1\n",
    "\n",
    "\n",
    "callbacks = CallbackHandler(save_step_frequency=1, \n",
    "                                progress_refresh_rate=0, \n",
    "                                outpath=arguments.model_specific_args.out_path)"
   ]
  },
  {
   "cell_type": "code",
   "execution_count": null,
   "id": "6c44c612-7ea6-43e5-a584-66c91edacaef",
   "metadata": {},
   "outputs": [],
   "source": [
    "def enforce_reproducibility(seed=42):\n",
    "    # Sets seed manually for both CPU and CUDA\n",
    "    torch.manual_seed(seed)\n",
    "    # For atomic operations there is currently\n",
    "    # no simple way to enforce determinism, as\n",
    "    # the order of parallel operations is not known.\n",
    "    #\n",
    "    # CUDNN\n",
    "    torch.backends.cudnn.deterministic = True\n",
    "    torch.backends.cudnn.benchmark = False\n",
    "    # System based\n",
    "    np.random.seed(seed)\n",
    "    \n",
    "    pl.seed_everything(seed)\n",
    "    \n",
    "# SET SEED - IMPORTANT FOR MULTIPLE GPUS, OTHERWISE GOOD FOR REPRODUCIBILITY\n",
    "enforce_reproducibility(arguments.model_specific_args.seed)"
   ]
  },
  {
   "cell_type": "code",
   "execution_count": null,
   "id": "531b297a-74e4-4488-91ad-bc3f53deaf8f",
   "metadata": {
    "tags": []
   },
   "outputs": [],
   "source": [
    "# LOAD AND INITIATE DATA\n",
    "arguments.model_specific_args.mask_technique = 'random'\n",
    "\n",
    "ablang_dm = AbDataModule(arguments.model_specific_args, ABtokenizer) \n",
    "# You are supposed to just be able to add abrep to the fit function, but it doesn't work when using multiple GPUs\n",
    "ablang_dm.setup('fit')\n",
    "\n",
    "train = ablang_dm.train_dataloader()\n",
    "val = ablang_dm.val_dataloader()"
   ]
  },
  {
   "cell_type": "code",
   "execution_count": null,
   "id": "6adac39a-585c-4686-bcfb-0b1f4f1393c0",
   "metadata": {
    "tags": []
   },
   "outputs": [],
   "source": [
    "for batch in train:\n",
    "    \n",
    "    print(batch['input'][0])\n",
    "    print(batch['labels'][:len(batch['input'][0])])\n",
    "    break"
   ]
  },
  {
   "cell_type": "code",
   "execution_count": null,
   "id": "c8eb9960-b449-4402-bd0d-52b8d4b44631",
   "metadata": {},
   "outputs": [],
   "source": [
    "# LOAD MODEL\n",
    "model = TrainingFrame(arguments.model_specific_args, AbLang, ABtokenizer)\n",
    "\n",
    "# INITIALISE TRAINER\n",
    "trainer = pl.Trainer(**arguments.trainer_args, callbacks=callbacks())"
   ]
  },
  {
   "cell_type": "code",
   "execution_count": null,
   "id": "f6a31d9e-6cba-473a-af89-c4c0b184e3ab",
   "metadata": {
    "tags": []
   },
   "outputs": [],
   "source": [
    "trainer.fit(model, train, val)"
   ]
  },
  {
   "cell_type": "code",
   "execution_count": null,
   "id": "dfc3f3a2-5b66-4df2-9636-ee98d8076eee",
   "metadata": {},
   "outputs": [],
   "source": []
  },
  {
   "cell_type": "code",
   "execution_count": null,
   "id": "ab1a6926-56fd-4edf-a7d0-3c951180c131",
   "metadata": {},
   "outputs": [],
   "source": [
    "seq_to_restore = '<EVQLVESGPGLVQPGKSLRLSCVASGFTFSGYGMHWVRQAPGKGLEWIALIIYDESNKYYADSVKGRFTISRDNSKNTLYLQMSSLRAEDTAVFYCAKVKFYDPTAPNDYWGQGTLVTVSS>|'"
   ]
  },
  {
   "cell_type": "code",
   "execution_count": null,
   "id": "b694fbdd-b88b-4166-ae86-71b44c484727",
   "metadata": {},
   "outputs": [],
   "source": [
    "model1 = model.ablang\n",
    "tokenizer1 = model.tokenizer\n",
    "\n",
    "with torch.no_grad():\n",
    "    tokenPreds = model1(tokenizer1([seq_to_restore], pad=True, add_extra_tkns=False, device='cpu'))\n",
    "\n",
    "tokenMAX = torch.max(torch.nn.Softmax(dim=-1)(tokenPreds), -1)\n",
    "\n",
    "aaPreds = tokenizer1(tokenMAX[1], encode=False)\n",
    "\n",
    "unkMatrix = torch.zeros(tokenMAX[0].shape, dtype=torch.long, device='cpu') + 21\n",
    "\n",
    "aaPreds50 = ['-'.join(tokenizer1(torch.where(tokenMAX[0]<=.5, unkMatrix, tokenMAX[1]).detach(), encode=False)[0].split('<unk>'))]"
   ]
  },
  {
   "cell_type": "code",
   "execution_count": null,
   "id": "0bec6f54-86c3-491f-a5a2-1e4925da2186",
   "metadata": {},
   "outputs": [],
   "source": [
    "tokenPreds[0][2]"
   ]
  },
  {
   "cell_type": "code",
   "execution_count": null,
   "id": "8f73bc7a-c178-4b67-bb72-dbd090ff93d9",
   "metadata": {},
   "outputs": [],
   "source": [
    "tokenMAX = torch.max(torch.nn.Softmax(dim=-1)(tokenPreds), -1)\n",
    "tokenMAX[1]"
   ]
  },
  {
   "cell_type": "code",
   "execution_count": null,
   "id": "f0e9c397-4390-4113-95b6-cab441723ec6",
   "metadata": {},
   "outputs": [],
   "source": [
    "masked_to_restore = '***LVESGPGLVQPGKSLRLSCVASGFTFSGYGMHWVRQAPGKGLEWIALIIYDESNKYYADSVKGRFTISRDNSKNTLYLQMSSLRAEDTAVFYCAKVKFYDPTAPND************'\n",
    "masked_to_restore = '<********************************GMHWVRQAPGKGLEWIALI*********ADSVKGRFTISRDNSKNTLYLQMSSLRA*********************************>|'"
   ]
  },
  {
   "cell_type": "code",
   "execution_count": null,
   "id": "46e12cdf-a8d2-47aa-943a-15dc0a8eb71c",
   "metadata": {},
   "outputs": [],
   "source": [
    "with torch.no_grad():\n",
    "    tokenPreds = model1(tokenizer1([masked_to_restore], pad=True, add_extra_tkns=False, device='cpu'))\n",
    "    tokenMAX = torch.max(torch.nn.Softmax(dim=-1)(tokenPreds), -1)\n",
    "    masked_aaPreds = tokenizer1(tokenMAX[1], encode=False)\n",
    "masked_aaPreds"
   ]
  },
  {
   "cell_type": "code",
   "execution_count": null,
   "id": "bfbcbbd2-612d-41cf-aca9-9730422e5301",
   "metadata": {},
   "outputs": [],
   "source": [
    "print(aaPreds[0])\n",
    "print(aaPreds50[0])\n",
    "print(seq_to_restore)"
   ]
  },
  {
   "cell_type": "code",
   "execution_count": null,
   "id": "589342d0-5c7b-4033-8fb7-528769197cdd",
   "metadata": {},
   "outputs": [],
   "source": []
  }
 ],
 "metadata": {
  "kernelspec": {
   "display_name": "ablang-train",
   "language": "python",
   "name": "ablang-train"
  },
  "language_info": {
   "codemirror_mode": {
    "name": "ipython",
    "version": 3
   },
   "file_extension": ".py",
   "mimetype": "text/x-python",
   "name": "python",
   "nbconvert_exporter": "python",
   "pygments_lexer": "ipython3",
   "version": "3.9.15"
  }
 },
 "nbformat": 4,
 "nbformat_minor": 5
}
